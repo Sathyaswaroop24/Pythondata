{
 "cells": [
  {
   "cell_type": "markdown",
   "id": "063ab3b9-4cfd-48df-870c-a8d111ed45e6",
   "metadata": {},
   "source": [
    "# Day 4: Control Flow"
   ]
  },
  {
   "cell_type": "code",
   "execution_count": 18,
   "id": "8ee60864-4e20-424a-a754-f6b673c10277",
   "metadata": {
    "tags": []
   },
   "outputs": [],
   "source": [
    "# Import labraries\n",
    "import urllib.request\n",
    "from io import BytesIO"
   ]
  },
  {
   "cell_type": "code",
   "execution_count": 19,
   "id": "4b1fe42c-696d-44a6-b41b-15197fe95146",
   "metadata": {},
   "outputs": [],
   "source": [
    "imageUrl = \"https://blogger.googleusercontent.com/img/b/R29vZ2xl/AVvXsEj2zXbuCACzfYCQqAXDxiKcWjiH3gojlltHtV7XN9D-dPhiP9M4YYnBo0exWeAYANa-U4IuW5-TGvAVkKz86c7DpweWcnROrDYNuK4AjIAlw2bguqUY5KwEj-Qmr0EvIRpihEfankorurHuleF7dtEuDxprJ9kSbvHOQ7ZlvVTbY-TS5H0KjEQ4EWi8FCU/s1600/pythonlogo.png\""
   ]
  },
  {
   "cell_type": "code",
   "execution_count": 20,
   "id": "d27ad84c-bbd5-4a74-b334-15f3149f924a",
   "metadata": {},
   "outputs": [
    {
     "data": {
      "image/png": "[encoded data removed]",
      "text/plain": [
       "<PIL.PngImagePlugin.PngImageFile image mode=RGB size=269x274>"
      ]
     },
     "metadata": {},
     "output_type": "display_data"
    }
   ],
   "source": [
    "with urllib.request.urlopen(imageUrl) as url:\n",
    "    img = Image.open(BytesIO(url.read()))\n",
    "\n",
    "display(img)"
   ]
  },
  {
   "cell_type": "code",
   "execution_count": null,
   "id": "e9c53e2b-bde3-4ed4-9dba-b8820deb1849",
   "metadata": {},
   "outputs": [],
   "source": []
  },
  {
   "cell_type": "code",
   "execution_count": null,
   "id": "21e6c0b5-ed70-41d0-9db8-9b2b19e2b296",
   "metadata": {},
   "outputs": [],
   "source": []
  },
  {
   "cell_type": "code",
   "execution_count": null,
   "id": "ecbc08d4-982b-4001-b620-a8d30d9ae6eb",
   "metadata": {},
   "outputs": [],
   "source": []
  },
  {
   "cell_type": "markdown",
   "id": "341944cd-55c1-43a6-9c71-ea0110511271",
   "metadata": {},
   "source": [
    "# `if` statement"
   ]
  },
  {
   "cell_type": "markdown",
   "id": "5e94a770-3752-4e98-8e8e-f27c8f7b8d98",
   "metadata": {},
   "source": [
    "#### Syntax\n",
    "```\n",
    "if expression:\n",
    "    statment(s)\n",
    "```"
   ]
  },
  {
   "cell_type": "code",
   "execution_count": 2,
   "id": "e6b4a83f-2879-4f8a-8c18-6b0485597567",
   "metadata": {},
   "outputs": [],
   "source": [
    "condition = True\n",
    "if condition == True:\n",
    "    # do somthing\n",
    "    pass\n",
    "    "
   ]
  },
  {
   "cell_type": "code",
   "execution_count": null,
   "id": "b01a2c01-a08d-4cf9-a768-4570674d58b0",
   "metadata": {},
   "outputs": [],
   "source": []
  },
  {
   "cell_type": "code",
   "execution_count": 3,
   "id": "5c996213-256d-4475-8486-928ad7a85903",
   "metadata": {},
   "outputs": [
    {
     "name": "stdout",
     "output_type": "stream",
     "text": [
      "The condition\n",
      "was true\n"
     ]
    }
   ],
   "source": [
    "condition = True\n",
    "if condition == True:\n",
    "    print(\"The condition\")\n",
    "    print(\"was true\")"
   ]
  },
  {
   "cell_type": "code",
   "execution_count": null,
   "id": "db38329f-3205-4dc0-b5d7-d6fc0eeb0b5e",
   "metadata": {},
   "outputs": [],
   "source": []
  },
  {
   "cell_type": "code",
   "execution_count": 4,
   "id": "7f7d53ba-5d03-432f-8826-9a58275588ea",
   "metadata": {},
   "outputs": [
    {
     "name": "stdout",
     "output_type": "stream",
     "text": [
      "The condition\n",
      "was true\n",
      "Outside of the if\n"
     ]
    }
   ],
   "source": [
    "condition = True\n",
    "if condition == True:\n",
    "    print(\"The condition\")\n",
    "    print(\"was true\")\n",
    "print(\"Outside of the if\")"
   ]
  },
  {
   "cell_type": "code",
   "execution_count": null,
   "id": "c8cc1d38-e5e6-43be-beb8-aed9f86b049d",
   "metadata": {},
   "outputs": [],
   "source": []
  },
  {
   "cell_type": "markdown",
   "id": "e4d64881-e7ae-4848-89c6-0159129d39ad",
   "metadata": {},
   "source": [
    "# `if`-`else` Statements"
   ]
  },
  {
   "cell_type": "code",
   "execution_count": 8,
   "id": "c4ce5146-e2e7-4b06-b8f4-c496d323fb59",
   "metadata": {},
   "outputs": [
    {
     "name": "stdout",
     "output_type": "stream",
     "text": [
      "The condition\n",
      "was True\n"
     ]
    }
   ],
   "source": [
    "condition = True\n",
    "if condition == True:\n",
    "    print(\"The condition\")\n",
    "    print(\"was True\")\n",
    "else:\n",
    "    print(\"The condition\")\n",
    "    print(\"was False\")"
   ]
  },
  {
   "cell_type": "code",
   "execution_count": null,
   "id": "171a1687-40ea-441b-93f5-0f8f50c4d90d",
   "metadata": {},
   "outputs": [],
   "source": []
  },
  {
   "cell_type": "code",
   "execution_count": null,
   "id": "5aca7857-8328-4222-9d6a-7bb6231acf48",
   "metadata": {},
   "outputs": [],
   "source": []
  },
  {
   "cell_type": "code",
   "execution_count": 2,
   "id": "2ccaf6b4-89cc-4873-b42a-755fac6410db",
   "metadata": {},
   "outputs": [
    {
     "name": "stdout",
     "output_type": "stream",
     "text": [
      "variables has value\n"
     ]
    }
   ],
   "source": [
    "var1 = 100\n",
    "if var1:\n",
    "    print('variables has value')"
   ]
  },
  {
   "cell_type": "code",
   "execution_count": null,
   "id": "0994665f-b319-4e4d-af6f-be23e46b34fd",
   "metadata": {},
   "outputs": [],
   "source": []
  },
  {
   "cell_type": "code",
   "execution_count": null,
   "id": "8e44cab9-91a7-4f0f-b949-9d61f2f9cade",
   "metadata": {},
   "outputs": [],
   "source": []
  },
  {
   "cell_type": "code",
   "execution_count": 3,
   "id": "333ac098-01e6-4fdf-acdb-a8f5a85a47a0",
   "metadata": {},
   "outputs": [
    {
     "name": "stdout",
     "output_type": "stream",
     "text": [
      "variable 2 has value\n",
      "2\n"
     ]
    }
   ],
   "source": [
    "var2 = 2\n",
    "if var2:\n",
    "    print('variable 2 has value')\n",
    "    print(var2)"
   ]
  },
  {
   "cell_type": "code",
   "execution_count": null,
   "id": "f46f0ec2-c572-48b8-b2e5-7dd350f9e2da",
   "metadata": {},
   "outputs": [],
   "source": []
  },
  {
   "cell_type": "code",
   "execution_count": null,
   "id": "50c5ca46-5cc1-4b11-b81e-242838f19ad9",
   "metadata": {},
   "outputs": [],
   "source": []
  },
  {
   "cell_type": "code",
   "execution_count": 32,
   "id": "4a0dfb80-d358-43be-9c8e-dc5f15db4fca",
   "metadata": {
    "tags": []
   },
   "outputs": [
    {
     "name": "stdin",
     "output_type": "stream",
     "text": [
      "Please enter an integer:  -300\n"
     ]
    }
   ],
   "source": [
    "# Check Enter Number is positive or negative or zero\n",
    "number = int(input(\"Please enter an integer: \"))"
   ]
  },
  {
   "cell_type": "code",
   "execution_count": 33,
   "id": "812a5b2e-bc6e-4371-bcd5-7b0ade6dd009",
   "metadata": {
    "tags": []
   },
   "outputs": [
    {
     "data": {
      "text/plain": [
       "-300"
      ]
     },
     "execution_count": 33,
     "metadata": {},
     "output_type": "execute_result"
    }
   ],
   "source": [
    "number"
   ]
  },
  {
   "cell_type": "code",
   "execution_count": 34,
   "id": "909587eb-934b-4fc2-93f1-b697f610670f",
   "metadata": {
    "tags": []
   },
   "outputs": [
    {
     "name": "stdout",
     "output_type": "stream",
     "text": [
      "Entered number is negative : -300\n"
     ]
    }
   ],
   "source": [
    "if number < 0:\n",
    "    print(f\"Entered number is negative : {number}\")\n",
    "if number > 0:\n",
    "    print(\"Entered number is Positive : \" + str(number))\n",
    "if number == 0:\n",
    "    print(\"Entered number is Zero\")"
   ]
  },
  {
   "cell_type": "code",
   "execution_count": null,
   "id": "1077a9ef-3102-45d4-915a-f8b2404a7414",
   "metadata": {},
   "outputs": [],
   "source": []
  },
  {
   "cell_type": "code",
   "execution_count": null,
   "id": "af0d7d17-6e47-4afc-99f6-27bf36604832",
   "metadata": {},
   "outputs": [],
   "source": []
  },
  {
   "cell_type": "code",
   "execution_count": null,
   "id": "5ed27663-330a-4b6d-a85d-8ecb08d1bc2c",
   "metadata": {},
   "outputs": [],
   "source": []
  },
  {
   "cell_type": "code",
   "execution_count": null,
   "id": "166d7187-a0cf-43ca-8019-ce39035f2d85",
   "metadata": {},
   "outputs": [],
   "source": []
  },
  {
   "cell_type": "markdown",
   "id": "0bd5f483-e8b4-415e-b9b2-610ffe745097",
   "metadata": {},
   "source": [
    "# `if`-`else`-`elif` statement"
   ]
  },
  {
   "cell_type": "markdown",
   "id": "f0a6f42c-94fe-4f70-b4a3-38baade7d102",
   "metadata": {},
   "source": [
    "# Syntax\n",
    "```\n",
    "if expression:\n",
    "   statement(s)\n",
    "\n",
    "else:\n",
    "   statement(s)\n",
    "```"
   ]
  },
  {
   "cell_type": "code",
   "execution_count": null,
   "id": "07e28729-b4ae-48e4-9909-a61efae3546f",
   "metadata": {},
   "outputs": [],
   "source": []
  },
  {
   "cell_type": "code",
   "execution_count": 7,
   "id": "364c93d9-e607-4d40-a41c-9dc664a9fa00",
   "metadata": {},
   "outputs": [
    {
     "name": "stdout",
     "output_type": "stream",
     "text": [
      "The condition\n",
      "was True\n"
     ]
    }
   ],
   "source": [
    "condition = True\n",
    "name = \"Codelocked\"\n",
    "if condition == True:\n",
    "    print(\"The condition\")\n",
    "    print(\"was True\")\n",
    "elif name == \"Codelocked\":\n",
    "    print(\"Hello Codelocked\")\n",
    "else:\n",
    "    print(\"The condition\")\n",
    "    print(\"was False\")"
   ]
  },
  {
   "cell_type": "code",
   "execution_count": null,
   "id": "a52b32f3-0498-46dd-afba-0442adc0de51",
   "metadata": {},
   "outputs": [],
   "source": []
  },
  {
   "cell_type": "code",
   "execution_count": 9,
   "id": "9b7f26b6-0333-47a3-a23d-a80006a03cfb",
   "metadata": {},
   "outputs": [
    {
     "name": "stdout",
     "output_type": "stream",
     "text": [
      "The condition\n",
      "was True\n"
     ]
    }
   ],
   "source": [
    "condition = True\n",
    "name = \"Codelocked\"\n",
    "if condition == True:\n",
    "    print(\"The condition\")\n",
    "    print(\"was True\")\n",
    "elif name == \"Codelocked\":\n",
    "    print(\"Hello Codelocked\")\n",
    "elif name == \"code\":\n",
    "    print(\"Hello code\")\n",
    "elif name == \"locked\":\n",
    "    print(\"Hello locked\")\n",
    "else:\n",
    "    print(\"The condition\")\n",
    "    print(\"was False\")"
   ]
  },
  {
   "cell_type": "code",
   "execution_count": 11,
   "id": "d8e1a9d2-a00a-4e70-960e-7a9e6702d2e0",
   "metadata": {},
   "outputs": [
    {
     "name": "stdout",
     "output_type": "stream",
     "text": [
      "3\n"
     ]
    }
   ],
   "source": [
    "a =2\n",
    "result = 2 if a == 0 else 3\n",
    "print(result)"
   ]
  },
  {
   "cell_type": "code",
   "execution_count": null,
   "id": "5fbecc31-526b-46dd-af87-b2868d19accd",
   "metadata": {},
   "outputs": [],
   "source": []
  },
  {
   "cell_type": "code",
   "execution_count": null,
   "id": "8d399e22-d7f0-46c3-b687-f26c87fbdcd1",
   "metadata": {},
   "outputs": [],
   "source": []
  },
  {
   "cell_type": "code",
   "execution_count": 37,
   "id": "5b690722-92cd-4357-b103-0e0a1110d65c",
   "metadata": {
    "tags": []
   },
   "outputs": [
    {
     "name": "stdout",
     "output_type": "stream",
     "text": [
      "Entered number is negative : -300 \n"
     ]
    }
   ],
   "source": [
    "# Code imporved with if-else-elif statemnets\n",
    "if number < 0:\n",
    "    print(\"Entered number is negative : %s \" % number)\n",
    "elif number > 0:\n",
    "    print(\"Entered number is Positive : \" + str(number))\n",
    "else:\n",
    "    print(\"Entered number is Zero\")"
   ]
  },
  {
   "cell_type": "code",
   "execution_count": null,
   "id": "6855f739-1adc-4506-9a16-8b3288769a1b",
   "metadata": {},
   "outputs": [],
   "source": []
  },
  {
   "cell_type": "code",
   "execution_count": 9,
   "id": "5cb02ac6-2593-4161-8414-3948e89754dd",
   "metadata": {},
   "outputs": [
    {
     "name": "stdin",
     "output_type": "stream",
     "text": [
      "Enter the amount :  10023.4\n"
     ]
    }
   ],
   "source": [
    "# Discount in shop program\n",
    "amount = float(input(\"Enter the amount : \"))"
   ]
  },
  {
   "cell_type": "code",
   "execution_count": 23,
   "id": "c56d8af2-ad70-4028-9b69-8065b0a5368a",
   "metadata": {},
   "outputs": [
    {
     "name": "stdout",
     "output_type": "stream",
     "text": [
      "********************\n",
      "JAI MAA DURGA SHOP\n",
      "********************\n",
      "\n",
      "\n",
      "\n",
      "\n",
      "====================\n",
      "Discount.  : 1002.34\n",
      "Net payable: 9021.06\n",
      "********************\n"
     ]
    }
   ],
   "source": [
    "if amount < 1000:\n",
    "    discount = amount * 0.05\n",
    "else:\n",
    "    discount = amount * 0.10\n",
    "    \n",
    "print('*'*20)\n",
    "print('JAI MAA DURGA SHOP')\n",
    "print('*'*20)\n",
    "print('');print('');print('');print('')\n",
    "print('='*20)\n",
    "print(\"Discount.  :\", discount)\n",
    "print(\"Net payable:\", amount - discount)\n",
    "print('*'*20)"
   ]
  },
  {
   "cell_type": "code",
   "execution_count": null,
   "id": "552da711-7af1-4774-a150-6abc6e5e3b6b",
   "metadata": {},
   "outputs": [],
   "source": [
    "# Write a program for calculator "
   ]
  },
  {
   "cell_type": "code",
   "execution_count": null,
   "id": "35278ef4-d27b-4b4a-93bd-3798124fcd0e",
   "metadata": {},
   "outputs": [],
   "source": []
  },
  {
   "cell_type": "markdown",
   "id": "81a83377-aa7f-44e7-a396-4a27123ff192",
   "metadata": {},
   "source": [
    "# Nested `if-else` statements"
   ]
  },
  {
   "cell_type": "markdown",
   "id": "e79c9df7-e3a6-4927-a170-57ab37d75996",
   "metadata": {},
   "source": [
    "#### Syntax\n",
    "```\n",
    "if expression1:\n",
    "   statement(s)\n",
    "   if expression2:\n",
    "      statement(s)\n",
    "   elif expression3:\n",
    "      statement(s)\n",
    "   else\n",
    "      statement(s)\n",
    "elif expression4:\n",
    "   statement(s)\n",
    "else:\n",
    "   statement(s)\n",
    "```"
   ]
  },
  {
   "cell_type": "code",
   "execution_count": 4,
   "id": "d744112a-efc3-4bde-96a5-dd420f3918a4",
   "metadata": {},
   "outputs": [
    {
     "name": "stdin",
     "output_type": "stream",
     "text": [
      "Enter number:  6\n"
     ]
    }
   ],
   "source": [
    "num = int(input(\"Enter number: \"))"
   ]
  },
  {
   "cell_type": "code",
   "execution_count": 6,
   "id": "e378da2f-8358-414d-8d95-9e685ca3da7d",
   "metadata": {},
   "outputs": [
    {
     "name": "stdout",
     "output_type": "stream",
     "text": [
      "Divsible by both 2 and 3\n"
     ]
    }
   ],
   "source": [
    "if num % 2 == 0:\n",
    "    if num % 3 == 0:\n",
    "        print(\"Divsible by both 2 and 3\")\n",
    "    else:\n",
    "        print(\"Divisible by 2 and NOT divisible by 3\")\n",
    "else:\n",
    "    if num % 3 == 0:\n",
    "        print(\"Divisible by 3 and NOT divisible by 2\")\n",
    "    else:\n",
    "        print(\"NOT Divisible by both 2 and 3\")"
   ]
  },
  {
   "cell_type": "code",
   "execution_count": null,
   "id": "b55fbe10-4274-4f6a-a040-1672e60d267e",
   "metadata": {},
   "outputs": [],
   "source": []
  },
  {
   "cell_type": "markdown",
   "id": "93988922-f0f0-4d6b-8476-5a084002a9c0",
   "metadata": {},
   "source": [
    "# Single Statement Suites"
   ]
  },
  {
   "cell_type": "code",
   "execution_count": 7,
   "id": "a752ec1c-2af6-4360-b355-0819eeb44863",
   "metadata": {},
   "outputs": [
    {
     "name": "stdout",
     "output_type": "stream",
     "text": [
      "Value of expression is 100\n"
     ]
    }
   ],
   "source": [
    "var = 100\n",
    "if ( var  == 100 ) : print (\"Value of expression is 100\")"
   ]
  },
  {
   "cell_type": "code",
   "execution_count": null,
   "id": "c8be0e72-a5c6-4f04-967c-3713144235d3",
   "metadata": {},
   "outputs": [],
   "source": []
  },
  {
   "cell_type": "code",
   "execution_count": null,
   "id": "7e53a410-021a-4e24-959e-e81e00d13a7e",
   "metadata": {},
   "outputs": [],
   "source": []
  },
  {
   "cell_type": "code",
   "execution_count": null,
   "id": "2351fe62-2bef-49c0-bfe1-afd559f88851",
   "metadata": {},
   "outputs": [],
   "source": []
  },
  {
   "cell_type": "markdown",
   "id": "3d608137-fef5-4ee6-8066-f63664b9e0d1",
   "metadata": {},
   "source": [
    "# Loops"
   ]
  },
  {
   "cell_type": "markdown",
   "id": "fac38205-337e-4447-9603-510b8fcf2414",
   "metadata": {},
   "source": [
    "## `while` loop statements"
   ]
  },
  {
   "cell_type": "markdown",
   "id": "5d5fe9a3-512d-4d5c-9b30-60d1db1f4e96",
   "metadata": {},
   "source": [
    "# Syntax\n",
    "```\n",
    "while expression:\n",
    "    statement(s)\n",
    "```"
   ]
  },
  {
   "cell_type": "code",
   "execution_count": 24,
   "id": "1e2b1665-25e0-4e38-aa85-1f265f939880",
   "metadata": {},
   "outputs": [],
   "source": [
    "# Unless the given condition become True while loop gets executed"
   ]
  },
  {
   "cell_type": "code",
   "execution_count": 26,
   "id": "6a67b662-1c34-4446-8046-ccf89aed1a7e",
   "metadata": {},
   "outputs": [
    {
     "name": "stdout",
     "output_type": "stream",
     "text": [
      "counter :  0\n",
      "counter :  1\n",
      "counter :  2\n",
      "counter :  3\n",
      "counter :  4\n",
      "counter :  5\n",
      "counter :  6\n",
      "counter :  7\n",
      "counter :  8\n"
     ]
    }
   ],
   "source": [
    "count = 0\n",
    "while count < 9:\n",
    "    print(\"counter : \", count)\n",
    "    count += 1"
   ]
  },
  {
   "cell_type": "code",
   "execution_count": 27,
   "id": "8b657933-6e7a-482a-a09d-7e146c052388",
   "metadata": {},
   "outputs": [],
   "source": [
    "# Infinite loop\n",
    "\n",
    "# Write a program to guess head and Tails\n"
   ]
  },
  {
   "cell_type": "code",
   "execution_count": null,
   "id": "32efc065-3ae0-468b-9a09-a54192536475",
   "metadata": {},
   "outputs": [],
   "source": []
  },
  {
   "cell_type": "markdown",
   "id": "0b6330ff-6f5a-4119-87b1-5fbae99d6ee6",
   "metadata": {},
   "source": [
    "#### Using else with loop"
   ]
  },
  {
   "cell_type": "code",
   "execution_count": 28,
   "id": "2ce6bf8c-7eb4-4c09-b682-4fc65b1d929f",
   "metadata": {},
   "outputs": [
    {
     "name": "stdout",
     "output_type": "stream",
     "text": [
      "0  is  less than 5\n",
      "1  is  less than 5\n",
      "2  is  less than 5\n",
      "3  is  less than 5\n",
      "4  is  less than 5\n",
      "5  is not less than 5\n"
     ]
    }
   ],
   "source": [
    "count = 0\n",
    "while count < 5:\n",
    "    print (count, \" is  less than 5\")\n",
    "    count = count + 1\n",
    "else:\n",
    "    print (count, \" is not less than 5\")"
   ]
  },
  {
   "cell_type": "markdown",
   "id": "e7fc8d38-d11e-46bf-bead-96d541facfe5",
   "metadata": {},
   "source": [
    "# Single Statement Suites"
   ]
  },
  {
   "cell_type": "markdown",
   "id": "d9b70701-77a1-4cb1-979f-8f14c4d064a3",
   "metadata": {},
   "source": [
    "# Infinte loop\n",
    "\n",
    "```\n",
    "flag = 1\n",
    "while (flag): print ('Given flag is really true!')\n",
    "```"
   ]
  },
  {
   "cell_type": "code",
   "execution_count": null,
   "id": "964c5184-a879-41c3-ac0b-6182f13b6d64",
   "metadata": {},
   "outputs": [],
   "source": []
  },
  {
   "cell_type": "code",
   "execution_count": null,
   "id": "9d3baefe-7b66-4941-8117-e5ec1714af92",
   "metadata": {},
   "outputs": [],
   "source": []
  },
  {
   "cell_type": "code",
   "execution_count": null,
   "id": "21206e54-0bf7-4afb-af48-648b7238350d",
   "metadata": {},
   "outputs": [],
   "source": []
  },
  {
   "cell_type": "code",
   "execution_count": null,
   "id": "d1459b91-a369-4313-9d15-166a3fe22b19",
   "metadata": {},
   "outputs": [],
   "source": []
  },
  {
   "cell_type": "markdown",
   "id": "eb40aa1e-d340-4531-b1cb-dc0fac409562",
   "metadata": {},
   "source": [
    "## `for` statement"
   ]
  },
  {
   "cell_type": "markdown",
   "id": "97a34856-429f-434e-812b-16adf0627687",
   "metadata": {},
   "source": [
    "# Syntax\n",
    "```\n",
    "for iterating_var in sequence:\n",
    "   statements(s)\n",
    "```"
   ]
  },
  {
   "cell_type": "code",
   "execution_count": 30,
   "id": "bc49f9af-53fc-41bf-b911-a0e84ccb381f",
   "metadata": {},
   "outputs": [
    {
     "name": "stdout",
     "output_type": "stream",
     "text": [
      "0\n",
      "1\n",
      "2\n",
      "3\n",
      "4\n"
     ]
    }
   ],
   "source": [
    "for var in list(range(5)):\n",
    "    print(var)"
   ]
  },
  {
   "cell_type": "code",
   "execution_count": 39,
   "id": "540d78b1-660d-4ad8-ab7a-6e71dd741d8d",
   "metadata": {
    "tags": []
   },
   "outputs": [
    {
     "name": "stdout",
     "output_type": "stream",
     "text": [
      "Supriya ---->  7\n",
      "Rashmika ---->  8\n",
      "Raahool ---->  7\n"
     ]
    }
   ],
   "source": [
    "# Measure some strings:\n",
    "words = ['Supriya', 'Rashmika', 'Raahool']\n",
    "for w in words:\n",
    "    print(w, \"----> \", len(w))\n"
   ]
  },
  {
   "cell_type": "code",
   "execution_count": 41,
   "id": "59737068-ca12-4071-b520-a9470c9692b6",
   "metadata": {
    "tags": []
   },
   "outputs": [],
   "source": [
    "# Create a sample collection\n",
    "users = {'Hans': 'inactive',\n",
    "         'राहुल':'active',\n",
    "         'रश्मिका': 'active',\n",
    "         'सुप्रिया': 'active',\n",
    "         '景太郎': 'inactive'}"
   ]
  },
  {
   "cell_type": "code",
   "execution_count": 65,
   "id": "048a1516-d661-4564-b767-6485dc731d82",
   "metadata": {
    "tags": []
   },
   "outputs": [
    {
     "name": "stdout",
     "output_type": "stream",
     "text": [
      "INACTIVE user is : Hans\n",
      "Active user is : राहुल\n",
      "Active user is : रश्मिका\n",
      "Active user is : सुप्रिया\n",
      "INACTIVE user is : 景太郎\n"
     ]
    }
   ],
   "source": [
    "# Iterate over collection \n",
    "for user,status in users.items():\n",
    "    if status == 'active':\n",
    "        print(f\"Active user is : {user}\")\n",
    "    else:\n",
    "        print(f\"INACTIVE user is : {user}\")"
   ]
  },
  {
   "cell_type": "code",
   "execution_count": 66,
   "id": "9e31c65f-d387-42e1-9fbe-edcbb8831f1f",
   "metadata": {
    "tags": []
   },
   "outputs": [],
   "source": [
    "# Write a program to print table of 19"
   ]
  },
  {
   "cell_type": "code",
   "execution_count": null,
   "id": "1d9a3879-6426-4901-88c9-02af7b0a877b",
   "metadata": {},
   "outputs": [],
   "source": []
  },
  {
   "cell_type": "code",
   "execution_count": null,
   "id": "3a11ca54-19ba-4194-a1cf-072fbbd8342d",
   "metadata": {},
   "outputs": [],
   "source": []
  },
  {
   "cell_type": "code",
   "execution_count": 45,
   "id": "cd4fa827-f0b9-4e6e-9def-f64b48a66ad7",
   "metadata": {
    "tags": []
   },
   "outputs": [],
   "source": [
    "# Creating new active user collection\n",
    "active_users = {}\n",
    "for user,status in users.items():\n",
    "    if status == 'active':\n",
    "        active_users[user] = status"
   ]
  },
  {
   "cell_type": "code",
   "execution_count": 46,
   "id": "6434c3e8-fc5b-4d68-a9c2-cf6b68fef851",
   "metadata": {
    "tags": []
   },
   "outputs": [
    {
     "data": {
      "text/plain": [
       "{'राहुल': 'active', 'रश्मिका': 'active', 'सुप्रिया': 'active'}"
      ]
     },
     "execution_count": 46,
     "metadata": {},
     "output_type": "execute_result"
    }
   ],
   "source": [
    "active_users"
   ]
  },
  {
   "cell_type": "code",
   "execution_count": 49,
   "id": "76a18a2c-4f91-4243-9774-5a027299fbd0",
   "metadata": {
    "tags": []
   },
   "outputs": [
    {
     "data": {
      "text/plain": [
       "dict_items([('राहुल', 'active'), ('रश्मिका', 'active'), ('सुप्रिया', 'active')])"
      ]
     },
     "execution_count": 49,
     "metadata": {},
     "output_type": "execute_result"
    }
   ],
   "source": [
    "active_users.items()"
   ]
  },
  {
   "cell_type": "code",
   "execution_count": 50,
   "id": "38935a9a-e73f-4cb5-b8cb-92945bc0a26d",
   "metadata": {
    "tags": []
   },
   "outputs": [
    {
     "data": {
      "text/plain": [
       "dict_keys(['राहुल', 'रश्मिका', 'सुप्रिया'])"
      ]
     },
     "execution_count": 50,
     "metadata": {},
     "output_type": "execute_result"
    }
   ],
   "source": [
    "active_users.keys()"
   ]
  },
  {
   "cell_type": "code",
   "execution_count": 51,
   "id": "7035c240-c047-4a68-a5a8-f012192837a3",
   "metadata": {
    "tags": []
   },
   "outputs": [
    {
     "data": {
      "text/plain": [
       "dict_values(['active', 'active', 'active'])"
      ]
     },
     "execution_count": 51,
     "metadata": {},
     "output_type": "execute_result"
    }
   ],
   "source": [
    "active_users.values()"
   ]
  },
  {
   "cell_type": "code",
   "execution_count": null,
   "id": "ab44cdad-cb56-4f17-b8ae-0e4c740fcaff",
   "metadata": {},
   "outputs": [],
   "source": []
  },
  {
   "cell_type": "code",
   "execution_count": 31,
   "id": "6a561cd7-da30-4a22-a98c-645f30d88216",
   "metadata": {},
   "outputs": [],
   "source": [
    "# Write a program to check even number is in list\n",
    "numbers = [11,33,55,39,55,75,37,21,23,41,13]"
   ]
  },
  {
   "cell_type": "code",
   "execution_count": null,
   "id": "4c2f3f6a-40c5-403f-b9c8-b6f19c5f33fe",
   "metadata": {},
   "outputs": [],
   "source": []
  },
  {
   "cell_type": "code",
   "execution_count": null,
   "id": "8bb94f67-2781-4083-9325-9d714cac27ab",
   "metadata": {},
   "outputs": [],
   "source": []
  },
  {
   "cell_type": "markdown",
   "id": "26fb48d8-ef48-472f-a022-2a23fbf5dfc9",
   "metadata": {},
   "source": [
    "#### NOTE\n",
    "\n",
    "`If the else statement is used with a for loop, the else block is executed only if for loops terminates normally (and not by encountering break statement).\n",
    "If the else statement is used with a while loop, the else statement is executed when the condition becomes false.`"
   ]
  },
  {
   "cell_type": "markdown",
   "id": "309c6aff-254f-4e21-987b-f38cb232dfc0",
   "metadata": {},
   "source": [
    "# The `range()` Function"
   ]
  },
  {
   "cell_type": "code",
   "execution_count": 53,
   "id": "0997d7de-93e5-4f47-83d9-85c83cf2c383",
   "metadata": {
    "tags": []
   },
   "outputs": [
    {
     "name": "stdout",
     "output_type": "stream",
     "text": [
      "0\n",
      "1\n",
      "2\n",
      "3\n",
      "4\n"
     ]
    }
   ],
   "source": [
    "for i in range(5):\n",
    "    print(i)"
   ]
  },
  {
   "cell_type": "code",
   "execution_count": 55,
   "id": "a8ff8618-5c0c-4903-93e5-4da23228148d",
   "metadata": {
    "tags": []
   },
   "outputs": [
    {
     "data": {
      "text/plain": [
       "[5, 6, 7, 8, 9]"
      ]
     },
     "execution_count": 55,
     "metadata": {},
     "output_type": "execute_result"
    }
   ],
   "source": [
    "list(range(5,10))"
   ]
  },
  {
   "cell_type": "code",
   "execution_count": 56,
   "id": "e90e1128-e071-44dd-9b0b-20bbb391e178",
   "metadata": {
    "tags": []
   },
   "outputs": [
    {
     "data": {
      "text/plain": [
       "[0, 3, 6, 9]"
      ]
     },
     "execution_count": 56,
     "metadata": {},
     "output_type": "execute_result"
    }
   ],
   "source": [
    "list(range(0, 10, 3))"
   ]
  },
  {
   "cell_type": "code",
   "execution_count": 57,
   "id": "decc6bf8-ed39-40ca-aab8-7fed36083352",
   "metadata": {
    "tags": []
   },
   "outputs": [
    {
     "data": {
      "text/plain": [
       "[-10, -40, -70]"
      ]
     },
     "execution_count": 57,
     "metadata": {},
     "output_type": "execute_result"
    }
   ],
   "source": [
    "list(range(-10, -100, -30))"
   ]
  },
  {
   "cell_type": "code",
   "execution_count": 58,
   "id": "6f97d469-d234-4f0c-ae5c-ab2494ca2a2b",
   "metadata": {
    "tags": []
   },
   "outputs": [
    {
     "name": "stdout",
     "output_type": "stream",
     "text": [
      "0 We\n",
      "1 reach\n",
      "2 till\n",
      "3 to\n",
      "4 the\n",
      "5 south\n",
      "6 of\n",
      "7 moon\n"
     ]
    }
   ],
   "source": [
    "# Iterate over indices of a sequence\n",
    "a = [\"We\",\"reach\",\"till\",\"to\",\"the\",\"south\",\"of\",\"moon\"]\n",
    "for i in range(len(a)):\n",
    "    print(i,a[i])"
   ]
  },
  {
   "cell_type": "code",
   "execution_count": 59,
   "id": "617def5c-d9ff-4c64-81e1-4d2c8d4abbf0",
   "metadata": {
    "tags": []
   },
   "outputs": [
    {
     "data": {
      "text/plain": [
       "range(0, 10)"
      ]
     },
     "execution_count": 59,
     "metadata": {},
     "output_type": "execute_result"
    }
   ],
   "source": [
    "range(10)"
   ]
  },
  {
   "cell_type": "markdown",
   "id": "f9fe4e57-6ffe-4809-a24a-de87a7b194db",
   "metadata": {},
   "source": [
    "##### NOTE: range() should behave as list but it isn't.. instead it return object. so it work with iteration only and save space"
   ]
  },
  {
   "cell_type": "code",
   "execution_count": 60,
   "id": "f720b256-05db-4601-9646-056e12da29e3",
   "metadata": {
    "tags": []
   },
   "outputs": [
    {
     "data": {
      "text/plain": [
       "range"
      ]
     },
     "execution_count": 60,
     "metadata": {},
     "output_type": "execute_result"
    }
   ],
   "source": [
    "type(range(10))"
   ]
  },
  {
   "cell_type": "code",
   "execution_count": 61,
   "id": "8869ea94-c67d-4fb4-91df-17d9fb78ae57",
   "metadata": {
    "tags": []
   },
   "outputs": [],
   "source": [
    "# Print the sum of all number which are multiple of 5 with range and should not execeed 100"
   ]
  },
  {
   "cell_type": "code",
   "execution_count": null,
   "id": "03f4d89b-0289-4e21-b43f-3a83bce753ad",
   "metadata": {
    "tags": []
   },
   "outputs": [],
   "source": []
  },
  {
   "cell_type": "code",
   "execution_count": null,
   "id": "6411e9a3-3eea-4631-a4ff-5cc9a8d82373",
   "metadata": {},
   "outputs": [],
   "source": []
  },
  {
   "cell_type": "code",
   "execution_count": null,
   "id": "a1cbef6d-35d0-4a08-bf18-e9cd74e414de",
   "metadata": {},
   "outputs": [],
   "source": []
  },
  {
   "cell_type": "markdown",
   "id": "e39516c5-d0c9-4dd6-ab77-1bfebd5d9d56",
   "metadata": {},
   "source": [
    "# `break` and `continue` Statements, and `else` Clauses on Loops"
   ]
  },
  {
   "cell_type": "code",
   "execution_count": null,
   "id": "0c31bcc1-1245-4973-9707-92b7d1087fac",
   "metadata": {},
   "outputs": [],
   "source": [
    "# Find the even number"
   ]
  },
  {
   "cell_type": "code",
   "execution_count": null,
   "id": "a9b892aa-bfd1-40df-a03a-ab911420cc88",
   "metadata": {},
   "outputs": [],
   "source": [
    "# find the odd number "
   ]
  },
  {
   "cell_type": "code",
   "execution_count": null,
   "id": "6f756023-8e7c-4cce-8f22-690eea21baee",
   "metadata": {},
   "outputs": [],
   "source": []
  },
  {
   "cell_type": "code",
   "execution_count": null,
   "id": "2169251d-3772-40a1-bff3-cfa05f571cd8",
   "metadata": {},
   "outputs": [],
   "source": []
  },
  {
   "cell_type": "code",
   "execution_count": null,
   "id": "d636afa5-3db0-4c29-a732-84a25e4d8471",
   "metadata": {},
   "outputs": [],
   "source": []
  },
  {
   "cell_type": "code",
   "execution_count": null,
   "id": "e9ef3ef5-a33b-4955-820e-2f80404f7851",
   "metadata": {},
   "outputs": [],
   "source": []
  },
  {
   "cell_type": "code",
   "execution_count": null,
   "id": "80cc8247-ff20-45b4-9b25-8aa04c989af0",
   "metadata": {},
   "outputs": [],
   "source": []
  },
  {
   "cell_type": "code",
   "execution_count": 72,
   "id": "6ad78f68-6f30-46f0-9231-a3447b82858e",
   "metadata": {
    "tags": []
   },
   "outputs": [
    {
     "name": "stdout",
     "output_type": "stream",
     "text": [
      "Found an even number 2\n",
      "Found an odd number 3\n",
      "Found an even number 4\n",
      "Found an odd number 5\n",
      "Found an even number 6\n",
      "Found an odd number 7\n",
      "Found an even number 8\n",
      "Found an odd number 9\n"
     ]
    }
   ],
   "source": [
    "for num in range(2,10):\n",
    "    if num % 2 == 0:\n",
    "        print(\"Found an even number\", num)\n",
    "        continue\n",
    "    print(\"Found an odd number\", num)"
   ]
  },
  {
   "cell_type": "code",
   "execution_count": null,
   "id": "ef7a828d-5dd5-4e6b-b6de-ad2119ac752d",
   "metadata": {},
   "outputs": [],
   "source": []
  },
  {
   "cell_type": "code",
   "execution_count": null,
   "id": "8128ad07-828a-4570-a383-a564a890612d",
   "metadata": {},
   "outputs": [],
   "source": []
  },
  {
   "cell_type": "code",
   "execution_count": null,
   "id": "11f422cc-08c8-43a5-a866-28d9fb3ef28d",
   "metadata": {},
   "outputs": [],
   "source": []
  },
  {
   "cell_type": "code",
   "execution_count": 69,
   "id": "ad83fbdf-6e27-4e39-b2d0-22d4bc23b1d1",
   "metadata": {
    "tags": []
   },
   "outputs": [
    {
     "name": "stdout",
     "output_type": "stream",
     "text": [
      "2 is a prime number\n",
      "3 is a prime number\n",
      "4 equals 2 * 2\n",
      "5 is a prime number\n",
      "6 equals 2 * 3\n",
      "7 is a prime number\n",
      "8 equals 2 * 4\n",
      "9 equals 3 * 3\n"
     ]
    }
   ],
   "source": [
    "for n in range(2, 10):\n",
    "    for x in range(2, n):\n",
    "        if n % x == 0:\n",
    "            print(n, 'equals', x, '*', n//x)\n",
    "            break\n",
    "    else:\n",
    "        # loop fell through without finding a factor\n",
    "        print(n, 'is a prime number')"
   ]
  },
  {
   "cell_type": "markdown",
   "id": "b9322b73-2f7d-450f-aaba-e4c1b794a6c2",
   "metadata": {},
   "source": [
    "##### NOTE: the else clause belongs to the for loop, not the if statement.)"
   ]
  },
  {
   "cell_type": "code",
   "execution_count": null,
   "id": "76e8c3bd-15df-4a49-b250-116041f86aab",
   "metadata": {},
   "outputs": [],
   "source": []
  }
 ],
 "metadata": {
  "kernelspec": {
   "display_name": "Python 3 (ipykernel)",
   "language": "python",
   "name": "python3"
  },
  "language_info": {
   "codemirror_mode": {
    "name": "ipython",
    "version": 3
   },
   "file_extension": ".py",
   "mimetype": "text/x-python",
   "name": "python",
   "nbconvert_exporter": "python",
   "pygments_lexer": "ipython3",
   "version": "3.9.13"
  }
 },
 "nbformat": 4,
 "nbformat_minor": 5
}

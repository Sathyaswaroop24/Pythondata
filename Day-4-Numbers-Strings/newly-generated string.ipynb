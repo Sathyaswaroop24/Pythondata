{
 "cells": [
  {
   "cell_type": "code",
   "execution_count": 33,
   "id": "4347d8ec-fb50-4bd5-abe9-342da7c79764",
   "metadata": {},
   "outputs": [
    {
     "name": "stdin",
     "output_type": "stream",
     "text": [
      "Enter a string: rashmika\n"
     ]
    },
    {
     "name": "stdout",
     "output_type": "stream",
     "text": [
      "lsrashmika\n"
     ]
    }
   ],
   "source": [
    "str = input(\"Enter a string:\")\n",
    "if str.startswith('ls'):\n",
    "    print(str)\n",
    "else:\n",
    "    print(\"ls\" + str)"
   ]
  },
  {
   "cell_type": "code",
   "execution_count": null,
   "id": "a62b5c99-c77d-4c12-af56-10132b29a8c9",
   "metadata": {},
   "outputs": [],
   "source": []
  }
 ],
 "metadata": {
  "kernelspec": {
   "display_name": "Python 3 (ipykernel)",
   "language": "python",
   "name": "python3"
  },
  "language_info": {
   "codemirror_mode": {
    "name": "ipython",
    "version": 3
   },
   "file_extension": ".py",
   "mimetype": "text/x-python",
   "name": "python",
   "nbconvert_exporter": "python",
   "pygments_lexer": "ipython3",
   "version": "3.11.4"
  }
 },
 "nbformat": 4,
 "nbformat_minor": 5
}

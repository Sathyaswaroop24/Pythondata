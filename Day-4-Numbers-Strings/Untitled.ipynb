{
 "cells": [
  {
   "cell_type": "code",
   "execution_count": 42,
   "id": "29de086f-b23d-4b3a-99e7-83a3ca92e173",
   "metadata": {},
   "outputs": [
    {
     "name": "stdout",
     "output_type": "stream",
     "text": [
      "endswith: True\n",
      "expandtabs: Code Locked\n",
      "find: 1\n",
      "index: 1\n",
      "isalnum: False\n",
      "isalpha: False\n",
      "isdigit: False\n",
      "islower: False\n",
      "isnumeric: False\n",
      "isspace: False\n",
      "istitle: True\n",
      "isupper: False\n",
      "isalpha: False\n",
      "isalpha: False\n"
     ]
    }
   ],
   "source": [
    "string = 'Code Locked'\n",
    "print(\"endswith:\",string.endswith('ed'))\n",
    "print(\"expandtabs:\",string.expandtabs())\n",
    "print(\"find:\",string.find('o'))\n",
    "print(\"index:\",string.index('o'))\n",
    "print(\"isalnum:\",string.isalnum())\n",
    "print(\"isalpha:\",string.isalpha())\n",
    "print(\"isdigit:\",string.isdigit())\n",
    "print(\"islower:\",string.islower())\n",
    "print(\"isnumeric:\",string.isnumeric())\n",
    "print(\"isspace:\",string.isspace())\n",
    "print(\"istitle:\",string.istitle())\n",
    "print(\"isupper:\",string.isupper())\n",
    "print(\"isalpha:\",string.isdigit())\n",
    "print(\"isalpha:\",string.isdigit())"
   ]
  },
  {
   "cell_type": "code",
   "execution_count": 40,
   "id": "0de749f0-1586-44bf-b314-f113df968e36",
   "metadata": {},
   "outputs": [
    {
     "name": "stdout",
     "output_type": "stream",
     "text": [
      "isnumeric: True\n",
      "isdecimal: True\n",
      "isspace: False\n",
      "isdigit: True\n"
     ]
    }
   ],
   "source": [
    "string = '55'\n",
    "print(\"isnumeric:\",string.isnumeric())\n",
    "print(\"isdecimal:\",string.isdecimal())\n",
    "print(\"isspace:\",string.isspace())\n",
    "print(\"isdigit:\",string.isdigit())"
   ]
  },
  {
   "cell_type": "code",
   "execution_count": null,
   "id": "c0884ce6-61d3-4504-a54a-a2f64a80fd52",
   "metadata": {},
   "outputs": [],
   "source": []
  }
 ],
 "metadata": {
  "kernelspec": {
   "display_name": "Python 3 (ipykernel)",
   "language": "python",
   "name": "python3"
  },
  "language_info": {
   "codemirror_mode": {
    "name": "ipython",
    "version": 3
   },
   "file_extension": ".py",
   "mimetype": "text/x-python",
   "name": "python",
   "nbconvert_exporter": "python",
   "pygments_lexer": "ipython3",
   "version": "3.11.4"
  }
 },
 "nbformat": 4,
 "nbformat_minor": 5
}

{
 "cells": [
  {
   "cell_type": "code",
   "execution_count": null,
   "id": "fe5fad40-ef7c-4d5a-8f2c-3bbf9ca6b837",
   "metadata": {},
   "outputs": [],
   "source": [
    "Firstname = input(\"Enter firstname:\")\n",
    "lastname = input(\"Enter lasttname:\")\n",
    "name = Firstname + \" \" + lastname\n"
   ]
  }
 ],
 "metadata": {
  "kernelspec": {
   "display_name": "Python 3 (ipykernel)",
   "language": "python",
   "name": "python3"
  },
  "language_info": {
   "codemirror_mode": {
    "name": "ipython",
    "version": 3
   },
   "file_extension": ".py",
   "mimetype": "text/x-python",
   "name": "python",
   "nbconvert_exporter": "python",
   "pygments_lexer": "ipython3",
   "version": "3.11.4"
  }
 },
 "nbformat": 4,
 "nbformat_minor": 5
}

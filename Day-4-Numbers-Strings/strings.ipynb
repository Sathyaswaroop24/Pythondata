{
 "cells": [
  {
   "cell_type": "markdown",
   "id": "b3dbd51c-f337-4850-90b5-b254a062cf24",
   "metadata": {},
   "source": [
    "# Strings in Python"
   ]
  },
  {
   "cell_type": "markdown",
   "id": "887127a3-a363-493b-8868-2a0522110dfc",
   "metadata": {},
   "source": [
    "Strings can be repsented in python with single, doubel and tripple quotes\n",
    "\n",
    "Better way to treat special charaters as a string object only"
   ]
  },
  {
   "cell_type": "code",
   "execution_count": 12,
   "id": "5f720312-ad1f-437f-b8dc-c333913d626c",
   "metadata": {},
   "outputs": [],
   "source": [
    "# Long strings\n",
    "poem='''Twinkle, twinkle, little star,\n",
    "        How I wonder what you are! \n",
    "                Up above the world so high,  \n",
    "                Like a diamond in the sky. \n",
    "Twinkle, twinkle, little star, \n",
    "        How I wonder what you are'''"
   ]
  },
  {
   "cell_type": "code",
   "execution_count": 13,
   "id": "2a80923e-b4f0-4ab4-bb1d-662f7959a6aa",
   "metadata": {},
   "outputs": [],
   "source": [
    "poem2=\"Twinkle, twinkle, little star,\\n \\tHow I wonder what you are! \\n\\t\\tUp above the world so high, \\n\\t\\tLike a diamond in the sky. \\nTwinkle, twinkle, little star,\\n\\t How I wonder what you are\" "
   ]
  },
  {
   "cell_type": "code",
   "execution_count": 14,
   "id": "082f2009-7549-415d-9151-2a08ba6fbffd",
   "metadata": {},
   "outputs": [
    {
     "name": "stdout",
     "output_type": "stream",
     "text": [
      "Twinkle, twinkle, little star,\n",
      "        How I wonder what you are! \n",
      "                Up above the world so high,  \n",
      "                Like a diamond in the sky. \n",
      "Twinkle, twinkle, little star, \n",
      "        How I wonder what you are\n"
     ]
    }
   ],
   "source": [
    "print(poem)"
   ]
  },
  {
   "cell_type": "code",
   "execution_count": 15,
   "id": "2f738a89-78d1-403a-bfb7-89e50fa0e1b7",
   "metadata": {},
   "outputs": [
    {
     "name": "stdout",
     "output_type": "stream",
     "text": [
      "Twinkle, twinkle, little star,\n",
      " \tHow I wonder what you are! \n",
      "\t\tUp above the world so high, \n",
      "\t\tLike a diamond in the sky. \n",
      "Twinkle, twinkle, little star,\n",
      "\t How I wonder what you are\n"
     ]
    }
   ],
   "source": [
    "print(poem2)"
   ]
  },
  {
   "cell_type": "code",
   "execution_count": null,
   "id": "ae2329fb-4337-4a0a-b830-b9d655c1c387",
   "metadata": {},
   "outputs": [],
   "source": []
  },
  {
   "cell_type": "code",
   "execution_count": null,
   "id": "7bc83323-26de-4e31-9c2c-a490f1b39d01",
   "metadata": {},
   "outputs": [],
   "source": []
  },
  {
   "cell_type": "code",
   "execution_count": null,
   "id": "791c2ed0-8af0-4514-a345-87edf69a81dd",
   "metadata": {},
   "outputs": [],
   "source": []
  },
  {
   "cell_type": "code",
   "execution_count": 16,
   "id": "6f4695bb-4c40-40a8-b6c6-a97048c67e1b",
   "metadata": {},
   "outputs": [
    {
     "name": "stdout",
     "output_type": "stream",
     "text": [
      "This is awesome!!\n"
     ]
    }
   ],
   "source": [
    "print(\"This is awesome!!\")"
   ]
  },
  {
   "cell_type": "code",
   "execution_count": 17,
   "id": "11cd080e-3f51-4ce6-970f-ca2d21aedb97",
   "metadata": {},
   "outputs": [
    {
     "name": "stdout",
     "output_type": "stream",
     "text": [
      "This is 🎈\n"
     ]
    }
   ],
   "source": [
    "print(\"This is 🎈\")"
   ]
  },
  {
   "cell_type": "code",
   "execution_count": null,
   "id": "35fb54e6-e5e5-48ac-9616-fdd0a9792b43",
   "metadata": {},
   "outputs": [],
   "source": []
  },
  {
   "cell_type": "code",
   "execution_count": null,
   "id": "51663abf-094d-4a16-a371-6b64d818eeec",
   "metadata": {},
   "outputs": [],
   "source": []
  },
  {
   "cell_type": "markdown",
   "id": "0dc3bb80-dcff-4fe5-b805-f0aaa2a4c767",
   "metadata": {},
   "source": [
    "#### Accessing Values in Strings"
   ]
  },
  {
   "cell_type": "code",
   "execution_count": 72,
   "id": "f35aabbe-cc8e-4bbc-b0e1-7f5a3d729c79",
   "metadata": {},
   "outputs": [],
   "source": [
    "str1 = 'Hello Codelocked!'\n",
    "str2 = \"Python Programming \""
   ]
  },
  {
   "cell_type": "code",
   "execution_count": 73,
   "id": "4f169aa2-c463-4ee6-977d-5c8ded40f686",
   "metadata": {},
   "outputs": [
    {
     "name": "stdout",
     "output_type": "stream",
     "text": [
      "str1[0]:  H\n"
     ]
    }
   ],
   "source": [
    "print (\"str1[0]: \", str1[0])"
   ]
  },
  {
   "cell_type": "code",
   "execution_count": 74,
   "id": "2df948f6-f7e3-447d-925f-0cf233aa4576",
   "metadata": {},
   "outputs": [
    {
     "name": "stdout",
     "output_type": "stream",
     "text": [
      "str1[1:5]:  ello\n"
     ]
    }
   ],
   "source": [
    "print (\"str1[1:5]: \", str1[1:5])"
   ]
  },
  {
   "cell_type": "code",
   "execution_count": null,
   "id": "3d1c7ae6-83f8-4d19-a7cc-71f4f537df77",
   "metadata": {},
   "outputs": [],
   "source": []
  },
  {
   "cell_type": "markdown",
   "id": "b0515da5-eeb8-428b-9f49-3135f5c7524f",
   "metadata": {},
   "source": [
    "### Updating strings"
   ]
  },
  {
   "cell_type": "code",
   "execution_count": 75,
   "id": "b06091e9-3460-4020-9202-5c68d0100916",
   "metadata": {},
   "outputs": [
    {
     "data": {
      "text/plain": [
       "'Hello Codelocked!'"
      ]
     },
     "execution_count": 75,
     "metadata": {},
     "output_type": "execute_result"
    }
   ],
   "source": [
    "str1"
   ]
  },
  {
   "cell_type": "code",
   "execution_count": 76,
   "id": "976e957c-e44a-4fda-8a84-ea1a97451f84",
   "metadata": {},
   "outputs": [
    {
     "data": {
      "text/plain": [
       "'Updated string Hello Python'"
      ]
     },
     "execution_count": 76,
     "metadata": {},
     "output_type": "execute_result"
    }
   ],
   "source": [
    "'Updated string ' + str1[:6] + 'Python'"
   ]
  },
  {
   "cell_type": "code",
   "execution_count": null,
   "id": "55b04509-62b3-4991-88a2-90c0f989ad30",
   "metadata": {},
   "outputs": [],
   "source": []
  },
  {
   "cell_type": "code",
   "execution_count": null,
   "id": "d0e21d60-3b5d-4207-af70-b4d61135bd3a",
   "metadata": {},
   "outputs": [],
   "source": []
  },
  {
   "cell_type": "code",
   "execution_count": null,
   "id": "e7b0f5a1-5535-4fd2-a512-6e57fc623dde",
   "metadata": {},
   "outputs": [],
   "source": []
  },
  {
   "cell_type": "markdown",
   "id": "ea560a61-b3e7-4769-98b4-9573774661e2",
   "metadata": {},
   "source": [
    "# String Special Operators"
   ]
  },
  {
   "cell_type": "markdown",
   "id": "f441a625-238b-4f18-a17c-c4c79db9a38b",
   "metadata": {},
   "source": [
    "### Concatenation/Merging/addition two strings "
   ]
  },
  {
   "cell_type": "code",
   "execution_count": 77,
   "id": "2ec5a5ec-3371-48e0-a2d6-0e242bf54fd2",
   "metadata": {},
   "outputs": [
    {
     "data": {
      "text/plain": [
       "'Hello Codelocked!Python Programming '"
      ]
     },
     "execution_count": 77,
     "metadata": {},
     "output_type": "execute_result"
    }
   ],
   "source": [
    "str1 + str2"
   ]
  },
  {
   "cell_type": "code",
   "execution_count": null,
   "id": "a1361442-2c50-4514-8ac3-cdf1e5c81e8d",
   "metadata": {},
   "outputs": [],
   "source": []
  },
  {
   "cell_type": "code",
   "execution_count": null,
   "id": "7637fa72-f352-4a2a-a34c-49befc65c64b",
   "metadata": {},
   "outputs": [],
   "source": []
  },
  {
   "cell_type": "markdown",
   "id": "5cf084fe-edde-49cb-a881-212f6dbca2d9",
   "metadata": {},
   "source": [
    "### Repetition/Multiplication of Strings "
   ]
  },
  {
   "cell_type": "code",
   "execution_count": 78,
   "id": "d5e38966-c7d8-4c9c-9d56-66215df0e9ab",
   "metadata": {},
   "outputs": [
    {
     "data": {
      "text/plain": [
       "'Python Programming Python Programming Python Programming '"
      ]
     },
     "execution_count": 78,
     "metadata": {},
     "output_type": "execute_result"
    }
   ],
   "source": [
    "str2 * 3"
   ]
  },
  {
   "cell_type": "markdown",
   "id": "ffa30187-558b-4465-8886-2a71cee13517",
   "metadata": {},
   "source": [
    "### Addition of new string"
   ]
  },
  {
   "cell_type": "code",
   "execution_count": 37,
   "id": "9c8636ed-4896-4564-bf15-a072dd598efc",
   "metadata": {},
   "outputs": [
    {
     "data": {
      "text/plain": [
       "'Python Programming is Easy'"
      ]
     },
     "execution_count": 37,
     "metadata": {},
     "output_type": "execute_result"
    }
   ],
   "source": [
    "str2 + \" is Easy\""
   ]
  },
  {
   "cell_type": "markdown",
   "id": "3c10425a-19bd-4709-94a9-0d52821d9e4c",
   "metadata": {},
   "source": [
    "### Slice of string"
   ]
  },
  {
   "cell_type": "code",
   "execution_count": 79,
   "id": "c3ed3979-beba-49e0-bf91-b121d9f9f57f",
   "metadata": {},
   "outputs": [
    {
     "data": {
      "text/plain": [
       "'Hello Codelocked!'"
      ]
     },
     "execution_count": 79,
     "metadata": {},
     "output_type": "execute_result"
    }
   ],
   "source": [
    "str1"
   ]
  },
  {
   "cell_type": "code",
   "execution_count": 82,
   "id": "40c0e8fc-0290-4701-be10-ed334291f0d7",
   "metadata": {},
   "outputs": [
    {
     "data": {
      "text/plain": [
       "' '"
      ]
     },
     "execution_count": 82,
     "metadata": {},
     "output_type": "execute_result"
    }
   ],
   "source": [
    "# passing index of the string\n",
    "str1[1]\n",
    "str1[3]\n",
    "str1[5]   "
   ]
  },
  {
   "cell_type": "markdown",
   "id": "bbd11820-a188-42d0-8943-7e667ba5c5c9",
   "metadata": {},
   "source": [
    "### Range slice of string"
   ]
  },
  {
   "cell_type": "code",
   "execution_count": 83,
   "id": "6ccc006a-b7d3-4b06-97f7-1a0fbb80efed",
   "metadata": {},
   "outputs": [
    {
     "data": {
      "text/plain": [
       "'Hello Codelocked!'"
      ]
     },
     "execution_count": 83,
     "metadata": {},
     "output_type": "execute_result"
    }
   ],
   "source": [
    "str1[:]"
   ]
  },
  {
   "cell_type": "code",
   "execution_count": null,
   "id": "2ef5ad4a-05ea-4150-85a3-7d4b0b6da82d",
   "metadata": {},
   "outputs": [],
   "source": []
  },
  {
   "cell_type": "markdown",
   "id": "82b4413b-5dfd-4f9f-8184-5404ad4e4dfe",
   "metadata": {},
   "source": [
    "#### Membership "
   ]
  },
  {
   "cell_type": "code",
   "execution_count": 84,
   "id": "cdd400b8-4fe3-4c3e-99b5-0f3e61f51850",
   "metadata": {},
   "outputs": [
    {
     "data": {
      "text/plain": [
       "False"
      ]
     },
     "execution_count": 84,
     "metadata": {},
     "output_type": "execute_result"
    }
   ],
   "source": [
    "'code' in str1"
   ]
  },
  {
   "cell_type": "code",
   "execution_count": 85,
   "id": "d783a89a-8fdc-4d35-8eb5-24ed892b2bfa",
   "metadata": {},
   "outputs": [
    {
     "data": {
      "text/plain": [
       "True"
      ]
     },
     "execution_count": 85,
     "metadata": {},
     "output_type": "execute_result"
    }
   ],
   "source": [
    "'Code' in str1"
   ]
  },
  {
   "cell_type": "code",
   "execution_count": 86,
   "id": "3f053e3b-57a2-4916-9fcc-d5c533e571fe",
   "metadata": {},
   "outputs": [
    {
     "data": {
      "text/plain": [
       "True"
      ]
     },
     "execution_count": 86,
     "metadata": {},
     "output_type": "execute_result"
    }
   ],
   "source": [
    "'World' not in str1"
   ]
  },
  {
   "cell_type": "code",
   "execution_count": 87,
   "id": "0dba7dbd-fd35-4a35-b73c-fd41144656a4",
   "metadata": {},
   "outputs": [
    {
     "data": {
      "text/plain": [
       "False"
      ]
     },
     "execution_count": 87,
     "metadata": {},
     "output_type": "execute_result"
    }
   ],
   "source": [
    "'Code' not in str1"
   ]
  },
  {
   "cell_type": "markdown",
   "id": "784d9264-46fe-4b4f-b3f5-494c4524fa58",
   "metadata": {},
   "source": [
    "#### raw strings  r/R"
   ]
  },
  {
   "cell_type": "code",
   "execution_count": 97,
   "id": "d46b86dd-0c11-4b59-9bab-2f0d1909bac8",
   "metadata": {},
   "outputs": [],
   "source": [
    "raw_string = R'Okay I am perfectly new here. \\tOkay'"
   ]
  },
  {
   "cell_type": "code",
   "execution_count": 98,
   "id": "ca03f4e1-d591-4674-a1d2-5a2d8d11fab4",
   "metadata": {},
   "outputs": [
    {
     "name": "stdout",
     "output_type": "stream",
     "text": [
      "Okay I am perfectly new here. \\tOkay\n"
     ]
    }
   ],
   "source": [
    "print(raw_string)"
   ]
  },
  {
   "cell_type": "code",
   "execution_count": 99,
   "id": "b84cb7be-af7b-41c3-b9a2-6d533222c1d0",
   "metadata": {},
   "outputs": [],
   "source": [
    "string = 'Okay I am perfectly new here. \\tOkay'"
   ]
  },
  {
   "cell_type": "code",
   "execution_count": 100,
   "id": "7676daa1-38e5-4ab8-be0a-f04de33cd057",
   "metadata": {},
   "outputs": [
    {
     "name": "stdout",
     "output_type": "stream",
     "text": [
      "Okay I am perfectly new here. \tOkay\n"
     ]
    }
   ],
   "source": [
    "print(string)"
   ]
  },
  {
   "cell_type": "code",
   "execution_count": null,
   "id": "f9f86c71-4855-4ba0-a829-d109785ec018",
   "metadata": {},
   "outputs": [],
   "source": []
  },
  {
   "cell_type": "code",
   "execution_count": 128,
   "id": "43b87dcf-f314-4967-80b6-55904fc19417",
   "metadata": {},
   "outputs": [
    {
     "name": "stdout",
     "output_type": "stream",
     "text": [
      "C:\\windows\\directory\\path\n"
     ]
    }
   ],
   "source": [
    "print ('C:\\\\windows\\\\directory\\\\path')"
   ]
  },
  {
   "cell_type": "code",
   "execution_count": 129,
   "id": "c3060c70-57f0-43ab-93f3-6a2b94b0458d",
   "metadata": {},
   "outputs": [
    {
     "name": "stdout",
     "output_type": "stream",
     "text": [
      "C:\\\\windows\\\\directory\\\\path\n"
     ]
    }
   ],
   "source": [
    "print (r'C:\\\\windows\\\\directory\\\\path')"
   ]
  },
  {
   "cell_type": "code",
   "execution_count": null,
   "id": "a350b52f-8754-4ac5-b265-c4728b979c5e",
   "metadata": {},
   "outputs": [],
   "source": []
  },
  {
   "cell_type": "markdown",
   "id": "27a853ca-777e-407e-973b-c2fb229589ba",
   "metadata": {},
   "source": [
    "# Unicode String"
   ]
  },
  {
   "cell_type": "markdown",
   "id": "215927df-525c-40f6-b516-04b7887e291f",
   "metadata": {},
   "source": [
    "# In `Python 3`, all strings are represented in Unicode.\n",
    "\n",
    "\n",
    "# In `Python 2` are stored internally as 8-bit ASCII, hence it is required to attach 'u' to make it Unicode. It is no longer necessary now."
   ]
  },
  {
   "cell_type": "code",
   "execution_count": 134,
   "id": "be87a73a-db94-4ed5-97ac-2d166b164b27",
   "metadata": {},
   "outputs": [],
   "source": [
    "ustring = u'This is unicode string'"
   ]
  },
  {
   "cell_type": "code",
   "execution_count": 135,
   "id": "42327cc4-1f3c-4cb1-8bb2-d5bb39fc03eb",
   "metadata": {},
   "outputs": [
    {
     "name": "stdout",
     "output_type": "stream",
     "text": [
      "This is unicode string\n"
     ]
    }
   ],
   "source": [
    "print(ustring)"
   ]
  },
  {
   "cell_type": "code",
   "execution_count": null,
   "id": "2ba25ee1-1ed5-428b-b199-77a1dfda4f4d",
   "metadata": {},
   "outputs": [],
   "source": []
  },
  {
   "cell_type": "code",
   "execution_count": null,
   "id": "6eaadc14-27e5-4758-8f6f-a48e8844b704",
   "metadata": {},
   "outputs": [],
   "source": []
  },
  {
   "cell_type": "code",
   "execution_count": null,
   "id": "76003e4d-4716-4bee-9474-cf0fcb1ebe49",
   "metadata": {},
   "outputs": [],
   "source": []
  },
  {
   "cell_type": "markdown",
   "id": "a5350b11-f4c2-4ac1-84ec-282d4f8dc893",
   "metadata": {},
   "source": [
    "# Built-in String Methods"
   ]
  },
  {
   "cell_type": "code",
   "execution_count": 136,
   "id": "a086fe56-3f4a-4ba5-bc22-fdedf0e96c67",
   "metadata": {},
   "outputs": [],
   "source": [
    "string = 'CodeLocked'"
   ]
  },
  {
   "cell_type": "code",
   "execution_count": 152,
   "id": "f210df31-50eb-4aae-b815-8f769b20c11a",
   "metadata": {},
   "outputs": [
    {
     "name": "stdout",
     "output_type": "stream",
     "text": [
      "\n",
      "        # Capitalizes first letter of string\n",
      "        capitalize()                   --> Codelocked\n",
      "        \n",
      "         ---------------------------------------------------------------\n",
      "         \n",
      "        # Returns a string padded with fillchar with the original string \n",
      "        # centered to a total of width columns.\n",
      "        center(width, fillchar)        --> ----------CodeLocked----------\n",
      "    \n",
      "        ---------------------------------------------------------------\n",
      "        \n",
      "        # Count the occuranc eof substring\n",
      "        count(str, beg = 0,end = len(string)) \n",
      "        --> 2\n",
      "        \n",
      "    \n"
     ]
    }
   ],
   "source": [
    "print(\n",
    "    f'''\n",
    "        # Capitalizes first letter of string\n",
    "        capitalize()                   --> { string.capitalize()}\n",
    "        \n",
    "         ---------------------------------------------------------------\n",
    "         \n",
    "        # Returns a string padded with fillchar with the original string \n",
    "        # centered to a total of width columns.\n",
    "        center(width, fillchar)        --> {string.center(30, '-')}\n",
    "    \n",
    "        ---------------------------------------------------------------\n",
    "        \n",
    "        # Count the occuranc eof substring\n",
    "        count(str, beg = 0,end = len(string)) \n",
    "        --> { string.count('o') }\n",
    "        \n",
    "    '''\n",
    ")"
   ]
  },
  {
   "cell_type": "code",
   "execution_count": 178,
   "id": "f8bb1c9c-a54c-4d70-aaab-0e197cb11f55",
   "metadata": {},
   "outputs": [
    {
     "name": "stdout",
     "output_type": "stream",
     "text": [
      " \n",
      "         encode(encoding = 'UTF-8',errors = 'strict')\n",
      "         ---> b'CodeLocked'\n",
      "        ---------------------------------------------------------------\n",
      "         decode(encoding = 'UTF-8',errors = 'strict')\n",
      "         ---> b'  Code   Locked '\n",
      "        ---------------------------------------------------------------\n",
      "        endswith(suffix, beg = 0, end = len(string))        --> True   \n",
      "        ---------------------------------------------------------------\n",
      "        expandtabs(tabsize = 8)             --> CodeLocked\n",
      "        -------------------------------8--------------------------------      \n",
      "        find(str, beg = 0 end = len(string)) -->  1\n",
      "         -------------------------------9--------------------------------        \n",
      "        index(str, beg = 0, end = len(string))  --> 1\n",
      "         -------------------------------10--------------------------------        \n",
      "        isalnum()                            --> True\n",
      "         -------------------------------11--------------------------------\n",
      "        isalpha()                            --> True    \n",
      "         --------------------------------12-------------------------------\n",
      "        isdigit()                           --> False\n",
      "         --------------------------------13-------------------------------\n",
      "         islower()                          --> False\n",
      "         --------------------------------14-------------------------------\n",
      "         isnumeric()                         --> False\n",
      "         ---------------------------------15------------------------------\n",
      "         isspace()                           --> False   \n",
      "         --------------------------------16-------------------------------\n",
      "         istitle()                           --> False   \n",
      "         ---------------------------------17------------------------------\n",
      "         isupper()                            --> False   \n",
      "         ---------------------------------18------------------------------\n",
      "         join(seq)                            -->   \n",
      "         -----------------------------------19----------------------------\n",
      "         len(string)                          --> 10   \n",
      "         -----------------------------------20----------------------------\n",
      "         ljust(width[, fillchar])              --> False   \n",
      "         ---------------------------21------------------------------------\n",
      "         lower()                               --> False   \n",
      "         ---------------------------22------------------------------------\n",
      "         lstrip()                              --> False   \n",
      "        -----------------------------24----------------------------------\n",
      "         max(str)                              --> o   \n",
      "         ------------------------------25---------------------------------\n",
      "         min(str)                              --> C   \n",
      "         ------------------------------26---------------------------------\n",
      "         replace(old, new [, max])            --> CodeUnlocked    \n",
      "         -----------------------------27----------------------------------\n",
      "         rfind(str, beg = 0,end = len(string)) --> 4   \n",
      "         ------------------------------28---------------------------------\n",
      "         rindex( str, beg = 0, end = len(string)) --> 5   \n",
      "         -------------------------------29--------------------------------\n",
      "         rjust(width,[, fillchar])               --> ****************************************CodeLocked   \n",
      "         ------------------------------30---------------------------------\n",
      "         rstrip()                                 --> CodeLocked   \n",
      "         -------------------------------31--------------------------------\n",
      "         split(str=\"\", num=string.count(str))      --> ['CodeLocked']   \n",
      "         -------------------------------32--------------------------------\n",
      "         splitlines( num=string.count('\\n'))      --> ['CodeLocked']   \n",
      "         -------------------------------33--------------------------------\n",
      "         startswith(str, beg=0,end=len(string))    --> False   \n",
      "         -----------------------------34----------------------------------\n",
      "         strip([chars])                           --> CodeLocked   \n",
      "         ------------------------------35---------------------------------\n",
      "         swapcase()                              --> cODElOCKED   \n",
      "         ----------------------------------36-----------------------------\n",
      "         title()                                  --> Codelocked   \n",
      "         --------------------------------38-------------------------------\n",
      "         upper()                                  --> CODELOCKED   \n",
      "         ---------------------------------39------------------------------\n",
      "         zfill (width)                           --> 0000000000000000000000000000000000000000CodeLocked   \n",
      "         ----------------------------------40-----------------------------\n",
      "         isdecimal()                              --> False   \n",
      "      \n",
      "    \n"
     ]
    }
   ],
   "source": [
    "encode_string = '  Code   Locked '\n",
    "print(\n",
    "    f''' \n",
    "         encode(encoding = 'UTF-8',errors = 'strict')\n",
    "         ---> { string.encode(encoding = 'UTF-8',errors = 'strict') }\n",
    "        ---------------------------------------------------------------\n",
    "         decode(encoding = 'UTF-8',errors = 'strict')\n",
    "         ---> { encode_string.encode(encoding = 'UTF-8',errors = 'strict') }\n",
    "        ---------------------------------------------------------------\n",
    "        endswith(suffix, beg = 0, end = len(string))        --> { string.endswith('ed')}   \n",
    "        ---------------------------------------------------------------\n",
    "        expandtabs(tabsize = 8)             --> { string.expandtabs()}\n",
    "        -------------------------------8--------------------------------      \n",
    "        find(str, beg = 0 end = len(string)) -->  { string.find('o')}\n",
    "         -------------------------------9--------------------------------        \n",
    "        index(str, beg = 0, end = len(string))  --> { string.index('o')}\n",
    "         -------------------------------10--------------------------------        \n",
    "        isalnum()                            --> {string.isalnum() }\n",
    "         -------------------------------11--------------------------------\n",
    "        isalpha()                            --> {string.isalnum() }    \n",
    "         --------------------------------12-------------------------------\n",
    "        isdigit()                           --> {string.isdigit() }\n",
    "         --------------------------------13-------------------------------\n",
    "         islower()                          --> {string.islower() }\n",
    "         --------------------------------14-------------------------------\n",
    "         isnumeric()                         --> {string.isnumeric() }\n",
    "         ---------------------------------15------------------------------\n",
    "         isspace()                           --> {string.isspace() }   \n",
    "         --------------------------------16-------------------------------\n",
    "         istitle()                           --> {string.istitle() }   \n",
    "         ---------------------------------17------------------------------\n",
    "         isupper()                            --> {string.isupper() }   \n",
    "         ---------------------------------18------------------------------\n",
    "         join(seq)                            --> {string.join('') }  \n",
    "         -----------------------------------19----------------------------\n",
    "         len(string)                          --> {len(string) }   \n",
    "         -----------------------------------20----------------------------\n",
    "         ljust(width[, fillchar])              --> {string.istitle() }   \n",
    "         ---------------------------21------------------------------------\n",
    "         lower()                               --> {string.istitle() }   \n",
    "         ---------------------------22------------------------------------\n",
    "         lstrip()                              --> {string.istitle() }   \n",
    "        -----------------------------24----------------------------------\n",
    "         max(str)                              --> {max(string) }   \n",
    "         ------------------------------25---------------------------------\n",
    "         min(str)                              --> {min(string) }   \n",
    "         ------------------------------26---------------------------------\n",
    "         replace(old, new [, max])            --> {string.replace('Lock','Unlock') }    \n",
    "         -----------------------------27----------------------------------\n",
    "         rfind(str, beg = 0,end = len(string)) --> {string.rfind('Lock') }   \n",
    "         ------------------------------28---------------------------------\n",
    "         rindex( str, beg = 0, end = len(string)) --> {string.rindex('o') }   \n",
    "         -------------------------------29--------------------------------\n",
    "         rjust(width,[, fillchar])               --> {string.rjust(50,'*') }   \n",
    "         ------------------------------30---------------------------------\n",
    "         rstrip()                                 --> {string.rstrip() }   \n",
    "         -------------------------------31--------------------------------\n",
    "         split(str=\"\", num=string.count(str))      --> {string.split() }   \n",
    "         -------------------------------32--------------------------------\n",
    "         splitlines( num=string.count('\\\\n'))      --> {string.splitlines() }   \n",
    "         -------------------------------33--------------------------------\n",
    "         startswith(str, beg=0,end=len(string))    --> {string.startswith('Z') }   \n",
    "         -----------------------------34----------------------------------\n",
    "         strip([chars])                           --> {string.strip() }   \n",
    "         ------------------------------35---------------------------------\n",
    "         swapcase()                              --> {string.swapcase() }   \n",
    "         ----------------------------------36-----------------------------\n",
    "         title()                                  --> {string.title() }   \n",
    "         --------------------------------38-------------------------------\n",
    "         upper()                                  --> {string.upper() }   \n",
    "         ---------------------------------39------------------------------\n",
    "         zfill (width)                           --> {string.zfill(50) }   \n",
    "         ----------------------------------40-----------------------------\n",
    "         isdecimal()                              --> {string.isdecimal() }   \n",
    "      \n",
    "    '''\n",
    ")       \n"
   ]
  },
  {
   "cell_type": "code",
   "execution_count": null,
   "id": "93b6df44-7289-41d9-b107-2d8a1297809d",
   "metadata": {},
   "outputs": [],
   "source": []
  },
  {
   "cell_type": "code",
   "execution_count": null,
   "id": "1801ce24-958d-491d-93ef-cf321e1ca2dc",
   "metadata": {},
   "outputs": [],
   "source": []
  },
  {
   "cell_type": "code",
   "execution_count": null,
   "id": "d35228b4-1fb0-4386-8de5-21d779fab53d",
   "metadata": {},
   "outputs": [],
   "source": []
  },
  {
   "cell_type": "code",
   "execution_count": null,
   "id": "3f9799f0-ba7f-425b-8864-3f8fa2cf471d",
   "metadata": {},
   "outputs": [],
   "source": []
  },
  {
   "cell_type": "code",
   "execution_count": null,
   "id": "a61ae6dd-9dc6-4e6e-86d6-e84314ccfa32",
   "metadata": {},
   "outputs": [],
   "source": []
  },
  {
   "cell_type": "markdown",
   "id": "76996414-3500-462c-a869-120bdf816240",
   "metadata": {},
   "source": [
    "### String Formatting Operator"
   ]
  },
  {
   "cell_type": "code",
   "execution_count": 101,
   "id": "d9f97d48-3aed-4a4f-9786-7e5aab7f640c",
   "metadata": {},
   "outputs": [
    {
     "name": "stdout",
     "output_type": "stream",
     "text": [
      "My name is Codelocked and age is 1 kg!\n"
     ]
    }
   ],
   "source": [
    "print(\"My name is %s and age is %d kg!\" % ('Codelocked', 1))\n"
   ]
  },
  {
   "cell_type": "markdown",
   "id": "07f57225-6ff7-4ae3-b6ce-2403c59b60cb",
   "metadata": {},
   "source": [
    "##### Builtin in function `format()`"
   ]
  },
  {
   "cell_type": "code",
   "execution_count": 113,
   "id": "7998c6ae-a318-44b8-9d83-1ce2e8da9e58",
   "metadata": {},
   "outputs": [
    {
     "name": "stdout",
     "output_type": "stream",
     "text": [
      "***abc****\n"
     ]
    }
   ],
   "source": [
    "s = 'abc'\n",
    "print(format(s, '*^10'))"
   ]
  },
  {
   "cell_type": "markdown",
   "id": "91c0f35f-c511-44f8-8e91-f2f9f8690263",
   "metadata": {},
   "source": [
    "##### The string method: `str.format()`"
   ]
  },
  {
   "cell_type": "code",
   "execution_count": 114,
   "id": "dd992261-ae9f-4104-b2c9-3e06500b10cd",
   "metadata": {},
   "outputs": [
    {
     "name": "stdout",
     "output_type": "stream",
     "text": [
      "***abc****\n"
     ]
    }
   ],
   "source": [
    "print('{:*^10}'.format(s))"
   ]
  },
  {
   "cell_type": "code",
   "execution_count": null,
   "id": "e8a9f02a-869f-4c9c-8429-b25d78f1022b",
   "metadata": {},
   "outputs": [],
   "source": []
  },
  {
   "cell_type": "markdown",
   "id": "fabd8f8c-4453-4eb3-828e-f7976e59bbdd",
   "metadata": {},
   "source": [
    "##### Specify arguments for the replacement field `{}`"
   ]
  },
  {
   "cell_type": "code",
   "execution_count": 116,
   "id": "36c0d078-19e0-43f3-a2e6-8641b6de8139",
   "metadata": {},
   "outputs": [
    {
     "name": "stdout",
     "output_type": "stream",
     "text": [
      "255-abc-1.23\n"
     ]
    }
   ],
   "source": [
    "print('{}-{}-{}'.format(255, 'abc', 1.23))"
   ]
  },
  {
   "cell_type": "markdown",
   "id": "1c17d81a-a0d8-4243-bd66-e6c0dd83a4b9",
   "metadata": {},
   "source": [
    "##### The numeric index"
   ]
  },
  {
   "cell_type": "code",
   "execution_count": 117,
   "id": "9bd4f55a-8eb3-411f-8ecb-32b4bc81153f",
   "metadata": {},
   "outputs": [
    {
     "name": "stdout",
     "output_type": "stream",
     "text": [
      "255-abc-255\n"
     ]
    }
   ],
   "source": [
    "print('{0}-{1}-{0}'.format(255, 'abc'))"
   ]
  },
  {
   "cell_type": "markdown",
   "id": "41867c0f-f968-44b8-b991-b43c9bc187ab",
   "metadata": {},
   "source": [
    "##### Keyword arguments"
   ]
  },
  {
   "cell_type": "code",
   "execution_count": 118,
   "id": "d2f58a97-c71e-4b9a-907a-9eb815cfb68e",
   "metadata": {},
   "outputs": [
    {
     "name": "stdout",
     "output_type": "stream",
     "text": [
      "CodeLocked is 1 years old.\n"
     ]
    }
   ],
   "source": [
    "print('{name} is {age} years old.'.format(name='CodeLocked', age=1))"
   ]
  },
  {
   "cell_type": "markdown",
   "id": "c9aeb188-db56-4ba9-8757-d58644797456",
   "metadata": {},
   "source": [
    "##### Specify list or dictionary"
   ]
  },
  {
   "cell_type": "code",
   "execution_count": null,
   "id": "2d47228a-da8a-426b-ad54-d2b127259418",
   "metadata": {},
   "outputs": [],
   "source": [
    "l = ['one', 'two', 'three']\n",
    "print('{0[0]}-{0[1]}-{0[2]}'.format(l))"
   ]
  },
  {
   "cell_type": "code",
   "execution_count": 122,
   "id": "a93892d5-9447-4a5b-a401-a32ecca13ae0",
   "metadata": {},
   "outputs": [
    {
     "name": "stdout",
     "output_type": "stream",
     "text": [
      "CodeLocked is 1 years old.\n",
      "Python is 33 years old.\n"
     ]
    }
   ],
   "source": [
    "d1 = {'name': 'CodeLocked', 'age': 1}\n",
    "d2 = {'name': 'Python', 'age': 33}\n",
    "print('{0[name]} is {0[age]} years old.\\n{1[name]} is {1[age]} years old.'.format(d1, d2))\n"
   ]
  },
  {
   "cell_type": "markdown",
   "id": "bd475cf6-720d-4a1e-9928-2bf83aea67a5",
   "metadata": {},
   "source": [
    "##### Left-align, center, right-align: <, ^, >, ="
   ]
  },
  {
   "cell_type": "code",
   "execution_count": 126,
   "id": "820f95e7-7d26-4360-bdbc-2d044a54eed0",
   "metadata": {},
   "outputs": [
    {
     "name": "stdout",
     "output_type": "stream",
     "text": [
      "left  : Hello Codelocked!                                 \n",
      "center:                 Hello Codelocked!                 \n",
      "right :                                  Hello Codelocked!\n"
     ]
    }
   ],
   "source": [
    "print('left  : {:<50}'.format(str1))\n",
    "print('center: {:^50}'.format(str1))\n",
    "print('right : {:>50}'.format(str1))"
   ]
  },
  {
   "cell_type": "code",
   "execution_count": 127,
   "id": "f1deaef4-da1a-4ec5-b36c-2e040236aa53",
   "metadata": {},
   "outputs": [
    {
     "name": "stdout",
     "output_type": "stream",
     "text": [
      "left  : Hello Codelocked!*************\n",
      "center: ******Hello Codelocked!*******\n",
      "right : *************Hello Codelocked!\n"
     ]
    }
   ],
   "source": [
    "print('left  : {:*<30}'.format(str1))\n",
    "print('center: {:*^30}'.format(str1))\n",
    "print('right : {:*>30}'.format(str1))"
   ]
  },
  {
   "cell_type": "code",
   "execution_count": null,
   "id": "9eff4946-7556-48cb-b23b-7d3930bf8155",
   "metadata": {},
   "outputs": [],
   "source": []
  },
  {
   "cell_type": "code",
   "execution_count": null,
   "id": "32a8f52d-c3ee-4777-8386-1873ac12f8d8",
   "metadata": {},
   "outputs": [],
   "source": []
  },
  {
   "cell_type": "code",
   "execution_count": null,
   "id": "f51d0e7a-9555-445c-a447-50b05a2d0c38",
   "metadata": {},
   "outputs": [],
   "source": []
  },
  {
   "cell_type": "markdown",
   "id": "12171f00-4d61-4329-8458-7614be151ea6",
   "metadata": {},
   "source": [
    "### Comparision of two strings"
   ]
  },
  {
   "cell_type": "code",
   "execution_count": 38,
   "id": "6efb2f58-ab5a-49eb-9a4d-aa4d1413c1a9",
   "metadata": {},
   "outputs": [],
   "source": [
    "str3 = \"Java Programming!\""
   ]
  },
  {
   "cell_type": "code",
   "execution_count": 46,
   "id": "95131e44-1cf6-43f8-9ec8-3fa72dbe6b0f",
   "metadata": {},
   "outputs": [
    {
     "name": "stdout",
     "output_type": "stream",
     "text": [
      "----------------------------------------\n",
      "First String  :  Supriya\n",
      "Second String :  Rashmika\n",
      "----------------------------------------\n",
      "Comparison result : First String is less than Second string\n"
     ]
    }
   ],
   "source": [
    "print(\"-\"*40)\n",
    "print(\"First String  : \", str2)\n",
    "print(\"Second String : \", str3)\n",
    "print(\"-\"*40)\n",
    "print(\"Comparison result : \", end='')\n",
    "if len(str2) > len(str3):\n",
    "    print(\"First String is greater then Second string\")\n",
    "elif len(str2) < len(str3):\n",
    "    print(\"First String is less than Second string\")\n",
    "else:\n",
    "    print(\"Both string are same\")  "
   ]
  },
  {
   "cell_type": "code",
   "execution_count": null,
   "id": "5fbc2103-ebea-4440-8bf0-5bd586cbeb37",
   "metadata": {},
   "outputs": [],
   "source": []
  },
  {
   "cell_type": "markdown",
   "id": "da6db70d-f0a0-4eec-89f1-00bf65fbbd1d",
   "metadata": {},
   "source": [
    "### Enter two strings "
   ]
  },
  {
   "cell_type": "code",
   "execution_count": 44,
   "id": "f93c159f-3da0-4cd8-aca9-b126001aad7e",
   "metadata": {},
   "outputs": [
    {
     "name": "stdin",
     "output_type": "stream",
     "text": [
      "Enter First String :  Supriya\n"
     ]
    }
   ],
   "source": [
    "str2 = str(input(\"Enter First String : \"))"
   ]
  },
  {
   "cell_type": "code",
   "execution_count": 45,
   "id": "e69e60f8-6d27-4ff7-a074-057f55ce5f02",
   "metadata": {},
   "outputs": [
    {
     "name": "stdin",
     "output_type": "stream",
     "text": [
      "Enter Second String :  Rashmika\n"
     ]
    }
   ],
   "source": [
    "str3 = str(input(\"Enter Second String : \"))"
   ]
  },
  {
   "cell_type": "code",
   "execution_count": null,
   "id": "572c1789-4458-4614-ab88-0179af2ccbb9",
   "metadata": {},
   "outputs": [],
   "source": []
  },
  {
   "cell_type": "code",
   "execution_count": null,
   "id": "2dcf1e96-7f12-4a82-9255-96a0e38836e8",
   "metadata": {},
   "outputs": [],
   "source": []
  },
  {
   "cell_type": "markdown",
   "id": "b99a0bf7-3964-4a27-b0f1-9e2ab900aed1",
   "metadata": {},
   "source": [
    "### Search for a substring"
   ]
  },
  {
   "cell_type": "code",
   "execution_count": 48,
   "id": "6434c81d-1544-4032-b9bd-e1dba8970c3d",
   "metadata": {},
   "outputs": [],
   "source": [
    "# Run program search_for_substrings.py"
   ]
  },
  {
   "cell_type": "code",
   "execution_count": null,
   "id": "31484f73-5e02-4833-a705-9e3fed38fc94",
   "metadata": {},
   "outputs": [],
   "source": []
  },
  {
   "cell_type": "markdown",
   "id": "a63e7cf9-d4b4-4757-b2fc-ef2894c8f9fa",
   "metadata": {},
   "source": [
    "### Replace of strings"
   ]
  },
  {
   "cell_type": "code",
   "execution_count": 51,
   "id": "7b915411-1708-4f70-af3e-8e4557e1516b",
   "metadata": {},
   "outputs": [
    {
     "data": {
      "text/plain": [
       "'Hello Codelocked!'"
      ]
     },
     "execution_count": 51,
     "metadata": {},
     "output_type": "execute_result"
    }
   ],
   "source": [
    "str1"
   ]
  },
  {
   "cell_type": "code",
   "execution_count": 52,
   "id": "90bbb899-230a-4ec2-a719-6dc97890a8d1",
   "metadata": {},
   "outputs": [
    {
     "name": "stdout",
     "output_type": "stream",
     "text": [
      "Awesome Codelocked!\n"
     ]
    }
   ],
   "source": [
    "new_string=str1.replace('Hello','Awesome',1)\n",
    "print (new_string)"
   ]
  },
  {
   "cell_type": "markdown",
   "id": "ce3dc1cb-158e-4230-829c-a2eab0b2ed4b",
   "metadata": {},
   "source": [
    "### Reversing Strings"
   ]
  },
  {
   "cell_type": "code",
   "execution_count": 53,
   "id": "6b421ad5-18b0-4265-bc33-76c6078621c4",
   "metadata": {},
   "outputs": [
    {
     "data": {
      "text/plain": [
       "'!dekcoledoC emosewA'"
      ]
     },
     "execution_count": 53,
     "metadata": {},
     "output_type": "execute_result"
    }
   ],
   "source": [
    "new_string[::-1]"
   ]
  },
  {
   "cell_type": "code",
   "execution_count": null,
   "id": "44ad4083-2f2b-4f5b-ae0a-7de5357f3891",
   "metadata": {},
   "outputs": [],
   "source": []
  },
  {
   "cell_type": "code",
   "execution_count": null,
   "id": "4f53ef12-0273-4cb8-a96b-120a864ec56d",
   "metadata": {},
   "outputs": [],
   "source": [
    "### Slice of the strings"
   ]
  }
 ],
 "metadata": {
  "kernelspec": {
   "display_name": "Python 3 (ipykernel)",
   "language": "python",
   "name": "python3"
  },
  "language_info": {
   "codemirror_mode": {
    "name": "ipython",
    "version": 3
   },
   "file_extension": ".py",
   "mimetype": "text/x-python",
   "name": "python",
   "nbconvert_exporter": "python",
   "pygments_lexer": "ipython3",
   "version": "3.11.4"
  }
 },
 "nbformat": 4,
 "nbformat_minor": 5
}

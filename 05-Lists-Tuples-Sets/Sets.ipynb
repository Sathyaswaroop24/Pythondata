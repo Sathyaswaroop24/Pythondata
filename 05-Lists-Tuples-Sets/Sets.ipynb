{
 "cells": [
  {
   "cell_type": "markdown",
   "id": "af9463fe-17e9-4752-b7f1-a82daab42aa3",
   "metadata": {},
   "source": [
    "# Sets"
   ]
  },
  {
   "cell_type": "markdown",
   "id": "89fa8960-d5d1-4ee7-a005-7b05428fac38",
   "metadata": {},
   "source": [
    "- Values that are unordered\n",
    "\n",
    "- No duplicates\n"
   ]
  },
  {
   "cell_type": "code",
   "execution_count": 1,
   "id": "c3cd4d4c-5307-4f60-853d-fe277540d968",
   "metadata": {},
   "outputs": [
    {
     "data": {
      "text/plain": [
       "{'Batman', 'Cyborg', 'Flash', 'Superman'}"
      ]
     },
     "execution_count": 1,
     "metadata": {},
     "output_type": "execute_result"
    }
   ],
   "source": [
    "justice_league = {'Batman', 'Superman', 'Flash','Cyborg' }\n",
    "justice_league"
   ]
  },
  {
   "cell_type": "code",
   "execution_count": 2,
   "id": "4755a094-3643-42a2-93e9-9331d6c6f959",
   "metadata": {},
   "outputs": [
    {
     "data": {
      "text/plain": [
       "set"
      ]
     },
     "execution_count": 2,
     "metadata": {},
     "output_type": "execute_result"
    }
   ],
   "source": [
    "type(justice_league)"
   ]
  },
  {
   "cell_type": "code",
   "execution_count": 3,
   "id": "6dc8954d-a032-4880-9edb-0338d8960770",
   "metadata": {},
   "outputs": [],
   "source": [
    "# Checkout the Order of output \n",
    "# run test_sets.py"
   ]
  },
  {
   "cell_type": "code",
   "execution_count": 8,
   "id": "92b35f3a-f1ce-4068-8ddb-3d2c6cb1ce21",
   "metadata": {},
   "outputs": [
    {
     "name": "stdout",
     "output_type": "stream",
     "text": [
      "{'Superman', 'Batman', 'Cyborg', 'Flash'}\n"
     ]
    }
   ],
   "source": [
    "!python test_sets.py"
   ]
  },
  {
   "cell_type": "code",
   "execution_count": 9,
   "id": "cacb9bad-9a20-403b-9b6a-89b151dc2afe",
   "metadata": {},
   "outputs": [
    {
     "name": "stdout",
     "output_type": "stream",
     "text": [
      "{'Cyborg', 'Superman', 'Batman', 'Flash'}\n"
     ]
    }
   ],
   "source": [
    "!python test_sets.py"
   ]
  },
  {
   "cell_type": "code",
   "execution_count": 7,
   "id": "3d87634d-8ade-4bd0-97f5-e20721a4d01e",
   "metadata": {},
   "outputs": [
    {
     "name": "stdout",
     "output_type": "stream",
     "text": [
      "/Users/raahool/applications/github/pythontutor/05-Lists-Tuples-Sets\n"
     ]
    }
   ],
   "source": [
    "!pwd"
   ]
  },
  {
   "cell_type": "code",
   "execution_count": null,
   "id": "88cc3dfd-d074-45fe-89a9-ca23b13e4a0b",
   "metadata": {},
   "outputs": [],
   "source": []
  },
  {
   "cell_type": "code",
   "execution_count": 10,
   "id": "4781c896-d36f-42f4-a643-384a67273aff",
   "metadata": {},
   "outputs": [
    {
     "data": {
      "text/plain": [
       "{'Batman', 'Cyborg', 'Flash', 'Superman'}"
      ]
     },
     "execution_count": 10,
     "metadata": {},
     "output_type": "execute_result"
    }
   ],
   "source": [
    "# Duplicates\n",
    "justice_league = {'Batman', 'Superman', 'Flash','Cyborg','Batman' }\n",
    "justice_league"
   ]
  },
  {
   "cell_type": "code",
   "execution_count": null,
   "id": "a5ead3f7-b41c-4635-9b97-57165e26f5fc",
   "metadata": {},
   "outputs": [],
   "source": []
  },
  {
   "cell_type": "code",
   "execution_count": 11,
   "id": "be909b9c-4df5-45c2-92fa-e470cea43e93",
   "metadata": {},
   "outputs": [
    {
     "data": {
      "text/plain": [
       "True"
      ]
     },
     "execution_count": 11,
     "metadata": {},
     "output_type": "execute_result"
    }
   ],
   "source": [
    "# Membership in set is more efficient than list and tuples\n",
    "'Batman' in justice_league"
   ]
  },
  {
   "cell_type": "markdown",
   "id": "7a7147d5-8967-4796-9123-aa6856e4834b",
   "metadata": {},
   "source": [
    "### NOTE:  Same thing we can do with list and tuples\n",
    "### but set are optimised for this"
   ]
  },
  {
   "cell_type": "code",
   "execution_count": 13,
   "id": "cb42b74b-bee9-422d-b24f-6ded77df9972",
   "metadata": {},
   "outputs": [],
   "source": [
    "# Set are useful to determine whether it is shared or not with other sets\n",
    "justice_league = {'Batman', 'Superman', 'Flash','Cyborg','Sazam','Wonder Women' }\n",
    "justice_society = {'Black Adma', 'Sazam', 'Doctor Fate','Wonder Women'  }"
   ]
  },
  {
   "cell_type": "code",
   "execution_count": null,
   "id": "aacd0bee-263d-462a-b290-4e49b53f58c3",
   "metadata": {},
   "outputs": [],
   "source": []
  },
  {
   "cell_type": "code",
   "execution_count": 15,
   "id": "f1063687-a7dc-4523-924f-8ef3cfdee484",
   "metadata": {},
   "outputs": [
    {
     "data": {
      "text/plain": [
       "{'Sazam', 'Wonder Women'}"
      ]
     },
     "execution_count": 15,
     "metadata": {},
     "output_type": "execute_result"
    }
   ],
   "source": [
    "justice_league.intersection(justice_society)"
   ]
  },
  {
   "cell_type": "code",
   "execution_count": 16,
   "id": "e7ac7932-e871-4f4d-9cf3-a88a27def9fd",
   "metadata": {},
   "outputs": [
    {
     "data": {
      "text/plain": [
       "{'Batman', 'Cyborg', 'Flash', 'Superman'}"
      ]
     },
     "execution_count": 16,
     "metadata": {},
     "output_type": "execute_result"
    }
   ],
   "source": [
    "justice_league.difference(justice_society)"
   ]
  },
  {
   "cell_type": "code",
   "execution_count": 17,
   "id": "8b990d1d-5a0a-4518-85b7-41b968554b22",
   "metadata": {},
   "outputs": [
    {
     "data": {
      "text/plain": [
       "{'Batman',\n",
       " 'Black Adma',\n",
       " 'Cyborg',\n",
       " 'Doctor Fate',\n",
       " 'Flash',\n",
       " 'Sazam',\n",
       " 'Superman',\n",
       " 'Wonder Women'}"
      ]
     },
     "execution_count": 17,
     "metadata": {},
     "output_type": "execute_result"
    }
   ],
   "source": [
    "justice_league.union(justice_society)"
   ]
  },
  {
   "cell_type": "code",
   "execution_count": null,
   "id": "df8f6783-d3cb-4f1e-bc9b-2c55bda2c37b",
   "metadata": {},
   "outputs": [],
   "source": []
  },
  {
   "cell_type": "code",
   "execution_count": null,
   "id": "b9662db5-ea99-45fd-b06d-a14f1497ce15",
   "metadata": {},
   "outputs": [],
   "source": []
  },
  {
   "cell_type": "code",
   "execution_count": 18,
   "id": "1886dd62-fedf-4dbc-a7fb-465247e3b483",
   "metadata": {},
   "outputs": [],
   "source": [
    "# create empty list , tuples and sets"
   ]
  },
  {
   "cell_type": "code",
   "execution_count": null,
   "id": "2e04cee2-628e-4a2e-ab76-5855c32f0c45",
   "metadata": {},
   "outputs": [],
   "source": []
  }
 ],
 "metadata": {
  "kernelspec": {
   "display_name": "Python 3 (ipykernel)",
   "language": "python",
   "name": "python3"
  },
  "language_info": {
   "codemirror_mode": {
    "name": "ipython",
    "version": 3
   },
   "file_extension": ".py",
   "mimetype": "text/x-python",
   "name": "python",
   "nbconvert_exporter": "python",
   "pygments_lexer": "ipython3",
   "version": "3.9.13"
  }
 },
 "nbformat": 4,
 "nbformat_minor": 5
}

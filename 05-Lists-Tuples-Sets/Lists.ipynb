{
 "cells": [
  {
   "cell_type": "markdown",
   "id": "b3b7bc83-ea59-4ed9-b528-6415a4d54634",
   "metadata": {},
   "source": [
    "## Python has six built-in types of sequences"
   ]
  },
  {
   "cell_type": "markdown",
   "id": "91b7f45e-80a0-42ce-a683-d0eee03e5c2f",
   "metadata": {},
   "source": [
    "- strings, lists, tuples, byte sequences, byte arrays, and range objects\n",
    "\n",
    "- List and Tuple allow work with Sequencial data\n",
    "\n",
    "- Sets are unorder collection of values with NO duplicates\n"
   ]
  },
  {
   "cell_type": "markdown",
   "id": "658effe3-6213-4580-be51-fb247af60104",
   "metadata": {},
   "source": [
    "# List\n",
    "\n",
    "- the most versatile datatype available in Python and has lot functionlity than other data types\n",
    "\n",
    "- List name imples it allow us to handle list of values\n",
    "\n",
    "- comma-separated values (items) between square brackets\n",
    "\n",
    "- *** The items in a list need NOT be of the same type ***"
   ]
  },
  {
   "cell_type": "code",
   "execution_count": 1,
   "id": "44bbf89c-ad62-47ef-9ec0-88f00926489c",
   "metadata": {},
   "outputs": [],
   "source": [
    "# Say I want list of members \n",
    "justice_league = ['BatMan', 'SuperMan', 'Flash', 'Cyborg']"
   ]
  },
  {
   "cell_type": "code",
   "execution_count": 2,
   "id": "2b7733fc-8578-4c52-b135-63f4f65507d4",
   "metadata": {},
   "outputs": [
    {
     "name": "stdout",
     "output_type": "stream",
     "text": [
      "['BatMan', 'SuperMan', 'Flash', 'Cyborg']\n"
     ]
    }
   ],
   "source": [
    "print(justice_league)"
   ]
  },
  {
   "cell_type": "code",
   "execution_count": 3,
   "id": "ad714d54-4bdd-479d-b5e6-04951bc4333d",
   "metadata": {},
   "outputs": [
    {
     "data": {
      "text/plain": [
       "list"
      ]
     },
     "execution_count": 3,
     "metadata": {},
     "output_type": "execute_result"
    }
   ],
   "source": [
    "type(justice_league)"
   ]
  },
  {
   "cell_type": "code",
   "execution_count": 8,
   "id": "7263ceef-e949-499c-b87b-e964b550a756",
   "metadata": {},
   "outputs": [],
   "source": [
    "# Create empty list \n",
    "\n",
    "a = []  # beginer\n",
    "b = list() # advance "
   ]
  },
  {
   "cell_type": "code",
   "execution_count": 9,
   "id": "1d87d8ae-19a3-482f-a015-bb9fc36df471",
   "metadata": {},
   "outputs": [
    {
     "data": {
      "text/plain": [
       "[]"
      ]
     },
     "execution_count": 9,
     "metadata": {},
     "output_type": "execute_result"
    }
   ],
   "source": [
    "a"
   ]
  },
  {
   "cell_type": "code",
   "execution_count": 10,
   "id": "a8e8707b-37a8-4a7e-81b9-0366ca044de8",
   "metadata": {},
   "outputs": [
    {
     "data": {
      "text/plain": [
       "[]"
      ]
     },
     "execution_count": 10,
     "metadata": {},
     "output_type": "execute_result"
    }
   ],
   "source": [
    "b"
   ]
  },
  {
   "cell_type": "code",
   "execution_count": 11,
   "id": "e4737ada-ec6f-4cd0-a10f-77fe3a31e6d8",
   "metadata": {},
   "outputs": [
    {
     "data": {
      "text/plain": [
       "list"
      ]
     },
     "execution_count": 11,
     "metadata": {},
     "output_type": "execute_result"
    }
   ],
   "source": [
    "type(a)"
   ]
  },
  {
   "cell_type": "code",
   "execution_count": 13,
   "id": "37f5a549-325d-4c3e-b3ea-3b9d0329033b",
   "metadata": {},
   "outputs": [],
   "source": [
    "list1 = ['python', 'java', 1989, 2023]\n",
    "list2 = [1, 2, 3, 4, 5 ]\n",
    "list3 = [\"a\", \"b\", \"c\", \"d\"]"
   ]
  },
  {
   "cell_type": "code",
   "execution_count": 14,
   "id": "04147094-4113-46a2-89b5-5a31f9ea4406",
   "metadata": {},
   "outputs": [
    {
     "data": {
      "text/plain": [
       "['python', 'java', 1989, 2023]"
      ]
     },
     "execution_count": 14,
     "metadata": {},
     "output_type": "execute_result"
    }
   ],
   "source": [
    "list1"
   ]
  },
  {
   "cell_type": "code",
   "execution_count": 15,
   "id": "26cdc6c6-4be9-4cd4-a5c6-d114fd52f81c",
   "metadata": {},
   "outputs": [
    {
     "data": {
      "text/plain": [
       "[1, 2, 3, 4, 5]"
      ]
     },
     "execution_count": 15,
     "metadata": {},
     "output_type": "execute_result"
    }
   ],
   "source": [
    "list2"
   ]
  },
  {
   "cell_type": "code",
   "execution_count": 16,
   "id": "089468bf-feb4-4ddf-a0be-94965b6eb352",
   "metadata": {},
   "outputs": [
    {
     "data": {
      "text/plain": [
       "['a', 'b', 'c', 'd']"
      ]
     },
     "execution_count": 16,
     "metadata": {},
     "output_type": "execute_result"
    }
   ],
   "source": [
    "list3"
   ]
  },
  {
   "cell_type": "code",
   "execution_count": null,
   "id": "c3d7826b-72f0-442e-bd04-99d0b214421f",
   "metadata": {},
   "outputs": [],
   "source": []
  },
  {
   "cell_type": "markdown",
   "id": "4c6ee6af-4aea-4e44-b2c3-bbf9671c202d",
   "metadata": {},
   "source": [
    "#### Access List values"
   ]
  },
  {
   "cell_type": "code",
   "execution_count": 18,
   "id": "e38b045e-0a0e-44fd-b146-54f2e24275f8",
   "metadata": {},
   "outputs": [
    {
     "data": {
      "text/plain": [
       "4"
      ]
     },
     "execution_count": 18,
     "metadata": {},
     "output_type": "execute_result"
    }
   ],
   "source": [
    "# Length\n",
    "len(justice_league)"
   ]
  },
  {
   "cell_type": "code",
   "execution_count": 24,
   "id": "7e53bdc5-971d-4053-a386-84fd08b190e8",
   "metadata": {},
   "outputs": [
    {
     "data": {
      "text/plain": [
       "['BatMan', 'SuperMan', 'Flash', 'Cyborg']"
      ]
     },
     "execution_count": 24,
     "metadata": {},
     "output_type": "execute_result"
    }
   ],
   "source": [
    "# Access list elements individually \n",
    "justice_league[:]"
   ]
  },
  {
   "cell_type": "code",
   "execution_count": 26,
   "id": "78e8e234-9d70-45ee-b5e2-5a119809f38e",
   "metadata": {},
   "outputs": [
    {
     "data": {
      "text/plain": [
       "'Cyborg'"
      ]
     },
     "execution_count": 26,
     "metadata": {},
     "output_type": "execute_result"
    }
   ],
   "source": [
    "# latest value from list\n",
    "justice_league[-1]"
   ]
  },
  {
   "cell_type": "code",
   "execution_count": 27,
   "id": "c982ef5d-7cff-45bf-a788-314327a37ae8",
   "metadata": {},
   "outputs": [
    {
     "data": {
      "text/plain": [
       "['BatMan', 'SuperMan', 'Flash', 'Cyborg']"
      ]
     },
     "execution_count": 27,
     "metadata": {},
     "output_type": "execute_result"
    }
   ],
   "source": [
    "justice_league[:]"
   ]
  },
  {
   "cell_type": "markdown",
   "id": "4953e195-68e3-46cb-b68e-22b5cd055ab1",
   "metadata": {},
   "source": [
    "#### Updating list"
   ]
  },
  {
   "cell_type": "code",
   "execution_count": 28,
   "id": "fdde5b1a-5196-48da-9194-effcfcdc1bae",
   "metadata": {},
   "outputs": [],
   "source": [
    "justice_league.append('Green Lantern')"
   ]
  },
  {
   "cell_type": "code",
   "execution_count": 29,
   "id": "1917cee1-015e-49b3-93ed-c515277c44ae",
   "metadata": {},
   "outputs": [
    {
     "data": {
      "text/plain": [
       "['BatMan', 'SuperMan', 'Flash', 'Cyborg', 'Green Lantern']"
      ]
     },
     "execution_count": 29,
     "metadata": {},
     "output_type": "execute_result"
    }
   ],
   "source": [
    "justice_league"
   ]
  },
  {
   "cell_type": "code",
   "execution_count": 30,
   "id": "2d22f955-2572-412e-8c40-78889ff93b4f",
   "metadata": {},
   "outputs": [],
   "source": [
    "justice_league.insert(0,'Wonder Women')"
   ]
  },
  {
   "cell_type": "code",
   "execution_count": 31,
   "id": "5561379d-8f08-4a2a-bd03-d9d5ca5144ae",
   "metadata": {},
   "outputs": [
    {
     "data": {
      "text/plain": [
       "['Wonder Women', 'BatMan', 'SuperMan', 'Flash', 'Cyborg', 'Green Lantern']"
      ]
     },
     "execution_count": 31,
     "metadata": {},
     "output_type": "execute_result"
    }
   ],
   "source": [
    "justice_league"
   ]
  },
  {
   "cell_type": "code",
   "execution_count": null,
   "id": "dd57fb7a-486e-49fa-a7b2-ff6539a3fedb",
   "metadata": {},
   "outputs": [],
   "source": [
    "justice_society = ['Black Adam', 'Shazam']"
   ]
  },
  {
   "cell_type": "code",
   "execution_count": null,
   "id": "e8adbb62-be87-4a47-8fbf-faabb8d79309",
   "metadata": {},
   "outputs": [],
   "source": [
    "# Inserting List into List\n",
    "justice_league.insert(0,justice_society)"
   ]
  },
  {
   "cell_type": "code",
   "execution_count": null,
   "id": "710da594-df2a-4ee8-b8d3-c0a5df859cfe",
   "metadata": {},
   "outputs": [],
   "source": [
    "justice_league"
   ]
  },
  {
   "cell_type": "code",
   "execution_count": null,
   "id": "e5f0fe07-7511-464e-b55e-c155fc7bde65",
   "metadata": {},
   "outputs": [],
   "source": [
    "# So now we just created the Nested List"
   ]
  },
  {
   "cell_type": "code",
   "execution_count": null,
   "id": "38fa366b-0cc8-42f5-b0b0-635383c193c8",
   "metadata": {},
   "outputs": [],
   "source": [
    "justice_league[0]"
   ]
  },
  {
   "cell_type": "code",
   "execution_count": null,
   "id": "7d91a54c-00c1-415c-883e-1358fa671598",
   "metadata": {},
   "outputs": [],
   "source": [
    "# But what if we just want the lsit element to another list"
   ]
  },
  {
   "cell_type": "code",
   "execution_count": null,
   "id": "8433b459-7950-4b1c-adee-2e461ecb88a8",
   "metadata": {},
   "outputs": [],
   "source": [
    "justice_league = ['BatMan', 'SuperMan', 'Flash','Cyborg']\n",
    "justice_society = ['Black Adam', 'Shazam']"
   ]
  },
  {
   "cell_type": "code",
   "execution_count": null,
   "id": "a12896ca-9832-4703-b97a-0be34a47aa9a",
   "metadata": {},
   "outputs": [],
   "source": [
    "justice_league.extend(justice_society)\n",
    "justice_league"
   ]
  },
  {
   "cell_type": "code",
   "execution_count": null,
   "id": "e0ee9611-85d6-4fda-a7eb-52c2cb1b88fa",
   "metadata": {},
   "outputs": [],
   "source": []
  },
  {
   "cell_type": "code",
   "execution_count": null,
   "id": "43edc1f5-bf8b-4e1d-96c3-272832046f52",
   "metadata": {},
   "outputs": [],
   "source": [
    "justice_league = ['BatMan', 'SuperMan', 'Flash','Cyborg']\n",
    "justice_society = ['Black Adam', 'Shazam']"
   ]
  },
  {
   "cell_type": "code",
   "execution_count": null,
   "id": "5d989621-6e4d-45ba-9557-b76531562f02",
   "metadata": {},
   "outputs": [],
   "source": [
    "justice_league.append(justice_society)\n",
    "justice_league"
   ]
  },
  {
   "cell_type": "code",
   "execution_count": null,
   "id": "550ac67a-c29d-4c49-bb58-d6ddc9c04832",
   "metadata": {},
   "outputs": [],
   "source": []
  },
  {
   "cell_type": "code",
   "execution_count": null,
   "id": "ca8db0d0-5dd3-4fe1-b053-77c74647389f",
   "metadata": {},
   "outputs": [],
   "source": [
    "# Remove some values from Lists\n",
    "justice_league = ['BatMan', 'SuperMan', 'Flash','Cyborg']"
   ]
  },
  {
   "cell_type": "code",
   "execution_count": null,
   "id": "b2643ca0-9797-4c94-8cca-41de5052734f",
   "metadata": {},
   "outputs": [],
   "source": [
    "justice_league.remove('cyborg')"
   ]
  },
  {
   "cell_type": "code",
   "execution_count": null,
   "id": "5e13e334-e873-4362-9f5a-7651ef12b5af",
   "metadata": {},
   "outputs": [],
   "source": [
    "justice_league.remove('Cyborg')"
   ]
  },
  {
   "cell_type": "code",
   "execution_count": null,
   "id": "6358c204-b0f3-4922-9879-7d98c67c97c3",
   "metadata": {},
   "outputs": [],
   "source": [
    "justice_league"
   ]
  },
  {
   "cell_type": "code",
   "execution_count": null,
   "id": "ca0a2dc1-c9db-400c-ac79-771ed3eb14ba",
   "metadata": {},
   "outputs": [],
   "source": [
    "# In remove we remove element with element name"
   ]
  },
  {
   "cell_type": "code",
   "execution_count": null,
   "id": "9103a2eb-ef70-4759-b579-c268f6914dd5",
   "metadata": {},
   "outputs": [],
   "source": [
    "justice_league.pop()"
   ]
  },
  {
   "cell_type": "code",
   "execution_count": null,
   "id": "4e34476c-c71a-4ed4-b4ba-6cb9bdc85783",
   "metadata": {},
   "outputs": [],
   "source": [
    "justice_league"
   ]
  },
  {
   "cell_type": "code",
   "execution_count": null,
   "id": "9d1e28ee-bf07-4269-9e86-e5839f9a52dd",
   "metadata": {},
   "outputs": [],
   "source": []
  },
  {
   "cell_type": "code",
   "execution_count": null,
   "id": "56621b8c-215b-4cf5-a9de-c32c76b67383",
   "metadata": {},
   "outputs": [],
   "source": [
    "# Sorting list in couples of ways "
   ]
  },
  {
   "cell_type": "code",
   "execution_count": null,
   "id": "d29be3f2-a6ff-4031-9a37-80a94dd6d116",
   "metadata": {},
   "outputs": [],
   "source": [
    "justice_league = ['BatMan', 'SuperMan', 'Flash','Cyborg']"
   ]
  },
  {
   "cell_type": "code",
   "execution_count": null,
   "id": "8a11ce3f-cc78-47c0-b4b0-4992f4a919ac",
   "metadata": {},
   "outputs": [],
   "source": [
    "justice_league.reverse()\n",
    "justice_league"
   ]
  },
  {
   "cell_type": "code",
   "execution_count": null,
   "id": "1eae7be1-4273-47d2-8168-3ef8577b60b0",
   "metadata": {},
   "outputs": [],
   "source": [
    "justice_league.sort()\n",
    "justice_league"
   ]
  },
  {
   "cell_type": "code",
   "execution_count": null,
   "id": "5fc823d1-9a5d-4377-b178-1aad66707cd7",
   "metadata": {},
   "outputs": [],
   "source": []
  },
  {
   "cell_type": "code",
   "execution_count": null,
   "id": "9cc9f829-6e97-4d26-b72c-b36b5f280439",
   "metadata": {},
   "outputs": [],
   "source": [
    "nums = [ 2,1,3, 4,6,5]"
   ]
  },
  {
   "cell_type": "code",
   "execution_count": null,
   "id": "95144823-b974-439b-bdc9-68d58607311e",
   "metadata": {},
   "outputs": [],
   "source": [
    "nums.sort()\n",
    "nums"
   ]
  },
  {
   "cell_type": "code",
   "execution_count": null,
   "id": "18c37b9f-563b-4425-9227-8592780aabcf",
   "metadata": {},
   "outputs": [],
   "source": [
    "nums.sort(reverse=True)\n",
    "nums"
   ]
  },
  {
   "cell_type": "code",
   "execution_count": null,
   "id": "65b88d4f-e652-4dca-8f55-cb982213a760",
   "metadata": {},
   "outputs": [],
   "source": [
    "justice_league = ['BatMan', 'SuperMan', 'Flash','Cyborg']"
   ]
  },
  {
   "cell_type": "code",
   "execution_count": null,
   "id": "2bb6bc07-937c-415b-93b2-d8c7750880a3",
   "metadata": {},
   "outputs": [],
   "source": [
    "# Sort Method vs Sorted function "
   ]
  },
  {
   "cell_type": "code",
   "execution_count": null,
   "id": "ed9c47ed-0f2a-4d5e-b57a-80b2177034a7",
   "metadata": {},
   "outputs": [],
   "source": [
    "sorted(justice_league)"
   ]
  },
  {
   "cell_type": "code",
   "execution_count": null,
   "id": "97a1bfef-359f-4cdc-a026-7c91707c0d48",
   "metadata": {},
   "outputs": [],
   "source": [
    "sum(nums)"
   ]
  },
  {
   "cell_type": "code",
   "execution_count": null,
   "id": "3be506d7-f3a9-4eec-8191-7d1425e4e3b5",
   "metadata": {},
   "outputs": [],
   "source": [
    "# How to find index of list\n",
    "justice_league.index('BatMan')"
   ]
  },
  {
   "cell_type": "code",
   "execution_count": null,
   "id": "6d28dcd9-cd85-40ad-9aa6-b3b721682338",
   "metadata": {},
   "outputs": [],
   "source": [
    "justice_league.index('Superman')"
   ]
  },
  {
   "cell_type": "code",
   "execution_count": null,
   "id": "5b8859ea-00f5-4fbb-addb-9d8ba0709f50",
   "metadata": {},
   "outputs": [],
   "source": [
    "'BatMan' in justice_league"
   ]
  },
  {
   "cell_type": "code",
   "execution_count": null,
   "id": "5be391af-603e-473a-8509-dd71c91b2f4d",
   "metadata": {},
   "outputs": [],
   "source": [
    "'Superman' in justice_league"
   ]
  },
  {
   "cell_type": "code",
   "execution_count": null,
   "id": "3d13d77e-83c7-4864-84f9-92e377c39376",
   "metadata": {},
   "outputs": [],
   "source": []
  },
  {
   "cell_type": "code",
   "execution_count": null,
   "id": "c1a02aaf-d4f4-40a8-967a-a3d4c8f6166a",
   "metadata": {},
   "outputs": [],
   "source": [
    "for superhero in justice_league:\n",
    "    print(superhero)"
   ]
  },
  {
   "cell_type": "code",
   "execution_count": null,
   "id": "81f2786b-715a-4624-9041-6b951028bc23",
   "metadata": {},
   "outputs": [],
   "source": [
    "# What if if we want index as well"
   ]
  },
  {
   "cell_type": "code",
   "execution_count": null,
   "id": "6469585c-ad43-4b88-b6ed-3d2d8875607a",
   "metadata": {},
   "outputs": [],
   "source": [
    "for index, superhero in enumerate(justice_league):\n",
    "    print(index, ' ---> ', superhero)"
   ]
  },
  {
   "cell_type": "code",
   "execution_count": null,
   "id": "881f0ea0-756b-4e02-bc7c-db313fd5f388",
   "metadata": {},
   "outputs": [],
   "source": [
    "# if you dont want to start with 0 \n",
    "for index, superhero in enumerate(justice_league,start=1):\n",
    "    print(index, ' ---> ', superhero)"
   ]
  },
  {
   "cell_type": "markdown",
   "id": "cff0af72-03f2-4238-b37c-24fd07a5c5bb",
   "metadata": {},
   "source": [
    "# Join"
   ]
  },
  {
   "cell_type": "code",
   "execution_count": null,
   "id": "20ca22e4-3dc5-4369-83bb-070e180de7ff",
   "metadata": {},
   "outputs": [],
   "source": [
    "# What if we want to convert list to strings\n",
    "member_String = ', '.join(justice_league)\n",
    "member_String"
   ]
  },
  {
   "cell_type": "code",
   "execution_count": null,
   "id": "952207ff-eb15-4c5f-8c7d-010cfd12677e",
   "metadata": {},
   "outputs": [],
   "source": [
    "superhero_string = ' - '.join(justice_league)\n",
    "superhero_string"
   ]
  },
  {
   "cell_type": "markdown",
   "id": "61f6693a-4c27-4c61-bab7-75e8e9f134dd",
   "metadata": {},
   "source": [
    "# Split"
   ]
  },
  {
   "cell_type": "code",
   "execution_count": null,
   "id": "2280800b-6590-4995-8ef4-0557879bad92",
   "metadata": {},
   "outputs": [],
   "source": [
    "superhero_string.split(' - ')"
   ]
  },
  {
   "cell_type": "code",
   "execution_count": null,
   "id": "c74c2a51-9fb2-4518-abe7-86b05fa177bd",
   "metadata": {},
   "outputs": [],
   "source": []
  },
  {
   "cell_type": "code",
   "execution_count": null,
   "id": "769c73ab-7b71-496d-93c3-7987591cebfc",
   "metadata": {},
   "outputs": [],
   "source": []
  },
  {
   "cell_type": "code",
   "execution_count": null,
   "id": "22dc8a8b-29c6-4720-a89a-74764f0082c1",
   "metadata": {},
   "outputs": [],
   "source": []
  },
  {
   "cell_type": "code",
   "execution_count": null,
   "id": "64546e88-fca6-4ea3-82bb-76df3620bcfd",
   "metadata": {},
   "outputs": [],
   "source": []
  },
  {
   "cell_type": "code",
   "execution_count": null,
   "id": "88dc7784-035a-4bcf-91cd-87c1e42e66dc",
   "metadata": {},
   "outputs": [],
   "source": [
    "# Concatenation\n",
    "justice_league + justice_society"
   ]
  },
  {
   "cell_type": "code",
   "execution_count": null,
   "id": "df5fe319-7f1d-4c02-9a71-113e1c0e5e5f",
   "metadata": {},
   "outputs": [],
   "source": [
    "# Repetition\n",
    "justice_society * 4"
   ]
  },
  {
   "cell_type": "code",
   "execution_count": null,
   "id": "46c25b62-eddb-4655-a25e-960f880e0d4a",
   "metadata": {},
   "outputs": [],
   "source": [
    "# Membership\n",
    "3 in [1, 2, 3]"
   ]
  },
  {
   "cell_type": "code",
   "execution_count": null,
   "id": "21192a04-50c5-43ae-8d2d-153b3e80900d",
   "metadata": {},
   "outputs": [],
   "source": [
    "# Iteration\n",
    "for x in [1,2,3] : print (x,end = ' ')"
   ]
  },
  {
   "cell_type": "code",
   "execution_count": null,
   "id": "71d4a1b2-b997-468d-8357-591c8fdef3d6",
   "metadata": {},
   "outputs": [],
   "source": []
  },
  {
   "cell_type": "markdown",
   "id": "b6a3e969-c8d5-46c6-aace-71103b026d3d",
   "metadata": {},
   "source": [
    "## Indexing, Slicing and Matrixes"
   ]
  },
  {
   "cell_type": "code",
   "execution_count": null,
   "id": "0e324e55-4af3-4519-acf1-ae58f5c31ee8",
   "metadata": {},
   "outputs": [],
   "source": [
    "lang = ['C++', 'Java', 'Python']"
   ]
  },
  {
   "cell_type": "code",
   "execution_count": null,
   "id": "31c2b030-d242-4c8a-abe6-31d8ec056f6a",
   "metadata": {},
   "outputs": [],
   "source": [
    "lang[0]"
   ]
  },
  {
   "cell_type": "code",
   "execution_count": null,
   "id": "8f332bf3-2622-473b-baf4-fb6335f18eef",
   "metadata": {},
   "outputs": [],
   "source": [
    "lang[2]"
   ]
  },
  {
   "cell_type": "code",
   "execution_count": null,
   "id": "364bb553-a0c3-4a39-ac79-933b3e59adcb",
   "metadata": {},
   "outputs": [],
   "source": [
    "lang[-2]"
   ]
  },
  {
   "cell_type": "code",
   "execution_count": null,
   "id": "7466e000-1fab-4ecb-a396-bb8835700422",
   "metadata": {},
   "outputs": [],
   "source": [
    "lang[:1]"
   ]
  },
  {
   "cell_type": "code",
   "execution_count": null,
   "id": "e7ce4add-5e33-44d7-8fe8-ccba2037714f",
   "metadata": {},
   "outputs": [],
   "source": [
    "lang[1:]"
   ]
  },
  {
   "cell_type": "code",
   "execution_count": null,
   "id": "6274acd4-2bd2-4070-b551-2fa4fe957a27",
   "metadata": {},
   "outputs": [],
   "source": []
  },
  {
   "cell_type": "markdown",
   "id": "1dda12bc-9f3f-4ff8-ab5d-00891baf7663",
   "metadata": {},
   "source": [
    "## Built-in List Functions and Methods"
   ]
  },
  {
   "cell_type": "code",
   "execution_count": null,
   "id": "3f13c3b0-ba74-4c2e-ade4-4aa9c5c890e1",
   "metadata": {},
   "outputs": [],
   "source": [
    "#### List Functions "
   ]
  },
  {
   "cell_type": "code",
   "execution_count": null,
   "id": "d7fdbd53-1882-4682-8fd8-2fa5cfd001b0",
   "metadata": {},
   "outputs": [],
   "source": [
    "l = [12,234,3434,3,3,343,343,34,23,2343]"
   ]
  },
  {
   "cell_type": "code",
   "execution_count": null,
   "id": "d1f6b792-288e-4af3-a190-4362d7e92147",
   "metadata": {},
   "outputs": [],
   "source": [
    "len(l)"
   ]
  },
  {
   "cell_type": "code",
   "execution_count": null,
   "id": "ee0527ee-5435-41ed-a73e-fa50dd983cb2",
   "metadata": {},
   "outputs": [],
   "source": [
    "max(l)"
   ]
  },
  {
   "cell_type": "code",
   "execution_count": null,
   "id": "775c9957-7357-4629-b26a-152fc0aafb7c",
   "metadata": {},
   "outputs": [],
   "source": [
    "min(l)"
   ]
  },
  {
   "cell_type": "code",
   "execution_count": null,
   "id": "172b3864-f48b-46a6-b520-61cc3c476489",
   "metadata": {},
   "outputs": [],
   "source": [
    "list(tuple(l))"
   ]
  },
  {
   "cell_type": "code",
   "execution_count": null,
   "id": "42e1c07e-7dda-46df-8149-c92096d5e23e",
   "metadata": {},
   "outputs": [],
   "source": []
  },
  {
   "cell_type": "markdown",
   "id": "eb2bd485-169c-4032-925c-1456e1758c78",
   "metadata": {},
   "source": [
    "####  List Methods "
   ]
  },
  {
   "cell_type": "code",
   "execution_count": null,
   "id": "d3ab9555-e8bd-4ef4-b851-6033ad49a360",
   "metadata": {},
   "outputs": [],
   "source": [
    "marks = [70,78,56,79]"
   ]
  },
  {
   "cell_type": "code",
   "execution_count": null,
   "id": "224f72b9-0ab8-47a6-9d8a-c1346a799fed",
   "metadata": {},
   "outputs": [],
   "source": [
    "marks.append(70)\n",
    "marks"
   ]
  },
  {
   "cell_type": "code",
   "execution_count": null,
   "id": "cc0eac53-5109-4a29-99c1-106030eef610",
   "metadata": {},
   "outputs": [],
   "source": [
    "marks.count(70)"
   ]
  },
  {
   "cell_type": "code",
   "execution_count": null,
   "id": "c711f46a-0afc-4f36-934d-8ff2d7510977",
   "metadata": {},
   "outputs": [],
   "source": [
    "marks.extend([80,98])\n",
    "marks"
   ]
  },
  {
   "cell_type": "code",
   "execution_count": null,
   "id": "cd361076-4e51-43a3-a1f0-4501e323b105",
   "metadata": {},
   "outputs": [],
   "source": [
    "marks.index(70)"
   ]
  },
  {
   "cell_type": "code",
   "execution_count": null,
   "id": "efa1d681-676f-4bbd-9068-8a3ca437c6e2",
   "metadata": {},
   "outputs": [],
   "source": [
    "marks.insert(2, 100)\n",
    "marks"
   ]
  },
  {
   "cell_type": "code",
   "execution_count": null,
   "id": "75326871-ea8c-4793-a4b4-f83d1e9d35c5",
   "metadata": {},
   "outputs": [],
   "source": [
    "marks.pop()"
   ]
  },
  {
   "cell_type": "code",
   "execution_count": null,
   "id": "25a47a94-0bdb-45ae-9060-82408abe15d9",
   "metadata": {},
   "outputs": [],
   "source": [
    "marks.remove(80)\n",
    "marks"
   ]
  },
  {
   "cell_type": "code",
   "execution_count": null,
   "id": "58b5ad85-8d49-4315-a546-6e255235c636",
   "metadata": {},
   "outputs": [],
   "source": [
    "marks.reverse()\n",
    "marks"
   ]
  },
  {
   "cell_type": "code",
   "execution_count": null,
   "id": "70899475-9b5a-42fe-9f76-b2c4fda0c98f",
   "metadata": {},
   "outputs": [],
   "source": [
    "marks.sort()\n",
    "marks"
   ]
  },
  {
   "cell_type": "code",
   "execution_count": null,
   "id": "e60b2034-830f-444b-9c33-43b0a08bddad",
   "metadata": {},
   "outputs": [],
   "source": []
  }
 ],
 "metadata": {
  "kernelspec": {
   "display_name": "Python 3 (ipykernel)",
   "language": "python",
   "name": "python3"
  },
  "language_info": {
   "codemirror_mode": {
    "name": "ipython",
    "version": 3
   },
   "file_extension": ".py",
   "mimetype": "text/x-python",
   "name": "python",
   "nbconvert_exporter": "python",
   "pygments_lexer": "ipython3",
   "version": "3.11.4"
  }
 },
 "nbformat": 4,
 "nbformat_minor": 5
}

{
 "cells": [
  {
   "cell_type": "markdown",
   "id": "b3b7bc83-ea59-4ed9-b528-6415a4d54634",
   "metadata": {},
   "source": [
    "## Python has six built-in types of sequences"
   ]
  },
  {
   "cell_type": "code",
   "execution_count": 9,
   "id": "af38160a-af7e-4cd0-898b-6c727ea005b2",
   "metadata": {},
   "outputs": [],
   "source": [
    "# strings, lists, tuples, byte sequences, byte arrays, and range objects"
   ]
  },
  {
   "cell_type": "markdown",
   "id": "658effe3-6213-4580-be51-fb247af60104",
   "metadata": {},
   "source": [
    "# Tuples\n",
    "\n",
    "-  sequence of immutable Python objects\n",
    "\n",
    "-  tuples cannot be changed unlike lists\n",
    "\n",
    "-  Tuples use parentheses, whereas lists use square brackets."
   ]
  },
  {
   "cell_type": "markdown",
   "id": "edb17079-39da-403b-a099-438abbcf2bef",
   "metadata": {},
   "source": [
    "# We CAN NOT modify Tuples\n",
    "#### --------------------------- That the major difference in list vs tuple"
   ]
  },
  {
   "cell_type": "markdown",
   "id": "d8182913-7ddb-43ab-891f-6127fd9f0d2b",
   "metadata": {},
   "source": [
    "# list ---> Mutable\n",
    "# Tuple --> Immutable "
   ]
  },
  {
   "cell_type": "code",
   "execution_count": null,
   "id": "e041842f-c3ac-4c5f-bcf0-e0b6172e8d11",
   "metadata": {},
   "outputs": [],
   "source": []
  },
  {
   "cell_type": "code",
   "execution_count": 10,
   "id": "9e941600-ba46-41fe-8696-5d000a3c139c",
   "metadata": {},
   "outputs": [],
   "source": [
    "# Mutable \n",
    "list1 = ['BatMan', 'SuperMan', 'Flash', 'Cyborg']\n",
    "list2 = list1"
   ]
  },
  {
   "cell_type": "code",
   "execution_count": 11,
   "id": "d435246c-c8b2-454d-967c-093514e93024",
   "metadata": {},
   "outputs": [
    {
     "name": "stdout",
     "output_type": "stream",
     "text": [
      "['BatMan', 'SuperMan', 'Flash', 'Cyborg']\n",
      "['BatMan', 'SuperMan', 'Flash', 'Cyborg']\n",
      "4435919296 4435919296\n"
     ]
    }
   ],
   "source": [
    "print(list1)\n",
    "print(list2)\n",
    "print(id(list1),id(list2))"
   ]
  },
  {
   "cell_type": "code",
   "execution_count": 12,
   "id": "cfe3aece-e861-43c4-91af-fe0aaa5c139a",
   "metadata": {},
   "outputs": [],
   "source": [
    "list1[0] = \"Wonder Women\""
   ]
  },
  {
   "cell_type": "code",
   "execution_count": null,
   "id": "5a185d65-c8ee-497e-989a-eb2aaaa435e5",
   "metadata": {},
   "outputs": [],
   "source": []
  },
  {
   "cell_type": "code",
   "execution_count": 13,
   "id": "450d0714-d88f-4029-af6f-b08453fa60da",
   "metadata": {},
   "outputs": [
    {
     "name": "stdout",
     "output_type": "stream",
     "text": [
      "['Wonder Women', 'SuperMan', 'Flash', 'Cyborg']\n",
      "['Wonder Women', 'SuperMan', 'Flash', 'Cyborg']\n",
      "4435919296 4435919296\n"
     ]
    }
   ],
   "source": [
    "print(list1)\n",
    "print(list2)\n",
    "print(id(list1),id(list2))"
   ]
  },
  {
   "cell_type": "code",
   "execution_count": null,
   "id": "f3854798-eaff-4053-84b6-1859c17ee0b0",
   "metadata": {},
   "outputs": [],
   "source": []
  },
  {
   "cell_type": "code",
   "execution_count": 14,
   "id": "4ed1337c-d69f-4749-911e-100ae8b77e65",
   "metadata": {},
   "outputs": [],
   "source": [
    "# Immutable \n",
    "tuple1 = ('BatMan', 'SuperMan', 'Flash','Cyborg')\n",
    "tuple2 = tuple1"
   ]
  },
  {
   "cell_type": "code",
   "execution_count": 15,
   "id": "04d512b1-aa98-491c-9527-9f8a97a17547",
   "metadata": {},
   "outputs": [
    {
     "name": "stdout",
     "output_type": "stream",
     "text": [
      "('BatMan', 'SuperMan', 'Flash', 'Cyborg')\n",
      "('BatMan', 'SuperMan', 'Flash', 'Cyborg')\n",
      "4428579600 4428579600\n"
     ]
    }
   ],
   "source": [
    "print(tuple1)\n",
    "print(tuple2)\n",
    "print(id(tuple1),id(tuple2))"
   ]
  },
  {
   "cell_type": "code",
   "execution_count": 16,
   "id": "d8cab4c5-cd49-4421-9e33-564c79528740",
   "metadata": {},
   "outputs": [
    {
     "ename": "TypeError",
     "evalue": "'tuple' object does not support item assignment",
     "output_type": "error",
     "traceback": [
      "\u001b[0;31m---------------------------------------------------------------------------\u001b[0m",
      "\u001b[0;31mTypeError\u001b[0m                                 Traceback (most recent call last)",
      "Cell \u001b[0;32mIn[16], line 1\u001b[0m\n\u001b[0;32m----> 1\u001b[0m \u001b[43mtuple1\u001b[49m\u001b[43m[\u001b[49m\u001b[38;5;241;43m0\u001b[39;49m\u001b[43m]\u001b[49m \u001b[38;5;241m=\u001b[39m \u001b[38;5;124m\"\u001b[39m\u001b[38;5;124mWonder Women\u001b[39m\u001b[38;5;124m\"\u001b[39m\n",
      "\u001b[0;31mTypeError\u001b[0m: 'tuple' object does not support item assignment"
     ]
    }
   ],
   "source": [
    "tuple1[0] = \"Wonder Women\""
   ]
  },
  {
   "cell_type": "code",
   "execution_count": null,
   "id": "02698440-3370-43c2-95cb-dc88396c1e93",
   "metadata": {},
   "outputs": [],
   "source": []
  },
  {
   "cell_type": "code",
   "execution_count": 17,
   "id": "ccd3ec16-1bec-46f0-aa88-992f541e9d8d",
   "metadata": {},
   "outputs": [],
   "source": [
    "# Due to Immutation tuple as has less number of methods as compare to list\n",
    "# so we CAN'T append, remove"
   ]
  },
  {
   "cell_type": "code",
   "execution_count": 18,
   "id": "4d4f223d-4a69-49ef-ac5f-83c193d61e0f",
   "metadata": {},
   "outputs": [
    {
     "ename": "SyntaxError",
     "evalue": "invalid syntax (730792680.py, line 1)",
     "output_type": "error",
     "traceback": [
      "\u001b[0;36m  Cell \u001b[0;32mIn[18], line 1\u001b[0;36m\u001b[0m\n\u001b[0;31m    t.\u001b[0m\n\u001b[0m      ^\u001b[0m\n\u001b[0;31mSyntaxError\u001b[0m\u001b[0;31m:\u001b[0m invalid syntax\n"
     ]
    }
   ],
   "source": []
  },
  {
   "cell_type": "code",
   "execution_count": null,
   "id": "b0c9b829-0742-402d-bb2d-6a9c23e4a8e5",
   "metadata": {},
   "outputs": [],
   "source": []
  }
 ],
 "metadata": {
  "kernelspec": {
   "display_name": "Python 3 (ipykernel)",
   "language": "python",
   "name": "python3"
  },
  "language_info": {
   "codemirror_mode": {
    "name": "ipython",
    "version": 3
   },
   "file_extension": ".py",
   "mimetype": "text/x-python",
   "name": "python",
   "nbconvert_exporter": "python",
   "pygments_lexer": "ipython3",
   "version": "3.9.13"
  }
 },
 "nbformat": 4,
 "nbformat_minor": 5
}

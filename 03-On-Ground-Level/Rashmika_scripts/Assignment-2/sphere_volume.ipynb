{
 "cells": [
  {
   "cell_type": "code",
   "execution_count": 9,
   "id": "51647e56-8829-4c98-a482-946ec5939866",
   "metadata": {},
   "outputs": [
    {
     "name": "stdout",
     "output_type": "stream",
     "text": [
      "Volume of the sphere: 904.3199999999999\n"
     ]
    }
   ],
   "source": [
    "import math\n",
    "r = 6\n",
    "volume = (4/3) * 3.14 * (r ** 3)\n",
    "print(\"Volume of the sphere:\",volume)"
   ]
  },
  {
   "cell_type": "code",
   "execution_count": null,
   "id": "f6f6a3d5-b075-444b-9f9c-7d1b0974d7a7",
   "metadata": {},
   "outputs": [],
   "source": []
  }
 ],
 "metadata": {
  "kernelspec": {
   "display_name": "Python 3 (ipykernel)",
   "language": "python",
   "name": "python3"
  },
  "language_info": {
   "codemirror_mode": {
    "name": "ipython",
    "version": 3
   },
   "file_extension": ".py",
   "mimetype": "text/x-python",
   "name": "python",
   "nbconvert_exporter": "python",
   "pygments_lexer": "ipython3",
   "version": "3.11.4"
  }
 },
 "nbformat": 4,
 "nbformat_minor": 5
}

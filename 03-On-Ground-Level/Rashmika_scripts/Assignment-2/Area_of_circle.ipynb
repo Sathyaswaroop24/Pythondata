{
 "cells": [
  {
   "cell_type": "code",
   "execution_count": 9,
   "id": "5e242bc7-9385-4e48-9ada-65fade611661",
   "metadata": {},
   "outputs": [
    {
     "name": "stdin",
     "output_type": "stream",
     "text": [
      "Enter radius of the circle: 1.1\n"
     ]
    },
    {
     "name": "stdout",
     "output_type": "stream",
     "text": [
      "Area of the circle 3.7994000000000008\n"
     ]
    }
   ],
   "source": [
    "import math\n",
    "r = float(input(\"Enter radius of the circle:\"))\n",
    "Area = 3.14 * r ** 2\n",
    "print(\"Area of the circle\",Area)"
   ]
  },
  {
   "cell_type": "code",
   "execution_count": null,
   "id": "438a7558-00f2-4731-97a5-c4aa0f93ef43",
   "metadata": {},
   "outputs": [],
   "source": []
  }
 ],
 "metadata": {
  "kernelspec": {
   "display_name": "Python 3 (ipykernel)",
   "language": "python",
   "name": "python3"
  },
  "language_info": {
   "codemirror_mode": {
    "name": "ipython",
    "version": 3
   },
   "file_extension": ".py",
   "mimetype": "text/x-python",
   "name": "python",
   "nbconvert_exporter": "python",
   "pygments_lexer": "ipython3",
   "version": "3.11.4"
  }
 },
 "nbformat": 4,
 "nbformat_minor": 5
}

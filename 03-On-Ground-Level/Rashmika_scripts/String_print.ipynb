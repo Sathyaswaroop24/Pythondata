{
 "cells": [
  {
   "cell_type": "code",
   "execution_count": 2,
   "id": "dc36c1da-2ceb-459b-a2ea-d0285b0225f8",
   "metadata": {},
   "outputs": [
    {
     "name": "stdout",
     "output_type": "stream",
     "text": [
      "\n",
      "    Twinkle, twinkle, little star,\n",
      "        How I wonder what you are! \n",
      "            Up above the world so high, \n",
      "            Like a diamond in the sky. \n",
      "    Twinkle, twinkle, little star, \n",
      "    How I wonder what you are\n"
     ]
    }
   ],
   "source": [
    "print ('''\n",
    "    Twinkle, twinkle, little star,\n",
    "        How I wonder what you are! \n",
    "            Up above the world so high, \n",
    "            Like a diamond in the sky. \n",
    "    Twinkle, twinkle, little star, \n",
    "    How I wonder what you are''')"
   ]
  },
  {
   "cell_type": "code",
   "execution_count": null,
   "id": "e2416ac0-a31b-4b33-b3df-25d70e244dd4",
   "metadata": {},
   "outputs": [],
   "source": []
  }
 ],
 "metadata": {
  "kernelspec": {
   "display_name": "Python 3 (ipykernel)",
   "language": "python",
   "name": "python3"
  },
  "language_info": {
   "codemirror_mode": {
    "name": "ipython",
    "version": 3
   },
   "file_extension": ".py",
   "mimetype": "text/x-python",
   "name": "python",
   "nbconvert_exporter": "python",
   "pygments_lexer": "ipython3",
   "version": "3.11.4"
  }
 },
 "nbformat": 4,
 "nbformat_minor": 5
}

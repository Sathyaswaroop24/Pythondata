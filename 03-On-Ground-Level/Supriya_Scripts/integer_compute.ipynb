{
 "cells": [
  {
   "cell_type": "code",
   "execution_count": 11,
   "id": "cc17a58a-5691-46f7-9934-f0dc3b2efdad",
   "metadata": {},
   "outputs": [
    {
     "name": "stdout",
     "output_type": "stream",
     "text": [
      "enter the integer value to computes n+nn+nnn\n"
     ]
    },
    {
     "name": "stdin",
     "output_type": "stream",
     "text": [
      "enter integer value 5\n"
     ]
    },
    {
     "name": "stdout",
     "output_type": "stream",
     "text": [
      "5\n",
      "The output of n+nn+nnn --- 155\n"
     ]
    }
   ],
   "source": [
    "import math\n",
    "print(\"enter the integer value to computes n+nn+nnn\")\n",
    "n=int(input(\"enter integer value\"))\n",
    "print(n)\n",
    "cal=(n + (n*n) + (n*n*n)) \n",
    "print(\"The output of n+nn+nnn --- \" + str(cal))"
   ]
  },
  {
   "cell_type": "code",
   "execution_count": null,
   "id": "f071dad9-a137-496f-b4f1-eb99b43c2292",
   "metadata": {},
   "outputs": [],
   "source": []
  }
 ],
 "metadata": {
  "kernelspec": {
   "display_name": "Python 3 (ipykernel)",
   "language": "python",
   "name": "python3"
  },
  "language_info": {
   "codemirror_mode": {
    "name": "ipython",
    "version": 3
   },
   "file_extension": ".py",
   "mimetype": "text/x-python",
   "name": "python",
   "nbconvert_exporter": "python",
   "pygments_lexer": "ipython3",
   "version": "3.11.4"
  }
 },
 "nbformat": 4,
 "nbformat_minor": 5
}

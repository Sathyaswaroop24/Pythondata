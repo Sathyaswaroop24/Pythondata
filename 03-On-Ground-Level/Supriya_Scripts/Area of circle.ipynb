{
 "cells": [
  {
   "cell_type": "code",
   "execution_count": 15,
   "id": "049cde93-bd4d-4c70-9103-6546048bc98c",
   "metadata": {},
   "outputs": [
    {
     "name": "stdout",
     "output_type": "stream",
     "text": [
      "This program is to calculate the Area of a circle\n",
      "Please enter radius\n"
     ]
    },
    {
     "name": "stdin",
     "output_type": "stream",
     "text": [
      "please enter the radius of the circle 1.1\n"
     ]
    },
    {
     "name": "stdout",
     "output_type": "stream",
     "text": [
      "1.1\n",
      "Area is :3.4888462132569718\n"
     ]
    }
   ],
   "source": [
    "from math import pi\n",
    "print(\"This program is to calculate the Area of a circle\")\n",
    "print(\"Please enter radius\")\n",
    "r= float(input(\"please enter the radius of the circle\"))\n",
    "print(r)\n",
    "area=(pi * (r**r))\n",
    "print(\"Area is :\" + str(area))\n"
   ]
  },
  {
   "cell_type": "code",
   "execution_count": null,
   "id": "4d71b428-dacc-4bb7-a3fa-4e7049d6fb3a",
   "metadata": {},
   "outputs": [],
   "source": []
  }
 ],
 "metadata": {
  "kernelspec": {
   "display_name": "Python 3 (ipykernel)",
   "language": "python",
   "name": "python3"
  },
  "language_info": {
   "codemirror_mode": {
    "name": "ipython",
    "version": 3
   },
   "file_extension": ".py",
   "mimetype": "text/x-python",
   "name": "python",
   "nbconvert_exporter": "python",
   "pygments_lexer": "ipython3",
   "version": "3.11.4"
  }
 },
 "nbformat": 4,
 "nbformat_minor": 5
}

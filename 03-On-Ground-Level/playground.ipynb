{
 "cells": [
  {
   "cell_type": "code",
   "execution_count": 1,
   "id": "0cda68c6-a9a9-4745-aa5a-343edc3a007a",
   "metadata": {},
   "outputs": [
    {
     "name": "stdout",
     "output_type": "stream",
     "text": [
      "0\n",
      "1\n",
      "2\n",
      "3\n",
      "4\n",
      "5\n",
      "6\n",
      "7\n",
      "8\n",
      "9\n"
     ]
    }
   ],
   "source": [
    "for i in range(10):\n",
    "    print(i)"
   ]
  },
  {
   "cell_type": "code",
   "execution_count": 2,
   "id": "3e1590f8-9c45-4a3e-a824-b3ab69b6c9c6",
   "metadata": {},
   "outputs": [],
   "source": [
    "a = 100"
   ]
  },
  {
   "cell_type": "code",
   "execution_count": 4,
   "id": "97408f1d-475f-463f-81ce-ab5bafbdf944",
   "metadata": {},
   "outputs": [
    {
     "name": "stdout",
     "output_type": "stream",
     "text": [
      "19\n",
      "38\n",
      "57\n",
      "76\n",
      "95\n",
      "114\n",
      "133\n",
      "152\n",
      "171\n",
      "190\n"
     ]
    }
   ],
   "source": [
    "for i in range(1,11,1):\n",
    "    print(i * 19 )"
   ]
  },
  {
   "cell_type": "code",
   "execution_count": 5,
   "id": "9d87039b-108d-4baf-a3d4-66c27ce156d2",
   "metadata": {},
   "outputs": [],
   "source": [
    "def list_tablespace():\n",
    "    pass\n"
   ]
  },
  {
   "cell_type": "code",
   "execution_count": 10,
   "id": "4d601cef-6741-4e73-8281-f55c47b91ef9",
   "metadata": {},
   "outputs": [
    {
     "ename": "SyntaxError",
     "evalue": "invalid syntax (3587427321.py, line 1)",
     "output_type": "error",
     "traceback": [
      "\u001b[0;36m  Input \u001b[0;32mIn [10]\u001b[0;36m\u001b[0m\n\u001b[0;31m    1A12312_sdsbd = 123\u001b[0m\n\u001b[0m     ^\u001b[0m\n\u001b[0;31mSyntaxError\u001b[0m\u001b[0;31m:\u001b[0m invalid syntax\n"
     ]
    }
   ],
   "source": [
    "A12312_sdsbd = 123"
   ]
  },
  {
   "cell_type": "code",
   "execution_count": 11,
   "id": "f9df216c-e9e6-44df-a09d-0433ed884282",
   "metadata": {},
   "outputs": [],
   "source": [
    "abc = 123"
   ]
  },
  {
   "cell_type": "code",
   "execution_count": 14,
   "id": "2e67c697-add6-4024-b45f-f371c611282d",
   "metadata": {},
   "outputs": [
    {
     "ename": "NameError",
     "evalue": "name 'ABC' is not defined",
     "output_type": "error",
     "traceback": [
      "\u001b[0;31m---------------------------------------------------------------------------\u001b[0m",
      "\u001b[0;31mNameError\u001b[0m                                 Traceback (most recent call last)",
      "Input \u001b[0;32mIn [14]\u001b[0m, in \u001b[0;36m<cell line: 1>\u001b[0;34m()\u001b[0m\n\u001b[0;32m----> 1\u001b[0m abc  \u001b[38;5;241m!=\u001b[39m \u001b[43mABC\u001b[49m\n",
      "\u001b[0;31mNameError\u001b[0m: name 'ABC' is not defined"
     ]
    }
   ],
   "source": [
    "abc  != ABC"
   ]
  },
  {
   "cell_type": "code",
   "execution_count": 15,
   "id": "d80ca076-6293-4e6f-844c-411038907ee0",
   "metadata": {},
   "outputs": [],
   "source": [
    "ABC =1"
   ]
  },
  {
   "cell_type": "code",
   "execution_count": 16,
   "id": "73ed9bd7-8df3-4a1c-aac7-2e48d2f25a78",
   "metadata": {},
   "outputs": [
    {
     "data": {
      "text/plain": [
       "1"
      ]
     },
     "execution_count": 16,
     "metadata": {},
     "output_type": "execute_result"
    }
   ],
   "source": [
    "ABC\n"
   ]
  },
  {
   "cell_type": "code",
   "execution_count": 18,
   "id": "37470bf3-e522-4dad-807d-99669fb2b59e",
   "metadata": {},
   "outputs": [
    {
     "ename": "SyntaxError",
     "evalue": "invalid syntax (609930878.py, line 1)",
     "output_type": "error",
     "traceback": [
      "\u001b[0;36m  Input \u001b[0;32mIn [18]\u001b[0;36m\u001b[0m\n\u001b[0;31m    for = 123\u001b[0m\n\u001b[0m        ^\u001b[0m\n\u001b[0;31mSyntaxError\u001b[0m\u001b[0;31m:\u001b[0m invalid syntax\n"
     ]
    }
   ],
   "source": [
    "for = 123"
   ]
  },
  {
   "cell_type": "code",
   "execution_count": 20,
   "id": "e046e1f5-ceff-45e9-b0bc-ce8d36771879",
   "metadata": {},
   "outputs": [],
   "source": [
    "power_of_square_in_application_instance = 12"
   ]
  },
  {
   "cell_type": "code",
   "execution_count": 21,
   "id": "3e0f4168-d0fb-4430-943e-3cdb79f9d719",
   "metadata": {},
   "outputs": [
    {
     "data": {
      "text/plain": [
       "12"
      ]
     },
     "execution_count": 21,
     "metadata": {},
     "output_type": "execute_result"
    }
   ],
   "source": [
    "power_of_square_in_application_instance"
   ]
  },
  {
   "cell_type": "code",
   "execution_count": null,
   "id": "9cae8369-ca0d-4af0-92c1-574b8d888a57",
   "metadata": {},
   "outputs": [],
   "source": []
  }
 ],
 "metadata": {
  "kernelspec": {
   "display_name": "Python 3 (ipykernel)",
   "language": "python",
   "name": "python3"
  },
  "language_info": {
   "codemirror_mode": {
    "name": "ipython",
    "version": 3
   },
   "file_extension": ".py",
   "mimetype": "text/x-python",
   "name": "python",
   "nbconvert_exporter": "python",
   "pygments_lexer": "ipython3",
   "version": "3.9.13"
  }
 },
 "nbformat": 4,
 "nbformat_minor": 5
}

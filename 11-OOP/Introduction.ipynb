{
 "cells": [
  {
   "cell_type": "markdown",
   "id": "5f7b4a49-b807-4700-8718-612539ef817d",
   "metadata": {},
   "source": [
    "# Object-Oriented Programming"
   ]
  },
  {
   "cell_type": "markdown",
   "id": "73d95745-5ce6-4af7-ac4b-19d8bb35f0f4",
   "metadata": {},
   "source": [
    "- A *programming paradigm* that organizes software design around objects\n",
    "\n",
    "- Objects will main elements of Progamming Paradigm\n"
   ]
  },
  {
   "cell_type": "markdown",
   "id": "877f340b-1d93-4939-b631-f9c73771f5b5",
   "metadata": {},
   "source": [
    "### What is *Programming Paradigm* ?\n",
    "#### It is just an `approach` used to solve problems with code\n",
    "\n",
    "### In simple words \n",
    "##### A style or *way* of programming"
   ]
  },
  {
   "cell_type": "markdown",
   "id": "195e1a05-7f36-41b6-9b64-1acbb4de3594",
   "metadata": {},
   "source": [
    "### Different Types of Programming Paradigms\n",
    "\n",
    "|Type | Description |\n",
    "|-----|-------------|\n",
    "|Imperative|What we typically a collection of commands |\n",
    "|Functional|We structure code in functional block |\n",
    "|Decalrative|Declarative approach of coding |\n",
    "|Logic|Logic building |\n",
    "|OOP | is based on `messages` sent to objects|\n",
    "\n",
    "and so on...\n"
   ]
  },
  {
   "cell_type": "markdown",
   "id": "d2aaef8e-1c2c-4f20-ac01-7c9f22314c43",
   "metadata": {},
   "source": [
    "in OOPs, \n",
    "- Instead of writing commands line by line we structure code that centers around the objects.\n",
    "- These objects exchange messages.\n",
    "- They will `respond` to these messages by performing actions.\n",
    "- Objects have their own `state` or set of attributes so we have `behavior` and `state` \n",
    "\n",
    "\n",
    "#### Basically we have to write something that works like a Blueprint that is called `Class`\n",
    "\n",
    "so `Class` works like a blueprint that will create `objects`\n",
    "\n",
    "- Each object has its own state and behavior\n",
    "- We can create as many objects from a class\n",
    "- Objects in the program will interact with each other in such a way that it will let us perform more complex operations and achieve what we want to achieve."
   ]
  },
  {
   "cell_type": "markdown",
   "id": "3b685a36-b622-4916-ac68-c236622aab7b",
   "metadata": {},
   "source": [
    "### Programming Paradigms are NOT mutually exclusive \n",
    "### The same program can have multiple programming Paradigms"
   ]
  },
  {
   "cell_type": "markdown",
   "id": "1199a6ae-ee08-4872-998b-e19666a4278d",
   "metadata": {},
   "source": [
    "### Advantages of OOPs\n",
    "\n",
    "- `Modularity` to keep different blueprints separate and its duties \n",
    "\n",
    "- `Reusability` can be re-used within the program and for future projects. This helps for faster and lower cost of development.\n",
    "\n",
    "- `Extensibility` Objects can be extended to include new attributes and behavior.\n",
    "\n",
    "- Above 3 advantages lead to 4th advantage `Easier to Maintain`"
   ]
  },
  {
   "cell_type": "markdown",
   "id": "775c62b3-3f92-4cfb-8cfe-66c0cfc25d65",
   "metadata": {},
   "source": [
    "#### Since the design is modular, we can make changes to the modules without making large-scale changes\n",
    "This leads to `Higher quality Software`, more time and resources can be used to test the software. And we find and fix bugs more easily.\n",
    "\n"
   ]
  },
  {
   "cell_type": "code",
   "execution_count": null,
   "id": "8cf42a86-e98c-49e5-96e2-874fb3ca1af4",
   "metadata": {},
   "outputs": [],
   "source": []
  },
  {
   "cell_type": "markdown",
   "id": "7a657dc1-3681-4e3a-b2cc-af4e5b4f6c9f",
   "metadata": {},
   "source": [
    "# It is fun to write Python code without OOP"
   ]
  },
  {
   "cell_type": "markdown",
   "id": "6ca92c49-3548-4fad-aaa3-b2f7e45cd53a",
   "metadata": {},
   "source": [
    "## Even though we have avoided OOP, it has nevertheless always been present in the exercises "
   ]
  },
  {
   "cell_type": "code",
   "execution_count": null,
   "id": "c45956eb-55a4-43f5-aa56-7572067f6359",
   "metadata": {},
   "outputs": [],
   "source": []
  },
  {
   "cell_type": "markdown",
   "id": "516a91e6-4a6c-417d-97d1-b9943060d4fc",
   "metadata": {},
   "source": [
    "### Major principles of object-orientation\n",
    "\n",
    "- Encapsulation\n",
    "- Data Abstraction\n",
    "- Polymorphism\n",
    "- Inheritance"
   ]
  },
  {
   "cell_type": "code",
   "execution_count": null,
   "id": "a87f35d7-88e4-421f-bb84-f07595b5bd0e",
   "metadata": {},
   "outputs": [],
   "source": []
  },
  {
   "cell_type": "code",
   "execution_count": null,
   "id": "01bec15d-7662-4a92-a8ee-c9d59b954d9f",
   "metadata": {},
   "outputs": [],
   "source": []
  },
  {
   "cell_type": "code",
   "execution_count": null,
   "id": "839905b3-e79f-4d3f-ac97-fbd98112b423",
   "metadata": {},
   "outputs": [],
   "source": []
  },
  {
   "cell_type": "code",
   "execution_count": null,
   "id": "e9d41645-1fc9-4a66-aac1-d3285e78a184",
   "metadata": {},
   "outputs": [],
   "source": []
  },
  {
   "cell_type": "markdown",
   "id": "224576e7-1719-43e3-96dd-7baa1c682487",
   "metadata": {},
   "source": [
    "# Introdution to classes"
   ]
  },
  {
   "cell_type": "markdown",
   "id": "31443860-8a06-44ea-8b64-e4f600524050",
   "metadata": {},
   "source": [
    "## Class \n",
    "\n",
    "- The `blueprint` for creating objects\n",
    "\n",
    "- `Class` ~ `Blueprint`\n",
    "\n",
    "- e.g., Machine, patient, client, Dog, Data structure, student, player, or Game Board can represented as an object\n",
    "\n",
    "- First, we need to analyze the characteristics of objects then we go for building a blueprint or class"
   ]
  },
  {
   "cell_type": "code",
   "execution_count": null,
   "id": "395ef1de-4423-4c56-9db4-3902154eec5e",
   "metadata": {},
   "outputs": [],
   "source": []
  },
  {
   "cell_type": "code",
   "execution_count": null,
   "id": "53116922-84d4-4761-8465-99eff7cb06ce",
   "metadata": {},
   "outputs": [],
   "source": [
    "# "
   ]
  },
  {
   "cell_type": "code",
   "execution_count": null,
   "id": "cb93cdfa-a5a0-4a11-b284-d4e121197f69",
   "metadata": {},
   "outputs": [],
   "source": []
  },
  {
   "cell_type": "code",
   "execution_count": null,
   "id": "a9acd802-a945-4f6b-82dd-fe9606f319fe",
   "metadata": {},
   "outputs": [],
   "source": []
  },
  {
   "cell_type": "code",
   "execution_count": null,
   "id": "a751eb5d-baad-4851-af29-087fff18f5af",
   "metadata": {},
   "outputs": [],
   "source": []
  },
  {
   "cell_type": "code",
   "execution_count": null,
   "id": "65d25c7a-917e-4cd8-9bd4-59b1f3c11fc2",
   "metadata": {},
   "outputs": [],
   "source": []
  }
 ],
 "metadata": {
  "kernelspec": {
   "display_name": "Python 3 (ipykernel)",
   "language": "python",
   "name": "python3"
  },
  "language_info": {
   "codemirror_mode": {
    "name": "ipython",
    "version": 3
   },
   "file_extension": ".py",
   "mimetype": "text/x-python",
   "name": "python",
   "nbconvert_exporter": "python",
   "pygments_lexer": "ipython3",
   "version": "3.9.13"
  }
 },
 "nbformat": 4,
 "nbformat_minor": 5
}

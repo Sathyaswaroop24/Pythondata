{
 "cells": [
  {
   "cell_type": "code",
   "execution_count": 1,
   "id": "6bcd083e-0bb2-48d3-a755-24a8b9057dfa",
   "metadata": {},
   "outputs": [
    {
     "name": "stdout",
     "output_type": "stream",
     "text": [
      "a string that you \"don't\" have to escape\n",
      "This\n",
      "is a ....... multi-line\n",
      "heredoc string\n"
     ]
    }
   ],
   "source": [
    "print(r'''a string that you \"don't\" have to escape\n",
    "This\n",
    "is a ....... multi-line\n",
    "heredoc string''')"
   ]
  },
  {
   "cell_type": "code",
   "execution_count": null,
   "id": "7b3207f5-af52-4b31-b6d2-d0c68463b2a2",
   "metadata": {},
   "outputs": [],
   "source": []
  }
 ],
 "metadata": {
  "kernelspec": {
   "display_name": "Python 3 (ipykernel)",
   "language": "python",
   "name": "python3"
  },
  "language_info": {
   "codemirror_mode": {
    "name": "ipython",
    "version": 3
   },
   "file_extension": ".py",
   "mimetype": "text/x-python",
   "name": "python",
   "nbconvert_exporter": "python",
   "pygments_lexer": "ipython3",
   "version": "3.11.4"
  }
 },
 "nbformat": 4,
 "nbformat_minor": 5
}

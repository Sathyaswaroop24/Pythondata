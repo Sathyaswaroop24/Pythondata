{
 "cells": [
  {
   "cell_type": "code",
   "execution_count": null,
   "id": "66beaee3-8bc6-4a98-a161-3fd8403870cd",
   "metadata": {},
   "outputs": [],
   "source": [
    "#Write a Python program to sort three integers without using conditional statements \n",
    "#and loops.\n"
   ]
  },
  {
   "cell_type": "code",
   "execution_count": 10,
   "id": "e0e35e98-a42c-4fb3-9604-6b3591e8919e",
   "metadata": {},
   "outputs": [
    {
     "name": "stdin",
     "output_type": "stream",
     "text": [
      "Enter 3 numbers seperated by spaces 33 2 0\n"
     ]
    },
    {
     "ename": "TypeError",
     "evalue": "int() argument must be a string, a bytes-like object or a real number, not 'list'",
     "output_type": "error",
     "traceback": [
      "\u001b[1;31m---------------------------------------------------------------------------\u001b[0m",
      "\u001b[1;31mTypeError\u001b[0m                                 Traceback (most recent call last)",
      "Cell \u001b[1;32mIn[10], line 4\u001b[0m\n\u001b[0;32m      1\u001b[0m a \u001b[38;5;241m=\u001b[39m \u001b[38;5;28minput\u001b[39m(\u001b[38;5;124m\"\u001b[39m\u001b[38;5;124mEnter 3 numbers seperated by spaces\u001b[39m\u001b[38;5;124m\"\u001b[39m)\u001b[38;5;241m.\u001b[39msplit(\u001b[38;5;124m'\u001b[39m\u001b[38;5;124m \u001b[39m\u001b[38;5;124m'\u001b[39m)\n\u001b[0;32m      2\u001b[0m \u001b[38;5;66;03m#a.sort()\u001b[39;00m\n\u001b[0;32m      3\u001b[0m \u001b[38;5;66;03m#print(a)\u001b[39;00m\n\u001b[1;32m----> 4\u001b[0m \u001b[38;5;28msorted\u001b[39m(\u001b[38;5;28mint\u001b[39m(a))\n\u001b[0;32m      5\u001b[0m \u001b[38;5;28mprint\u001b[39m(a)\n",
      "\u001b[1;31mTypeError\u001b[0m: int() argument must be a string, a bytes-like object or a real number, not 'list'"
     ]
    }
   ],
   "source": [
    "a = input(\"Enter 3 numbers seperated by spaces\").split(' ')\n",
    "#a.sort()\n",
    "#print(a)\n",
    "sorted(int(a))\n",
    "print(a)\n"
   ]
  },
  {
   "cell_type": "code",
   "execution_count": 17,
   "id": "619fa3b8-5c22-46f1-b830-582aae4327a2",
   "metadata": {},
   "outputs": [
    {
     "name": "stdin",
     "output_type": "stream",
     "text": [
      "Enter 1st number 3\n",
      "Enter 2nd number 2\n",
      "Enter 3rd number 1\n"
     ]
    },
    {
     "name": "stdout",
     "output_type": "stream",
     "text": [
      "1 3\n"
     ]
    }
   ],
   "source": [
    "a = int(input(\"Enter 1st number\"))\n",
    "b = int(input(\"Enter 2nd number\"))\n",
    "c = int(input(\"Enter 3rd number\"))\n",
    "first_minimum = min(a,b)\n",
    "second_minimum = min(b,c)\n",
    "minimum = min(first_minimum,second_minimum)\n",
    "first_max = max(a,b)\n",
    "second_max = max(b,c)\n",
    "maximum = max(first_max,second_max)\n",
    "print(minimum,maximum)"
   ]
  },
  {
   "cell_type": "code",
   "execution_count": null,
   "id": "dc0598bd-1e15-4e8b-8b76-b19c2e4a2462",
   "metadata": {},
   "outputs": [],
   "source": []
  },
  {
   "cell_type": "code",
   "execution_count": 21,
   "id": "86362a8d-6ef6-4ed1-a033-d8516a4cc73e",
   "metadata": {},
   "outputs": [
    {
     "name": "stdout",
     "output_type": "stream",
     "text": [
      "[1, 2, 9]\n"
     ]
    }
   ],
   "source": [
    "a = [2,9,1] #integer\n",
    "print(sorted(a))\n",
    "\n"
   ]
  },
  {
   "cell_type": "code",
   "execution_count": 23,
   "id": "83db1e30-3cf3-4b90-9bce-23f16f349852",
   "metadata": {},
   "outputs": [
    {
     "name": "stdout",
     "output_type": "stream",
     "text": [
      "['1', '2', '9']\n"
     ]
    }
   ],
   "source": [
    "a = [\"2\",\"9\",\"1\"] #string\n",
    "print(sorted(a))\n",
    "#print(sorted(map(int,a)))"
   ]
  },
  {
   "cell_type": "code",
   "execution_count": null,
   "id": "e0df5134-404b-4276-92e7-f5c289d0509c",
   "metadata": {},
   "outputs": [],
   "source": []
  }
 ],
 "metadata": {
  "kernelspec": {
   "display_name": "Python 3 (ipykernel)",
   "language": "python",
   "name": "python3"
  },
  "language_info": {
   "codemirror_mode": {
    "name": "ipython",
    "version": 3
   },
   "file_extension": ".py",
   "mimetype": "text/x-python",
   "name": "python",
   "nbconvert_exporter": "python",
   "pygments_lexer": "ipython3",
   "version": "3.11.4"
  }
 },
 "nbformat": 4,
 "nbformat_minor": 5
}

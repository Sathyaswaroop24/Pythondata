{
 "cells": [
  {
   "cell_type": "code",
   "execution_count": null,
   "id": "16daff07-3ee3-4e8a-966a-c646823d73eb",
   "metadata": {},
   "outputs": [],
   "source": [
    "#Write a Python program to calculate the sum of three given numbers. \n",
    "#If the values are equal, return three times their sum"
   ]
  },
  {
   "cell_type": "code",
   "execution_count": 6,
   "id": "b122cb25-3192-4f39-bc06-6eb99d9a0eb2",
   "metadata": {},
   "outputs": [],
   "source": [
    "import math"
   ]
  },
  {
   "cell_type": "code",
   "execution_count": 5,
   "id": "54a1cdaa-36a9-43b0-bda5-be2c3e483b42",
   "metadata": {},
   "outputs": [
    {
     "name": "stdin",
     "output_type": "stream",
     "text": [
      "Enter 1st number :  1\n",
      "Enter 2nd number :  1\n",
      "Enter 3rd number :  1\n"
     ]
    },
    {
     "name": "stdout",
     "output_type": "stream",
     "text": [
      "\n",
      "Given numbers are same\n",
      "\n",
      "So, three times their sum is :  9\n"
     ]
    }
   ],
   "source": [
    "a = int(input(\"Enter 1st number : \"))\n",
    "b = int(input(\"Enter 2nd number : \"))\n",
    "c = int(input(\"Enter 3rd number : \"))\n",
    "if (a == b == c) :\n",
    "    print(\"\\nGiven numbers are same\\n\\nSo, three times their sum is : \", (( a + b + c ) * 3))\n",
    "else:\n",
    "    print(\"Sum is : \", ( a + b + c ))\n"
   ]
  },
  {
   "cell_type": "code",
   "execution_count": 7,
   "id": "3977ddfb-56bc-44cb-8e14-8c8c4d8f8404",
   "metadata": {},
   "outputs": [
    {
     "name": "stdout",
     "output_type": "stream",
     "text": [
      "The Zen of Python, by Tim Peters\n",
      "\n",
      "Beautiful is better than ugly.\n",
      "Explicit is better than implicit.\n",
      "Simple is better than complex.\n",
      "Complex is better than complicated.\n",
      "Flat is better than nested.\n",
      "Sparse is better than dense.\n",
      "Readability counts.\n",
      "Special cases aren't special enough to break the rules.\n",
      "Although practicality beats purity.\n",
      "Errors should never pass silently.\n",
      "Unless explicitly silenced.\n",
      "In the face of ambiguity, refuse the temptation to guess.\n",
      "There should be one-- and preferably only one --obvious way to do it.\n",
      "Although that way may not be obvious at first unless you're Dutch.\n",
      "Now is better than never.\n",
      "Although never is often better than *right* now.\n",
      "If the implementation is hard to explain, it's a bad idea.\n",
      "If the implementation is easy to explain, it may be a good idea.\n",
      "Namespaces are one honking great idea -- let's do more of those!\n"
     ]
    }
   ],
   "source": []
  },
  {
   "cell_type": "code",
   "execution_count": null,
   "id": "ad351440-adfd-4c33-8e93-025e29e08d9d",
   "metadata": {},
   "outputs": [],
   "source": []
  }
 ],
 "metadata": {
  "kernelspec": {
   "display_name": "Python 3 (ipykernel)",
   "language": "python",
   "name": "python3"
  },
  "language_info": {
   "codemirror_mode": {
    "name": "ipython",
    "version": 3
   },
   "file_extension": ".py",
   "mimetype": "text/x-python",
   "name": "python",
   "nbconvert_exporter": "python",
   "pygments_lexer": "ipython3",
   "version": "3.11.4"
  }
 },
 "nbformat": 4,
 "nbformat_minor": 5
}

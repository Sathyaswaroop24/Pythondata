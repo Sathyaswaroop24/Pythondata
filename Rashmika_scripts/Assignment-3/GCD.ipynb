{
 "cells": [
  {
   "cell_type": "code",
   "execution_count": null,
   "id": "d86bc961-b7cb-4348-a82c-4a50ff8d0098",
   "metadata": {},
   "outputs": [],
   "source": [
    "#Write a Python program that computes the greatest common divisor (GCD) \n",
    "#of two positive integers.\n"
   ]
  },
  {
   "cell_type": "code",
   "execution_count": null,
   "id": "216a698c-509c-4f95-ad82-aa97ac0b0ba7",
   "metadata": {},
   "outputs": [],
   "source": []
  }
 ],
 "metadata": {
  "kernelspec": {
   "display_name": "Python 3 (ipykernel)",
   "language": "python",
   "name": "python3"
  },
  "language_info": {
   "codemirror_mode": {
    "name": "ipython",
    "version": 3
   },
   "file_extension": ".py",
   "mimetype": "text/x-python",
   "name": "python",
   "nbconvert_exporter": "python",
   "pygments_lexer": "ipython3",
   "version": "3.11.4"
  }
 },
 "nbformat": 4,
 "nbformat_minor": 5
}

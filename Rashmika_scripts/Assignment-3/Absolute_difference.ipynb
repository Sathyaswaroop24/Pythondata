{
 "cells": [
  {
   "cell_type": "code",
   "execution_count": 4,
   "id": "837d47b3-d4bb-4228-9050-ed19914da0c9",
   "metadata": {},
   "outputs": [],
   "source": [
    "## Write a Python program to calculate the difference between a given number and 17. \n",
    "##If the number is greater than 17, return twice the absolute difference.\n",
    " "
   ]
  },
  {
   "cell_type": "code",
   "execution_count": 10,
   "id": "bfaf4aec-d289-4474-9763-2e40b7e635f3",
   "metadata": {},
   "outputs": [
    {
     "name": "stdin",
     "output_type": "stream",
     "text": [
      "Enter a number to subtract from 17 :  20\n"
     ]
    },
    {
     "name": "stdout",
     "output_type": "stream",
     "text": [
      "\n",
      "Given number is greater than 17\n",
      "\n",
      "So, twice the absolute difference is :  6\n"
     ]
    }
   ],
   "source": [
    "n = int(input(\"Enter a number to subtract from 17 : \"))\n",
    "if n > 17 :\n",
    "    res = n - 17\n",
    "    ab = (abs(res)) * 2\n",
    "    print(\"\\nGiven number is greater than 17\\n\\nSo, twice the absolute difference is : \", ab)\n",
    "else:\n",
    "    res = 17 - n\n",
    "    print(\"Difference is : \", res)"
   ]
  },
  {
   "cell_type": "code",
   "execution_count": 4,
   "id": "a248f3fb-86f9-4223-8226-0243e7f687f5",
   "metadata": {},
   "outputs": [
    {
     "name": "stdin",
     "output_type": "stream",
     "text": [
      "Enter a number to subtract from 17 :  20\n"
     ]
    },
    {
     "name": "stdout",
     "output_type": "stream",
     "text": [
      "\n",
      "Given number is greater than 17\n",
      "\n",
      "So, twice the absolute difference is :  6\n"
     ]
    }
   ],
   "source": [
    "num = int(input(\"Enter a number to subtract from 17 : \"))\n",
    "if num > 17 :\n",
    "    print(\"\\nGiven number is greater than 17\\n\\nSo, twice the absolute difference is : \", (abs(num - 17) * 2))\n",
    "else:\n",
    "    print(\"Difference is : \", (17 - num))"
   ]
  },
  {
   "cell_type": "code",
   "execution_count": null,
   "id": "1c8d8550-9398-47ad-87bd-53eb37b30070",
   "metadata": {},
   "outputs": [],
   "source": []
  }
 ],
 "metadata": {
  "kernelspec": {
   "display_name": "Python 3 (ipykernel)",
   "language": "python",
   "name": "python3"
  },
  "language_info": {
   "codemirror_mode": {
    "name": "ipython",
    "version": 3
   },
   "file_extension": ".py",
   "mimetype": "text/x-python",
   "name": "python",
   "nbconvert_exporter": "python",
   "pygments_lexer": "ipython3",
   "version": "3.11.4"
  }
 },
 "nbformat": 4,
 "nbformat_minor": 5
}

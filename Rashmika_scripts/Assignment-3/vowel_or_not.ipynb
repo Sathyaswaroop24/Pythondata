{
 "cells": [
  {
   "cell_type": "code",
   "execution_count": null,
   "id": "4278849a-9f57-40b5-bc17-6ad1f7aa4835",
   "metadata": {},
   "outputs": [],
   "source": [
    "#Write a Python program to test whether a passed letter is a vowel or not."
   ]
  },
  {
   "cell_type": "code",
   "execution_count": 1,
   "id": "30643db1-214d-4b0e-825f-08de71f036cc",
   "metadata": {},
   "outputs": [
    {
     "name": "stdin",
     "output_type": "stream",
     "text": [
      "Enter an alphabet :  F\n"
     ]
    },
    {
     "name": "stdout",
     "output_type": "stream",
     "text": [
      "Given letter is consonant\n"
     ]
    }
   ],
   "source": [
    "v = ['a','e','i','o','u']\n",
    "L = input(\"Enter an alphabet : \").lower()\n",
    "if L in v:\n",
    "    print(\"Given letter is vowel\")\n",
    "else:\n",
    "    print(\"Given letter is consonant\")"
   ]
  },
  {
   "cell_type": "code",
   "execution_count": 3,
   "id": "d83ba95c-5a7b-4460-bdae-6699354517f2",
   "metadata": {},
   "outputs": [],
   "source": []
  },
  {
   "cell_type": "code",
   "execution_count": 8,
   "id": "2cc5c607-fdcb-43c5-84aa-fb4633114b99",
   "metadata": {},
   "outputs": [
    {
     "name": "stdin",
     "output_type": "stream",
     "text": [
      "Enter an alphabet :  aei\n"
     ]
    },
    {
     "name": "stdout",
     "output_type": "stream",
     "text": [
      "Given letter is vowel\n"
     ]
    }
   ],
   "source": [
    "vowel = \"aeiou\"\n",
    "L = input(\"Enter an alphabet : \").lower()\n",
    "if L in vowel:\n",
    "    print(\"Given letter is vowel\")\n",
    "else:\n",
    "    print(\"Given letter is consonant\")"
   ]
  },
  {
   "cell_type": "code",
   "execution_count": null,
   "id": "b0314654-b70b-4b33-ab2c-feb7c238d563",
   "metadata": {},
   "outputs": [],
   "source": []
  }
 ],
 "metadata": {
  "kernelspec": {
   "display_name": "Python 3 (ipykernel)",
   "language": "python",
   "name": "python3"
  },
  "language_info": {
   "codemirror_mode": {
    "name": "ipython",
    "version": 3
   },
   "file_extension": ".py",
   "mimetype": "text/x-python",
   "name": "python",
   "nbconvert_exporter": "python",
   "pygments_lexer": "ipython3",
   "version": "3.11.4"
  }
 },
 "nbformat": 4,
 "nbformat_minor": 5
}

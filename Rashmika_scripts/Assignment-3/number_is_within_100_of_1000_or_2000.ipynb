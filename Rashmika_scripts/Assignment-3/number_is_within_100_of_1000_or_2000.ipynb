{
 "cells": [
  {
   "cell_type": "code",
   "execution_count": null,
   "id": "745649b1-8d5a-4c54-8c49-cefe2c687f3e",
   "metadata": {},
   "outputs": [],
   "source": [
    "##Write a Python program to test whether a number is within 100 of 1000 or 2000.\n"
   ]
  },
  {
   "cell_type": "code",
   "execution_count": null,
   "id": "7f425e3d-ecde-4eee-8a8e-3681003fd293",
   "metadata": {},
   "outputs": [],
   "source": [
    "a = 5\n",
    "if (a < 100"
   ]
  }
 ],
 "metadata": {
  "kernelspec": {
   "display_name": "Python 3 (ipykernel)",
   "language": "python",
   "name": "python3"
  },
  "language_info": {
   "codemirror_mode": {
    "name": "ipython",
    "version": 3
   },
   "file_extension": ".py",
   "mimetype": "text/x-python",
   "name": "python",
   "nbconvert_exporter": "python",
   "pygments_lexer": "ipython3",
   "version": "3.11.4"
  }
 },
 "nbformat": 4,
 "nbformat_minor": 5
}

{
 "cells": [
  {
   "cell_type": "code",
   "execution_count": 3,
   "id": "d16411f5-3a43-4241-beea-1026b75f5a7a",
   "metadata": {},
   "outputs": [
    {
     "name": "stdout",
     "output_type": "stream",
     "text": [
      "['serv1', 'serv2']\n"
     ]
    }
   ],
   "source": [
    "\n",
    "prd = [\"serv1\",\"serv2\"]\n",
    "UAT = [\"serv3\"]\n",
    "Env1 = [prd,UAT]\n",
    "\n",
    "print(Env1[0])"
   ]
  },
  {
   "cell_type": "code",
   "execution_count": null,
   "id": "fcb66312-b325-404d-8d4d-2e9fbdf4add0",
   "metadata": {},
   "outputs": [],
   "source": []
  },
  {
   "cell_type": "code",
   "execution_count": null,
   "id": "34430232-b938-4ff0-a2c1-9760d80b8e63",
   "metadata": {},
   "outputs": [],
   "source": []
  }
 ],
 "metadata": {
  "kernelspec": {
   "display_name": "Python 3 (ipykernel)",
   "language": "python",
   "name": "python3"
  },
  "language_info": {
   "codemirror_mode": {
    "name": "ipython",
    "version": 3
   },
   "file_extension": ".py",
   "mimetype": "text/x-python",
   "name": "python",
   "nbconvert_exporter": "python",
   "pygments_lexer": "ipython3",
   "version": "3.11.4"
  }
 },
 "nbformat": 4,
 "nbformat_minor": 5
}

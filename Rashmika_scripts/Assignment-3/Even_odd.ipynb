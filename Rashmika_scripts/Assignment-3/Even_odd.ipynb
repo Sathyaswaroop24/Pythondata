{
 "cells": [
  {
   "cell_type": "code",
   "execution_count": null,
   "id": "2e2f1a14-b150-4f8d-b4cd-6105daa2be20",
   "metadata": {},
   "outputs": [],
   "source": [
    "#Write a Python program that determines whether a given number (accepted from the user) \n",
    "#is even or odd,and prints an appropriate message to the user."
   ]
  },
  {
   "cell_type": "code",
   "execution_count": 19,
   "id": "90763710-aeb4-4969-ab23-d7b6f059c3ec",
   "metadata": {},
   "outputs": [
    {
     "name": "stdin",
     "output_type": "stream",
     "text": [
      "Enter a number :  26798\n"
     ]
    },
    {
     "name": "stdout",
     "output_type": "stream",
     "text": [
      "26798 is even number\n"
     ]
    }
   ],
   "source": [
    "n = int(input(\"Enter a number : \"))\n",
    "if n % 2 == 0 :\n",
    "    print (str(n) + \" is even number\")\n",
    "else :\n",
    "    print(str(n) + \" is odd number\")"
   ]
  },
  {
   "cell_type": "code",
   "execution_count": null,
   "id": "295d139d-8e03-4cbc-b244-6c0719972339",
   "metadata": {},
   "outputs": [],
   "source": []
  }
 ],
 "metadata": {
  "kernelspec": {
   "display_name": "Python 3 (ipykernel)",
   "language": "python",
   "name": "python3"
  },
  "language_info": {
   "codemirror_mode": {
    "name": "ipython",
    "version": 3
   },
   "file_extension": ".py",
   "mimetype": "text/x-python",
   "name": "python",
   "nbconvert_exporter": "python",
   "pygments_lexer": "ipython3",
   "version": "3.11.4"
  }
 },
 "nbformat": 4,
 "nbformat_minor": 5
}

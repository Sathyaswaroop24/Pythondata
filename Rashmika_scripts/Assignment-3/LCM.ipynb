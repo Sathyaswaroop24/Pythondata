{
 "cells": [
  {
   "cell_type": "code",
   "execution_count": null,
   "id": "2d9b50d7-fd1a-4d1b-abeb-aa038b4ace8b",
   "metadata": {},
   "outputs": [],
   "source": [
    "#Write a Python program to find the least common multiple (LCM) of two positive integers.\n"
   ]
  },
  {
   "cell_type": "code",
   "execution_count": null,
   "id": "d568a6ad-ad2e-4da0-9a30-1b7c611ea37e",
   "metadata": {},
   "outputs": [],
   "source": [
    "#a = input(\"Enter 2 numbers seperated by spaces\").split(' ')"
   ]
  },
  {
   "cell_type": "code",
   "execution_count": 5,
   "id": "f65e10e7-05c8-4a7c-8a19-650c8c0056e5",
   "metadata": {},
   "outputs": [
    {
     "name": "stdout",
     "output_type": "stream",
     "text": [
      "0\n",
      "0\n"
     ]
    }
   ],
   "source": [
    "a = 8 \n",
    "b = 2\n",
    "while a >=1 :\n",
    "    \n",
    "    print(a)\n",
    "print(a)"
   ]
  },
  {
   "cell_type": "code",
   "execution_count": null,
   "id": "5244e14b-89ff-48cf-90a3-fd2f7f173e5c",
   "metadata": {},
   "outputs": [],
   "source": []
  }
 ],
 "metadata": {
  "kernelspec": {
   "display_name": "Python 3 (ipykernel)",
   "language": "python",
   "name": "python3"
  },
  "language_info": {
   "codemirror_mode": {
    "name": "ipython",
    "version": 3
   },
   "file_extension": ".py",
   "mimetype": "text/x-python",
   "name": "python",
   "nbconvert_exporter": "python",
   "pygments_lexer": "ipython3",
   "version": "3.11.4"
  }
 },
 "nbformat": 4,
 "nbformat_minor": 5
}

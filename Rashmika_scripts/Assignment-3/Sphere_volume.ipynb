{
 "cells": [
  {
   "cell_type": "code",
   "execution_count": 8,
   "id": "839985ab-2397-4a50-a0cc-62bc1309e711",
   "metadata": {},
   "outputs": [
    {
     "name": "stdin",
     "output_type": "stream",
     "text": [
      "Enter radius of the sphere :  3\n"
     ]
    },
    {
     "name": "stdout",
     "output_type": "stream",
     "text": [
      "Volume of sphere :  113.09733552923254\n"
     ]
    }
   ],
   "source": [
    "from math import pi\n",
    "\n",
    "r = float(input(\"Enter radius of the sphere : \"))\n",
    "print(\"Volume of sphere : \", ((4/3) * pi * (r ** 3)))\n"
   ]
  },
  {
   "cell_type": "code",
   "execution_count": 9,
   "id": "75c774cd-2363-4143-9d73-d5b1a40a5ac9",
   "metadata": {},
   "outputs": [
    {
     "name": "stdin",
     "output_type": "stream",
     "text": [
      "Enter radius of the sphere :  3\n"
     ]
    },
    {
     "name": "stdout",
     "output_type": "stream",
     "text": [
      "Volume of sphere :  113.09733552923254\n"
     ]
    }
   ],
   "source": [
    "import math \n",
    "\n",
    "r = float(input(\"Enter radius of the sphere : \"))\n",
    "v = (4/3) * math.pi * math.pow(r,3)\n",
    "print(\"Volume of sphere : \", v)"
   ]
  },
  {
   "cell_type": "code",
   "execution_count": null,
   "id": "3a235588-a7ef-4161-b8ed-e16da038042a",
   "metadata": {},
   "outputs": [],
   "source": []
  }
 ],
 "metadata": {
  "kernelspec": {
   "display_name": "Python 3 (ipykernel)",
   "language": "python",
   "name": "python3"
  },
  "language_info": {
   "codemirror_mode": {
    "name": "ipython",
    "version": 3
   },
   "file_extension": ".py",
   "mimetype": "text/x-python",
   "name": "python",
   "nbconvert_exporter": "python",
   "pygments_lexer": "ipython3",
   "version": "3.11.4"
  }
 },
 "nbformat": 4,
 "nbformat_minor": 5
}

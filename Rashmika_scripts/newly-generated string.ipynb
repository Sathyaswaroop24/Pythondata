{
 "cells": [
  {
   "cell_type": "code",
   "execution_count": 3,
   "id": "4347d8ec-fb50-4bd5-abe9-342da7c79764",
   "metadata": {},
   "outputs": [
    {
     "name": "stdin",
     "output_type": "stream",
     "text": [
      "Enter a string: ls\n"
     ]
    }
   ],
   "source": [
    "str = input(\"Enter a string:\")\n"
   ]
  },
  {
   "cell_type": "code",
   "execution_count": 4,
   "id": "a62b5c99-c77d-4c12-af56-10132b29a8c9",
   "metadata": {},
   "outputs": [
    {
     "name": "stdout",
     "output_type": "stream",
     "text": [
      "ls\n"
     ]
    }
   ],
   "source": [
    "if str.startswith('ls'):\n",
    "    print(str)\n",
    "else:\n",
    "    print(\"ls\" + str)"
   ]
  },
  {
   "cell_type": "code",
   "execution_count": null,
   "id": "6853791c-e02d-4d42-9a15-10c3fffe622c",
   "metadata": {},
   "outputs": [],
   "source": []
  }
 ],
 "metadata": {
  "kernelspec": {
   "display_name": "Python 3 (ipykernel)",
   "language": "python",
   "name": "python3"
  },
  "language_info": {
   "codemirror_mode": {
    "name": "ipython",
    "version": 3
   },
   "file_extension": ".py",
   "mimetype": "text/x-python",
   "name": "python",
   "nbconvert_exporter": "python",
   "pygments_lexer": "ipython3",
   "version": "3.9.13"
  }
 },
 "nbformat": 4,
 "nbformat_minor": 5
}

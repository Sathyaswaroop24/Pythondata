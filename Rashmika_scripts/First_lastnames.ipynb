{
 "cells": [
  {
   "cell_type": "code",
   "execution_count": 1,
   "id": "5fc8696d-d692-4156-8f3c-e87c5cc37ea0",
   "metadata": {},
   "outputs": [
    {
     "name": "stdin",
     "output_type": "stream",
     "text": [
      "Enter first name: test\n",
      "Enter last name: test3\n"
     ]
    },
    {
     "name": "stdout",
     "output_type": "stream",
     "text": [
      "3tset tset"
     ]
    }
   ],
   "source": [
    "Firstname = input(\"Enter first name:\")\n",
    "lastname = input(\"Enter last name:\")\n",
    "name = Firstname + \" \" + lastname\n",
    "for i in range((len(name) -1),-1,-1):\n",
    "    print(name[i],end = \"\")"
   ]
  },
  {
   "cell_type": "code",
   "execution_count": 11,
   "id": "3604990d-0d30-43a5-a039-d0fdfa1b4878",
   "metadata": {},
   "outputs": [
    {
     "name": "stdout",
     "output_type": "stream",
     "text": [
      "tset   3tset\n"
     ]
    }
   ],
   "source": [
    "print(Firstname[::-1],' ',lastname[::-1])"
   ]
  },
  {
   "cell_type": "code",
   "execution_count": null,
   "id": "0a142623-db95-4052-9b46-edfd934ecc71",
   "metadata": {},
   "outputs": [],
   "source": []
  }
 ],
 "metadata": {
  "kernelspec": {
   "display_name": "Python 3 (ipykernel)",
   "language": "python",
   "name": "python3"
  },
  "language_info": {
   "codemirror_mode": {
    "name": "ipython",
    "version": 3
   },
   "file_extension": ".py",
   "mimetype": "text/x-python",
   "name": "python",
   "nbconvert_exporter": "python",
   "pygments_lexer": "ipython3",
   "version": "3.9.13"
  }
 },
 "nbformat": 4,
 "nbformat_minor": 5
}

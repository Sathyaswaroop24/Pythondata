{
 "cells": [
  {
   "cell_type": "code",
   "execution_count": 22,
   "id": "0ff0c932-5a86-4a0a-b2ae-bb01b04dcee3",
   "metadata": {},
   "outputs": [
    {
     "name": "stdout",
     "output_type": "stream",
     "text": [
      "Given s, determine the number of words in s.\n",
      "s = OneTwoThree------->There are  words in the string: 'one', 'Two', 'Three'.\n",
      "    \n",
      "savehangesnheditor"
     ]
    }
   ],
   "source": [
    "print('''Given s, determine the number of words in s.\n",
    "s = OneTwoThree------->There are  words in the string: 'one', 'Two', 'Three'.\n",
    "    ''')\n",
    "s = \"saveChangesInTheEditor\"\n",
    "for i in s:\n",
    "    if i.islower():\n",
    "        print(i,end = \"\")\n",
    "   \n"
   ]
  },
  {
   "cell_type": "code",
   "execution_count": null,
   "id": "56aa463a-085e-4f47-a055-ba9c9deafbb4",
   "metadata": {},
   "outputs": [],
   "source": []
  }
 ],
 "metadata": {
  "kernelspec": {
   "display_name": "Python 3 (ipykernel)",
   "language": "python",
   "name": "python3"
  },
  "language_info": {
   "codemirror_mode": {
    "name": "ipython",
    "version": 3
   },
   "file_extension": ".py",
   "mimetype": "text/x-python",
   "name": "python",
   "nbconvert_exporter": "python",
   "pygments_lexer": "ipython3",
   "version": "3.11.4"
  }
 },
 "nbformat": 4,
 "nbformat_minor": 5
}

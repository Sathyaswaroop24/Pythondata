{
 "cells": [
  {
   "cell_type": "markdown",
   "id": "fa582319-104f-4d5d-b18c-4b4176d8266d",
   "metadata": {},
   "source": [
    "### Shallow and Deep Copy"
   ]
  },
  {
   "cell_type": "markdown",
   "id": "8024d9f0-af66-4b7e-be61-684fb37a4f89",
   "metadata": {},
   "source": [
    "- how to copy lists and nested lists\n",
    "- The problems which we will encounter are general problems of mutable data types."
   ]
  },
  {
   "cell_type": "code",
   "execution_count": 1,
   "id": "4b6642b9-366c-4c24-94e7-f3d27a7b9224",
   "metadata": {},
   "outputs": [
    {
     "name": "stdout",
     "output_type": "stream",
     "text": [
      "4369262960 4369262960\n"
     ]
    }
   ],
   "source": [
    "x = 3\n",
    "y = x\n",
    "print(id(x), id(y))"
   ]
  },
  {
   "cell_type": "code",
   "execution_count": 3,
   "id": "7b9e1068-b2e8-46a6-8b74-b108da4618af",
   "metadata": {},
   "outputs": [
    {
     "name": "stdout",
     "output_type": "stream",
     "text": [
      "4369262960 4369262992\n"
     ]
    }
   ],
   "source": [
    "y = 4\n",
    "print(id(x), id(y))"
   ]
  },
  {
   "cell_type": "code",
   "execution_count": 4,
   "id": "ee802f7d-a779-4098-88bd-61b48bfbddea",
   "metadata": {},
   "outputs": [
    {
     "name": "stdout",
     "output_type": "stream",
     "text": [
      "3 4\n"
     ]
    }
   ],
   "source": [
    "print(x,y)"
   ]
  },
  {
   "cell_type": "code",
   "execution_count": 5,
   "id": "3ae02042-f7ef-4e52-9054-74eb594475ca",
   "metadata": {},
   "outputs": [],
   "source": [
    "#### Python creates only real copies"
   ]
  },
  {
   "cell_type": "markdown",
   "id": "efaa221a-263a-4884-b1b5-56cc5e52686e",
   "metadata": {},
   "source": [
    "### Variables Sharing an Object"
   ]
  },
  {
   "cell_type": "code",
   "execution_count": 6,
   "id": "489ce6c7-adcf-4bea-a67c-1299407e35b2",
   "metadata": {},
   "outputs": [
    {
     "name": "stdout",
     "output_type": "stream",
     "text": [
      "['red', 'blue'] ['red', 'blue']\n"
     ]
    }
   ],
   "source": [
    "colours1 = [\"red\", \"blue\"]\n",
    "colours2 = colours1\n",
    "print(colours1, colours2)"
   ]
  },
  {
   "cell_type": "code",
   "execution_count": 7,
   "id": "9f541751-e56d-4740-b0d7-7ec60d46c746",
   "metadata": {},
   "outputs": [
    {
     "name": "stdout",
     "output_type": "stream",
     "text": [
      "4419653504 4419653504\n"
     ]
    }
   ],
   "source": [
    "print(id(colours1), id(colours2))"
   ]
  },
  {
   "cell_type": "code",
   "execution_count": 8,
   "id": "4663319f-67d9-49cf-9bd7-cac2d92c9cc8",
   "metadata": {},
   "outputs": [],
   "source": [
    "colours2 = \"green\""
   ]
  },
  {
   "cell_type": "code",
   "execution_count": 9,
   "id": "8f905bb9-5be2-4e39-b3ff-3657d8b83644",
   "metadata": {},
   "outputs": [
    {
     "name": "stdout",
     "output_type": "stream",
     "text": [
      "4419653504 4394965936\n"
     ]
    }
   ],
   "source": [
    "print(id(colours1), id(colours2))"
   ]
  },
  {
   "cell_type": "code",
   "execution_count": 10,
   "id": "2e20f175-743e-4c24-8c42-1d52a6b1a3e1",
   "metadata": {},
   "outputs": [
    {
     "name": "stdout",
     "output_type": "stream",
     "text": [
      "Help on method_descriptor:\n",
      "\n",
      "copy(self, /)\n",
      "    Return a shallow copy of the list.\n",
      "\n"
     ]
    }
   ],
   "source": [
    "help(list.copy)"
   ]
  },
  {
   "cell_type": "markdown",
   "id": "aa047a43-573e-4b87-8006-bd100198e11d",
   "metadata": {},
   "source": [
    "### Problems of Copying Lists"
   ]
  },
  {
   "cell_type": "code",
   "execution_count": 12,
   "id": "bb116279-28f4-4d51-9dd2-949697ac3c52",
   "metadata": {},
   "outputs": [],
   "source": [
    "person1 = [\"Supriya\", [\"DB\",\"WellsFrago\", \"Citi\"]]\n",
    "person2 = person1.copy()"
   ]
  },
  {
   "cell_type": "code",
   "execution_count": 13,
   "id": "70d65671-afc6-4286-9297-5873eef13647",
   "metadata": {},
   "outputs": [],
   "source": [
    "person2[0] = \"Rashmika\""
   ]
  },
  {
   "cell_type": "code",
   "execution_count": 14,
   "id": "678e47a9-bb7a-4274-9906-22de16de68ed",
   "metadata": {},
   "outputs": [
    {
     "data": {
      "text/plain": [
       "['Rashmika', ['DB', 'WellsFrago', 'Citi']]"
      ]
     },
     "execution_count": 14,
     "metadata": {},
     "output_type": "execute_result"
    }
   ],
   "source": [
    "person2"
   ]
  },
  {
   "cell_type": "code",
   "execution_count": 15,
   "id": "d565dec7-ebd4-454a-a2b4-fc8d547e70fc",
   "metadata": {},
   "outputs": [
    {
     "data": {
      "text/plain": [
       "['Supriya', ['DB', 'WellsFrago', 'Citi']]"
      ]
     },
     "execution_count": 15,
     "metadata": {},
     "output_type": "execute_result"
    }
   ],
   "source": [
    "person1"
   ]
  },
  {
   "cell_type": "code",
   "execution_count": 16,
   "id": "ab06fd66-5314-487f-a611-3b44a037cbea",
   "metadata": {},
   "outputs": [],
   "source": [
    "person2[1][0] = 'Barclays'"
   ]
  },
  {
   "cell_type": "code",
   "execution_count": 17,
   "id": "b6b9b595-a954-47ea-92b1-8c7cbc409ee3",
   "metadata": {},
   "outputs": [
    {
     "data": {
      "text/plain": [
       "['Supriya', ['Barclays', 'WellsFrago', 'Citi']]"
      ]
     },
     "execution_count": 17,
     "metadata": {},
     "output_type": "execute_result"
    }
   ],
   "source": [
    "person1"
   ]
  },
  {
   "cell_type": "code",
   "execution_count": 18,
   "id": "b2413356-4188-497c-ab9d-9d3ae626fe46",
   "metadata": {},
   "outputs": [
    {
     "data": {
      "text/plain": [
       "['Rashmika', ['Barclays', 'WellsFrago', 'Citi']]"
      ]
     },
     "execution_count": 18,
     "metadata": {},
     "output_type": "execute_result"
    }
   ],
   "source": [
    "person2"
   ]
  },
  {
   "cell_type": "code",
   "execution_count": 19,
   "id": "db9ecb8d-2568-47c1-8ec8-98fe98d87bf1",
   "metadata": {},
   "outputs": [],
   "source": [
    "## deepcopy from the Module copy"
   ]
  },
  {
   "cell_type": "code",
   "execution_count": 20,
   "id": "d297834e-c907-462d-82a8-5a0f6fcb59d3",
   "metadata": {},
   "outputs": [],
   "source": [
    "from copy import deepcopy"
   ]
  },
  {
   "cell_type": "code",
   "execution_count": 21,
   "id": "3169e8ad-3f18-445f-9721-7db7972f37ff",
   "metadata": {},
   "outputs": [],
   "source": [
    "person1 = [\"Supriya\", [\"DB\", \"WellsFrago\", \"Citi\"]]"
   ]
  },
  {
   "cell_type": "code",
   "execution_count": 22,
   "id": "6d05596d-a4d2-4454-9a6b-2d636ae596f0",
   "metadata": {},
   "outputs": [],
   "source": [
    "person2 = deepcopy(person1)"
   ]
  },
  {
   "cell_type": "code",
   "execution_count": 23,
   "id": "ed5ecda6-78fa-4725-bc01-514f696f350c",
   "metadata": {},
   "outputs": [
    {
     "data": {
      "text/plain": [
       "['Supriya', ['DB', 'WellsFrago', 'Citi']]"
      ]
     },
     "execution_count": 23,
     "metadata": {},
     "output_type": "execute_result"
    }
   ],
   "source": [
    "person1"
   ]
  },
  {
   "cell_type": "code",
   "execution_count": 24,
   "id": "38861c92-561c-44a0-b769-e4954b573569",
   "metadata": {},
   "outputs": [
    {
     "data": {
      "text/plain": [
       "['Supriya', ['DB', 'WellsFrago', 'Citi']]"
      ]
     },
     "execution_count": 24,
     "metadata": {},
     "output_type": "execute_result"
    }
   ],
   "source": [
    "person2"
   ]
  },
  {
   "cell_type": "code",
   "execution_count": 25,
   "id": "befe5699-a77e-4eef-9c90-935df163877c",
   "metadata": {},
   "outputs": [
    {
     "data": {
      "text/plain": [
       "(4419157760, 4419529152)"
      ]
     },
     "execution_count": 25,
     "metadata": {},
     "output_type": "execute_result"
    }
   ],
   "source": [
    "id(person1[1]),id(person2[1])"
   ]
  },
  {
   "cell_type": "code",
   "execution_count": 26,
   "id": "05c6546f-20a0-47a1-8519-3fcf0ed08e54",
   "metadata": {},
   "outputs": [
    {
     "data": {
      "text/plain": [
       "(4419758704, 4419758704)"
      ]
     },
     "execution_count": 26,
     "metadata": {},
     "output_type": "execute_result"
    }
   ],
   "source": [
    "id(person1[0]),id(person2[0])"
   ]
  },
  {
   "cell_type": "code",
   "execution_count": 27,
   "id": "f9675653-7b44-4933-b960-81050200b5bb",
   "metadata": {},
   "outputs": [],
   "source": [
    "person2[0] = \"Rashmika\""
   ]
  },
  {
   "cell_type": "code",
   "execution_count": 28,
   "id": "578a87c0-eece-4f25-abcc-a7e36c0d912c",
   "metadata": {},
   "outputs": [
    {
     "data": {
      "text/plain": [
       "['Supriya', ['DB', 'WellsFrago', 'Citi']]"
      ]
     },
     "execution_count": 28,
     "metadata": {},
     "output_type": "execute_result"
    }
   ],
   "source": [
    "person1"
   ]
  },
  {
   "cell_type": "code",
   "execution_count": 29,
   "id": "8c78bb73-4e6d-47df-b8a4-6e105d906541",
   "metadata": {},
   "outputs": [
    {
     "data": {
      "text/plain": [
       "['Rashmika', ['DB', 'WellsFrago', 'Citi']]"
      ]
     },
     "execution_count": 29,
     "metadata": {},
     "output_type": "execute_result"
    }
   ],
   "source": [
    "person2"
   ]
  },
  {
   "cell_type": "code",
   "execution_count": 30,
   "id": "ac36e6a4-21f2-4cb8-8c70-46fdb3ed9586",
   "metadata": {},
   "outputs": [],
   "source": [
    "person2[1][0] = 'Barclays'"
   ]
  },
  {
   "cell_type": "code",
   "execution_count": 31,
   "id": "5324781d-5821-48ed-8ce3-92193919c833",
   "metadata": {},
   "outputs": [
    {
     "name": "stdout",
     "output_type": "stream",
     "text": [
      "['Supriya', ['DB', 'WellsFrago', 'Citi']] ['Rashmika', ['Barclays', 'WellsFrago', 'Citi']]\n"
     ]
    }
   ],
   "source": [
    "print(person1, person2)"
   ]
  },
  {
   "cell_type": "code",
   "execution_count": null,
   "id": "3c69648f-c5aa-4240-a14c-eb2c86853b15",
   "metadata": {},
   "outputs": [],
   "source": []
  }
 ],
 "metadata": {
  "kernelspec": {
   "display_name": "Python 3 (ipykernel)",
   "language": "python",
   "name": "python3"
  },
  "language_info": {
   "codemirror_mode": {
    "name": "ipython",
    "version": 3
   },
   "file_extension": ".py",
   "mimetype": "text/x-python",
   "name": "python",
   "nbconvert_exporter": "python",
   "pygments_lexer": "ipython3",
   "version": "3.9.13"
  }
 },
 "nbformat": 4,
 "nbformat_minor": 5
}

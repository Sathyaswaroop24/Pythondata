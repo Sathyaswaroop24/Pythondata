{
 "cells": [
  {
   "cell_type": "markdown",
   "id": "0bd9c169-2023-4fe3-9fa0-2a0bbd95709f",
   "metadata": {},
   "source": [
    "### Sets and Frozen Sets"
   ]
  },
  {
   "cell_type": "code",
   "execution_count": 1,
   "id": "b97c9e1c-8e0e-46d0-ba83-7c8bc375d72a",
   "metadata": {},
   "outputs": [],
   "source": [
    "x = set([\"Perl\", \"Python\", \"Java\"])"
   ]
  },
  {
   "cell_type": "code",
   "execution_count": 2,
   "id": "d8388397-a8b4-4902-a204-098b7e80671b",
   "metadata": {},
   "outputs": [
    {
     "data": {
      "text/plain": [
       "{'Java', 'Perl', 'Python'}"
      ]
     },
     "execution_count": 2,
     "metadata": {},
     "output_type": "execute_result"
    }
   ],
   "source": [
    "x"
   ]
  },
  {
   "cell_type": "code",
   "execution_count": 3,
   "id": "05a74bf8-2fdd-4c22-8ef5-9a7704eb244c",
   "metadata": {},
   "outputs": [],
   "source": [
    "x.add('scala')"
   ]
  },
  {
   "cell_type": "code",
   "execution_count": 4,
   "id": "038e3785-2e3e-40a5-acb8-8ab341f7c6c5",
   "metadata": {},
   "outputs": [
    {
     "data": {
      "text/plain": [
       "{'Java', 'Perl', 'Python', 'scala'}"
      ]
     },
     "execution_count": 4,
     "metadata": {},
     "output_type": "execute_result"
    }
   ],
   "source": [
    "x"
   ]
  },
  {
   "cell_type": "markdown",
   "id": "19b6b613-e220-48f3-9074-c915405ccb22",
   "metadata": {},
   "source": [
    "- Sets are mutable "
   ]
  },
  {
   "cell_type": "code",
   "execution_count": 6,
   "id": "e3c92525-0da7-4647-9c71-d5223961ae2f",
   "metadata": {},
   "outputs": [],
   "source": [
    "x = frozenset([\"Perl\", \"Python\", \"Java\"])"
   ]
  },
  {
   "cell_type": "code",
   "execution_count": 7,
   "id": "5605a3e4-6b07-461c-982d-0d71ef42a89e",
   "metadata": {},
   "outputs": [
    {
     "data": {
      "text/plain": [
       "frozenset({'Java', 'Perl', 'Python'})"
      ]
     },
     "execution_count": 7,
     "metadata": {},
     "output_type": "execute_result"
    }
   ],
   "source": [
    "x"
   ]
  },
  {
   "cell_type": "code",
   "execution_count": 8,
   "id": "842cfe79-736d-4d82-b79a-aafde9b9537a",
   "metadata": {},
   "outputs": [
    {
     "ename": "AttributeError",
     "evalue": "'frozenset' object has no attribute 'add'",
     "output_type": "error",
     "traceback": [
      "\u001b[0;31m---------------------------------------------------------------------------\u001b[0m",
      "\u001b[0;31mAttributeError\u001b[0m                            Traceback (most recent call last)",
      "Cell \u001b[0;32mIn[8], line 1\u001b[0m\n\u001b[0;32m----> 1\u001b[0m \u001b[43mx\u001b[49m\u001b[38;5;241;43m.\u001b[39;49m\u001b[43madd\u001b[49m(\u001b[38;5;124m'\u001b[39m\u001b[38;5;124mscala\u001b[39m\u001b[38;5;124m'\u001b[39m)\n",
      "\u001b[0;31mAttributeError\u001b[0m: 'frozenset' object has no attribute 'add'"
     ]
    }
   ],
   "source": [
    "x.add('scala')"
   ]
  },
  {
   "cell_type": "markdown",
   "id": "38b4ee9d-89d3-4569-9587-411137505793",
   "metadata": {},
   "source": [
    "- frozen Sets are immutable"
   ]
  },
  {
   "cell_type": "markdown",
   "id": "befdd413-90d5-487f-ba6b-f7ebaeb13eb2",
   "metadata": {},
   "source": [
    "## Immutable Sets"
   ]
  },
  {
   "cell_type": "code",
   "execution_count": 14,
   "id": "8a330b96-a896-4fdc-b7b9-79052388f376",
   "metadata": {},
   "outputs": [
    {
     "ename": "TypeError",
     "evalue": "unhashable type: 'list'",
     "output_type": "error",
     "traceback": [
      "\u001b[0;31m---------------------------------------------------------------------------\u001b[0m",
      "\u001b[0;31mTypeError\u001b[0m                                 Traceback (most recent call last)",
      "Cell \u001b[0;32mIn[14], line 1\u001b[0m\n\u001b[0;32m----> 1\u001b[0m cities \u001b[38;5;241m=\u001b[39m \u001b[38;5;28;43mset\u001b[39;49m\u001b[43m(\u001b[49m\u001b[43m(\u001b[49m\u001b[43m[\u001b[49m\u001b[38;5;124;43m\"\u001b[39;49m\u001b[38;5;124;43mPython\u001b[39;49m\u001b[38;5;124;43m\"\u001b[39;49m\u001b[43m,\u001b[49m\u001b[38;5;124;43m\"\u001b[39;49m\u001b[38;5;124;43mPerl\u001b[39;49m\u001b[38;5;124;43m\"\u001b[39;49m\u001b[43m]\u001b[49m\u001b[43m,\u001b[49m\u001b[43m \u001b[49m\u001b[43m[\u001b[49m\u001b[38;5;124;43m\"\u001b[39;49m\u001b[38;5;124;43mNagpur\u001b[39;49m\u001b[38;5;124;43m\"\u001b[39;49m\u001b[43m,\u001b[49m\u001b[43m \u001b[49m\u001b[38;5;124;43m\"\u001b[39;49m\u001b[38;5;124;43mMumbai\u001b[39;49m\u001b[38;5;124;43m\"\u001b[39;49m\u001b[43m,\u001b[49m\u001b[43m \u001b[49m\u001b[38;5;124;43m\"\u001b[39;49m\u001b[38;5;124;43mPune\u001b[39;49m\u001b[38;5;124;43m\"\u001b[39;49m\u001b[43m]\u001b[49m\u001b[43m)\u001b[49m\u001b[43m)\u001b[49m\n",
      "\u001b[0;31mTypeError\u001b[0m: unhashable type: 'list'"
     ]
    }
   ],
   "source": [
    "cities = set(([\"Python\",\"Perl\"], [\"Nagpur\", \"Mumbai\", \"Pune\"]))"
   ]
  },
  {
   "cell_type": "markdown",
   "id": "366526a9-45c4-4af8-a1a8-9561af6a93c4",
   "metadata": {},
   "source": [
    "Lists are mutables on the other hand tuples are immutables"
   ]
  },
  {
   "cell_type": "code",
   "execution_count": 15,
   "id": "060661b9-363f-4404-941a-fb31dbaff0ea",
   "metadata": {},
   "outputs": [],
   "source": [
    "cities = set(((\"Python\",\"Perl\"), (\"Nagpur\", \"Mumbai\", \"Pune\")))"
   ]
  },
  {
   "cell_type": "code",
   "execution_count": 16,
   "id": "e801bbd8-1f6e-41d9-8bef-64c9b8f7cf26",
   "metadata": {},
   "outputs": [
    {
     "data": {
      "text/plain": [
       "{('Nagpur', 'Mumbai', 'Pune'), ('Python', 'Perl')}"
      ]
     },
     "execution_count": 16,
     "metadata": {},
     "output_type": "execute_result"
    }
   ],
   "source": [
    "cities"
   ]
  },
  {
   "cell_type": "code",
   "execution_count": null,
   "id": "b51dbd52-1b9a-451a-b6f4-6668fb51f915",
   "metadata": {},
   "outputs": [],
   "source": []
  }
 ],
 "metadata": {
  "kernelspec": {
   "display_name": "Python 3 (ipykernel)",
   "language": "python",
   "name": "python3"
  },
  "language_info": {
   "codemirror_mode": {
    "name": "ipython",
    "version": 3
   },
   "file_extension": ".py",
   "mimetype": "text/x-python",
   "name": "python",
   "nbconvert_exporter": "python",
   "pygments_lexer": "ipython3",
   "version": "3.9.13"
  }
 },
 "nbformat": 4,
 "nbformat_minor": 5
}

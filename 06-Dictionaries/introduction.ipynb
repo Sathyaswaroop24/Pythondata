{
 "cells": [
  {
   "cell_type": "markdown",
   "id": "d584e5a5-b5e8-42b8-8ab4-0da72c9e6a66",
   "metadata": {},
   "source": [
    "# Dictionaries in Python\n",
    "\n",
    "### has two parts\n",
    "- Key\n",
    "- value\n",
    "\n",
    "### Python Dictionaries are collection of key-value pairs\n",
    "### {}\n"
   ]
  },
  {
   "cell_type": "code",
   "execution_count": null,
   "id": "5a75b810-d48b-41f1-8d28-0b4cbbdf5953",
   "metadata": {},
   "outputs": [],
   "source": [
    "superhero = {\n",
    "        'batman': 'Bruce Wayne',\n",
    "        'flash': 'Berry Allan',\n",
    "        'superman': 'Clark Kent',\n",
    "        'wonder women': 'Diana Prince',\n",
    "        'cyborg': 'Victor Stone'\n",
    "}\n"
   ]
  },
  {
   "cell_type": "code",
   "execution_count": null,
   "id": "b10a35b6-62ff-4b45-b9c5-a2141f8dadbd",
   "metadata": {},
   "outputs": [],
   "source": [
    "superhero"
   ]
  },
  {
   "cell_type": "markdown",
   "id": "6bd4263d-3b34-4693-9a42-0a636a923a94",
   "metadata": {},
   "source": [
    "Keys in Dictionary \n",
    "- Numbers \n",
    "- Strings\n",
    "- Tuples"
   ]
  },
  {
   "cell_type": "code",
   "execution_count": null,
   "id": "e893ac66-5280-4771-a61b-1d487a0f483d",
   "metadata": {},
   "outputs": [],
   "source": [
    "num_dict = {1:'one',2:'two'}\n",
    "num_dict"
   ]
  },
  {
   "cell_type": "code",
   "execution_count": null,
   "id": "ce879542-73ea-482a-8c3f-6520ab21d725",
   "metadata": {},
   "outputs": [],
   "source": [
    "string_dict = {'one':'one','two':'two'}\n",
    "string_dict"
   ]
  },
  {
   "cell_type": "code",
   "execution_count": null,
   "id": "506caa63-ee04-4f99-bb7e-d4f454184262",
   "metadata": {},
   "outputs": [],
   "source": [
    "tuple_dict = {('one',):'one',('two',):'two'}\n",
    "tuple_dict"
   ]
  },
  {
   "cell_type": "code",
   "execution_count": null,
   "id": "854d5a64-6587-4d1e-a84e-3e780137a6af",
   "metadata": {},
   "outputs": [],
   "source": [
    "list_dict = {['one',1]:'one', ['two',2]:'two'}\n",
    "list_dict"
   ]
  },
  {
   "cell_type": "markdown",
   "id": "b1cd67b2-a869-48cd-92ae-31f0c9878d97",
   "metadata": {},
   "source": [
    "### NOTE: \n",
    "#### So from above example we can conclude that immutable objects can be used as keys\n",
    "- number, strings, tuples are immutable objects "
   ]
  },
  {
   "cell_type": "code",
   "execution_count": null,
   "id": "4c5c9f5d-661e-494a-8f25-d231f83e3945",
   "metadata": {},
   "outputs": [],
   "source": [
    "### Same key can be assign to multiple values but it does not apper in result\n",
    "\n",
    "exmple_dict = {'one':1,'one':2,'one':3}\n",
    "exmple_dict"
   ]
  },
  {
   "cell_type": "code",
   "execution_count": null,
   "id": "36126540-6564-4e77-8b73-570c52254f27",
   "metadata": {},
   "outputs": [],
   "source": []
  },
  {
   "cell_type": "code",
   "execution_count": null,
   "id": "f1776b50-8c81-4ce3-84a8-818f01b0633c",
   "metadata": {},
   "outputs": [],
   "source": []
  },
  {
   "cell_type": "markdown",
   "id": "747b9c8c-3e0d-4ab5-addd-274886e2eeec",
   "metadata": {},
   "source": [
    "#### Python Dictionary Operators"
   ]
  },
  {
   "cell_type": "code",
   "execution_count": null,
   "id": "158aaad2-bd5d-4cbc-a86a-ebe842f1eb89",
   "metadata": {},
   "outputs": [],
   "source": [
    "d1 = {'one': 1, 'two': 2, 'three': 3}\n",
    "d2 = {'four': 4, 'five': 5, 'six': 6}"
   ]
  },
  {
   "cell_type": "code",
   "execution_count": null,
   "id": "f65b4b1c-0275-4b16-8d9b-dcb7c8fedd9a",
   "metadata": {},
   "outputs": [],
   "source": [
    "# Union of two dictionary \n",
    "d1 | d2"
   ]
  },
  {
   "cell_type": "code",
   "execution_count": null,
   "id": "af17ade7-f591-4271-b7df-83887b5eeb33",
   "metadata": {},
   "outputs": [],
   "source": [
    "# Extract/assign the value \n",
    "d1['three']"
   ]
  },
  {
   "cell_type": "code",
   "execution_count": null,
   "id": "db86446b-2b3b-4ec2-8885-9a0a01e37cd9",
   "metadata": {},
   "outputs": [],
   "source": [
    "d1['three'] = 33333"
   ]
  },
  {
   "cell_type": "code",
   "execution_count": null,
   "id": "58a3e4ef-6af5-48a3-a0ca-f63309453261",
   "metadata": {},
   "outputs": [],
   "source": [
    "d1"
   ]
  },
  {
   "cell_type": "code",
   "execution_count": null,
   "id": "bdecfd57-074b-4b88-b01a-6bb508444090",
   "metadata": {},
   "outputs": [],
   "source": [
    "# Augmented dictionary \n",
    "d1 |= d2"
   ]
  },
  {
   "cell_type": "code",
   "execution_count": null,
   "id": "055b7906-b95a-4f52-a988-64d5be66b9c7",
   "metadata": {},
   "outputs": [],
   "source": [
    "d1"
   ]
  },
  {
   "cell_type": "code",
   "execution_count": null,
   "id": "fb9e570e-b97a-4956-9083-7bc661ef0665",
   "metadata": {},
   "outputs": [],
   "source": []
  },
  {
   "cell_type": "code",
   "execution_count": null,
   "id": "01e97ebc-1434-49b8-ab47-9aad53a94534",
   "metadata": {},
   "outputs": [],
   "source": []
  },
  {
   "cell_type": "markdown",
   "id": "8e5255cb-c5e4-4132-93b6-e97a38450b59",
   "metadata": {},
   "source": [
    "# Access Dictionary Items"
   ]
  },
  {
   "cell_type": "markdown",
   "id": "b77f4386-f0c1-4760-8e4f-e620fa93061f",
   "metadata": {},
   "source": [
    "### Using the \"[ ]\" Operator"
   ]
  },
  {
   "cell_type": "code",
   "execution_count": null,
   "id": "4ac98bc0-2ce5-4b8f-b647-7e36d58c8ddb",
   "metadata": {},
   "outputs": [],
   "source": [
    "superhero"
   ]
  },
  {
   "cell_type": "code",
   "execution_count": null,
   "id": "7e60cd11-6703-4ebc-843e-a744eb3187fb",
   "metadata": {},
   "outputs": [],
   "source": [
    "print(f\"Batman aka {superhero['batman']} is from Gotham\") "
   ]
  },
  {
   "cell_type": "code",
   "execution_count": null,
   "id": "c191512b-b526-4870-ba95-e681fce0aed9",
   "metadata": {},
   "outputs": [],
   "source": [
    "superhero['BATMAN']"
   ]
  },
  {
   "cell_type": "code",
   "execution_count": null,
   "id": "b7b844a3-d58d-4c7e-b5ed-cdc39ce4cbcf",
   "metadata": {},
   "outputs": [],
   "source": []
  },
  {
   "cell_type": "markdown",
   "id": "1857effb-b13e-46ce-8556-7daabc6a5f5e",
   "metadata": {},
   "source": [
    "### Using the get() Method"
   ]
  },
  {
   "cell_type": "code",
   "execution_count": null,
   "id": "8e57f29d-c8e0-49ed-8b5a-aca6567bd187",
   "metadata": {},
   "outputs": [],
   "source": [
    "superhero.get('superman')"
   ]
  },
  {
   "cell_type": "code",
   "execution_count": null,
   "id": "b109c128-088c-4abb-80b2-5d934d036fae",
   "metadata": {},
   "outputs": [],
   "source": [
    "superhero.get('shazam')"
   ]
  },
  {
   "cell_type": "code",
   "execution_count": null,
   "id": "eee8eab0-936c-4b10-87c8-90029dd7a351",
   "metadata": {},
   "outputs": [],
   "source": [
    "superhero.get('shazam',0)"
   ]
  },
  {
   "cell_type": "code",
   "execution_count": null,
   "id": "c3576030-59e0-42d7-bfad-33d2de082179",
   "metadata": {},
   "outputs": [],
   "source": [
    "superhero.get('cyborg',0)"
   ]
  },
  {
   "cell_type": "markdown",
   "id": "378c23a9-aa49-4746-94d0-c51d19f52323",
   "metadata": {},
   "source": [
    "### NOTE: \n",
    "#### Unlike the \"[]\" operator, the get() method doesn't raise error if the key is not found; it return None."
   ]
  },
  {
   "cell_type": "code",
   "execution_count": null,
   "id": "5a36f73e-08bb-4d0b-b8b4-261d7674de13",
   "metadata": {},
   "outputs": [],
   "source": []
  },
  {
   "cell_type": "markdown",
   "id": "0688029f-dc76-4697-b3c8-e594eb290d88",
   "metadata": {},
   "source": [
    "# Change Dictionary Items"
   ]
  },
  {
   "cell_type": "code",
   "execution_count": null,
   "id": "65aae802-8aae-4612-988e-3e82e80a6818",
   "metadata": {},
   "outputs": [],
   "source": [
    "# Empty Dictionary \n",
    "d1 = dict()\n",
    "d2 = {}\n",
    "print ('d1: ', d1)\n",
    "print ('d2: ', d2)"
   ]
  },
  {
   "cell_type": "markdown",
   "id": "88e7414e-e232-4569-8557-a5e889a0aaae",
   "metadata": {},
   "source": [
    "### Dictionary from List of Tuples"
   ]
  },
  {
   "cell_type": "code",
   "execution_count": null,
   "id": "843672c7-55a8-4d9c-8852-d709706146da",
   "metadata": {},
   "outputs": [],
   "source": [
    "tuple1 = (1,'one')\n",
    "tuple2 = (2,'two')\n",
    "\n",
    "d1 = dict([tuple1,tuple2])"
   ]
  },
  {
   "cell_type": "code",
   "execution_count": null,
   "id": "21aa3efe-d889-4071-b160-8771e07b7eb7",
   "metadata": {},
   "outputs": [],
   "source": [
    "d1"
   ]
  },
  {
   "cell_type": "markdown",
   "id": "708a34bc-9636-4e7d-ac95-73a0e9dbb598",
   "metadata": {},
   "source": [
    "### Dictionary from Keyword Arguments"
   ]
  },
  {
   "cell_type": "code",
   "execution_count": null,
   "id": "dead9c08-28bd-4bed-bd99-8fe06677b963",
   "metadata": {},
   "outputs": [],
   "source": [
    "d1 = dict(a=100,b=200,c=400,d='any of keyword args')\n",
    "d1"
   ]
  },
  {
   "cell_type": "code",
   "execution_count": null,
   "id": "0c5b9894-e663-4bdd-bf9f-4223406fd0ac",
   "metadata": {},
   "outputs": [],
   "source": []
  },
  {
   "cell_type": "markdown",
   "id": "013ccda2-306b-4aa7-80b3-2fc7ee9525a5",
   "metadata": {},
   "source": [
    "# Add Dictionary Items"
   ]
  },
  {
   "cell_type": "markdown",
   "id": "b6862483-c7e8-4aed-b3ab-d0b9d12a0c54",
   "metadata": {},
   "source": [
    "### Using [] the Operator"
   ]
  },
  {
   "cell_type": "code",
   "execution_count": null,
   "id": "8357c765-a3cb-4976-9572-6fc6191442c8",
   "metadata": {},
   "outputs": [],
   "source": [
    "d1"
   ]
  },
  {
   "cell_type": "code",
   "execution_count": null,
   "id": "bc9d2c87-15cb-4368-830e-0fdb3947f6ab",
   "metadata": {},
   "outputs": [],
   "source": [
    "d1['d'] = 500"
   ]
  },
  {
   "cell_type": "code",
   "execution_count": null,
   "id": "f8f33de7-50c3-4ddd-9145-390ca0f79f95",
   "metadata": {},
   "outputs": [],
   "source": [
    "d1"
   ]
  },
  {
   "cell_type": "markdown",
   "id": "eaa9b550-1afb-42f9-b59b-2fc87dec13b8",
   "metadata": {},
   "source": [
    "### Using the update() Method\n",
    "\n",
    "- update method argument is only dict"
   ]
  },
  {
   "cell_type": "code",
   "execution_count": null,
   "id": "7c05f181-f327-44bd-980b-3e893cf425df",
   "metadata": {},
   "outputs": [],
   "source": [
    "d2 = {2:'d2'}\n",
    "d1 = {1: 'd1'}"
   ]
  },
  {
   "cell_type": "code",
   "execution_count": null,
   "id": "699daf40-b1e8-441f-bc93-c4a560a5f724",
   "metadata": {},
   "outputs": [],
   "source": [
    "d1"
   ]
  },
  {
   "cell_type": "code",
   "execution_count": null,
   "id": "ec2f3d66-dac6-4c3c-89b8-4dd2ce8e2e68",
   "metadata": {},
   "outputs": [],
   "source": [
    "d2"
   ]
  },
  {
   "cell_type": "code",
   "execution_count": null,
   "id": "8a017a13-aea6-4946-842d-fedb2eea60a0",
   "metadata": {},
   "outputs": [],
   "source": [
    "d1.update(d2)"
   ]
  },
  {
   "cell_type": "code",
   "execution_count": null,
   "id": "a81f274b-da14-4199-b02a-9a5073d6eb58",
   "metadata": {},
   "outputs": [],
   "source": [
    "d1"
   ]
  },
  {
   "cell_type": "code",
   "execution_count": null,
   "id": "45764f59-e798-4c2c-b422-c08ec5829675",
   "metadata": {},
   "outputs": [],
   "source": [
    "d2"
   ]
  },
  {
   "cell_type": "markdown",
   "id": "e49da15c-7807-4c58-8bce-f66d9eec11ea",
   "metadata": {},
   "source": [
    "### Update with Iterable"
   ]
  },
  {
   "cell_type": "code",
   "execution_count": null,
   "id": "69921d12-a986-48c0-a536-6f4e152ee841",
   "metadata": {},
   "outputs": [],
   "source": [
    "d1.update([(4,'four'),(5,'five')])"
   ]
  },
  {
   "cell_type": "code",
   "execution_count": null,
   "id": "19ab87e6-b26e-42cf-9481-cb9a98e707b2",
   "metadata": {},
   "outputs": [],
   "source": [
    "d1"
   ]
  },
  {
   "cell_type": "markdown",
   "id": "2826d17d-4b1a-4bb9-9fec-6825528b3a31",
   "metadata": {},
   "source": [
    "### Update with Keyword Arguments"
   ]
  },
  {
   "cell_type": "code",
   "execution_count": null,
   "id": "7881d53c-378a-4728-b7a1-b4dbb80cf0a0",
   "metadata": {},
   "outputs": [],
   "source": [
    "d1.update(6 = six,7 = seven)"
   ]
  },
  {
   "cell_type": "code",
   "execution_count": null,
   "id": "0a1f339a-00f6-4987-a716-f123690928cf",
   "metadata": {},
   "outputs": [],
   "source": [
    "d1.update(six=6,seven=7)"
   ]
  },
  {
   "cell_type": "code",
   "execution_count": null,
   "id": "284d98fa-54a6-4189-ae81-2040e70dc770",
   "metadata": {},
   "outputs": [],
   "source": [
    "d1"
   ]
  },
  {
   "cell_type": "markdown",
   "id": "537edb5f-76ff-47e0-b58f-ac09eca2d17b",
   "metadata": {},
   "source": [
    "### Using the Unpack Operator"
   ]
  },
  {
   "cell_type": "code",
   "execution_count": null,
   "id": "95f5012e-329a-475f-8c49-96daf25b9866",
   "metadata": {},
   "outputs": [],
   "source": [
    "{**d1, **superhero}"
   ]
  },
  {
   "cell_type": "code",
   "execution_count": null,
   "id": "b2761798-09de-4b4a-9f54-afc34e4df8da",
   "metadata": {},
   "outputs": [],
   "source": [
    "{ superhero, d1}"
   ]
  },
  {
   "cell_type": "markdown",
   "id": "f2bf7a11-e179-48a3-8173-ff7ad2c02760",
   "metadata": {},
   "source": [
    "### Using the Union Operator (|)"
   ]
  },
  {
   "cell_type": "code",
   "execution_count": null,
   "id": "0ee1e491-7ebb-4d3a-be3e-390515aded0a",
   "metadata": {},
   "outputs": [],
   "source": [
    "d1 | superhero"
   ]
  },
  {
   "cell_type": "code",
   "execution_count": null,
   "id": "ed2cd3e7-0f5a-4bd3-beb9-21df0fae0af3",
   "metadata": {},
   "outputs": [],
   "source": []
  },
  {
   "cell_type": "markdown",
   "id": "84ac1e9b-563a-4d96-b87e-57f4d514e582",
   "metadata": {},
   "source": [
    "#  Nested Dictionaries"
   ]
  },
  {
   "cell_type": "code",
   "execution_count": null,
   "id": "f80f009f-9474-4962-b6e0-ca51eea9bee4",
   "metadata": {},
   "outputs": [],
   "source": [
    "marks = {\n",
    "    'laal': {'physics':56,'chemistry':92,'mathematics':98},\n",
    "    'baal': {\n",
    "        'physics':78,\n",
    "        'chemistry':45,\n",
    "        'mathematics':78\n",
    "    },\n",
    "    'paal': {'physics':100,'chemistry':100,'mathematics':100}\n",
    "}\n",
    "marks"
   ]
  },
  {
   "cell_type": "code",
   "execution_count": null,
   "id": "833edd31-dbc8-4e63-917a-82d9e475a394",
   "metadata": {},
   "outputs": [],
   "source": [
    "for key,values in marks.items():\n",
    "    print(key, ' mark summary : ', values)"
   ]
  },
  {
   "cell_type": "code",
   "execution_count": null,
   "id": "43164660-06e6-4a76-a32b-a6aa50c38bf1",
   "metadata": {},
   "outputs": [],
   "source": []
  },
  {
   "cell_type": "code",
   "execution_count": null,
   "id": "364a7a12-11a5-4a99-a331-79f833f72e16",
   "metadata": {},
   "outputs": [],
   "source": [
    "# What if we are intrested in math subject only\n",
    "for key,values in marks.items():\n",
    "    print(key, ' mark summary : ', values.get('mathematics'))"
   ]
  },
  {
   "cell_type": "code",
   "execution_count": null,
   "id": "0cae8db8-aec5-446e-8e7e-a1efa1c07f80",
   "metadata": {},
   "outputs": [],
   "source": [
    "# If you intersted in PCM group \n",
    "for key,values in marks.items():\n",
    "    print(key, ' mark summary : ', \n",
    "        values.get('physics') + values.get('chemistry') + values.get('mathematics'))"
   ]
  },
  {
   "cell_type": "code",
   "execution_count": null,
   "id": "e2a5bb62-d8eb-41cd-a7bd-7f259bf57fde",
   "metadata": {},
   "outputs": [],
   "source": []
  },
  {
   "cell_type": "code",
   "execution_count": null,
   "id": "8f6dcd51-6387-4321-8c5c-11e714eb4a58",
   "metadata": {},
   "outputs": [],
   "source": [
    "d = {'name': 'codelocked', 'age':1}"
   ]
  },
  {
   "cell_type": "code",
   "execution_count": null,
   "id": "6f39c3b5-2f73-45f5-bf5f-4aef2f237c81",
   "metadata": {},
   "outputs": [],
   "source": [
    "print(\"End Len : %d\" % len(d))"
   ]
  },
  {
   "cell_type": "code",
   "execution_count": null,
   "id": "46a3e406-7d63-4806-9777-98b39461f033",
   "metadata": {},
   "outputs": [],
   "source": [
    "d.clear()\n",
    "print(\"End Len : %d\" % len(d))"
   ]
  },
  {
   "cell_type": "code",
   "execution_count": null,
   "id": "3a53ef9e-9000-4179-b759-b038a35b9165",
   "metadata": {},
   "outputs": [],
   "source": []
  },
  {
   "cell_type": "code",
   "execution_count": null,
   "id": "4f2baf66-4289-4344-9047-177011647eea",
   "metadata": {},
   "outputs": [],
   "source": [
    "d.fromkeys(['name','age','city'],['codelocked',1,'pune'])"
   ]
  },
  {
   "cell_type": "code",
   "execution_count": null,
   "id": "8494f5d4-6091-4c79-9999-d0eca537c9d7",
   "metadata": {},
   "outputs": [],
   "source": [
    "d.fromkeys(['name','age','city'])"
   ]
  },
  {
   "cell_type": "code",
   "execution_count": null,
   "id": "143546f2-d80b-4208-94ee-158f93c69875",
   "metadata": {},
   "outputs": [],
   "source": [
    "d.fromkeys(['name','age','city'],10000)"
   ]
  },
  {
   "cell_type": "code",
   "execution_count": null,
   "id": "54d4f386-edfc-4a2c-8d0e-7ef40921db9e",
   "metadata": {},
   "outputs": [],
   "source": []
  }
 ],
 "metadata": {
  "kernelspec": {
   "display_name": "Python 3 (ipykernel)",
   "language": "python",
   "name": "python3"
  },
  "language_info": {
   "codemirror_mode": {
    "name": "ipython",
    "version": 3
   },
   "file_extension": ".py",
   "mimetype": "text/x-python",
   "name": "python",
   "nbconvert_exporter": "python",
   "pygments_lexer": "ipython3",
   "version": "3.9.13"
  }
 },
 "nbformat": 4,
 "nbformat_minor": 5
}

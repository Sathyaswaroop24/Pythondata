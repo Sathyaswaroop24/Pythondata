{
 "cells": [
  {
   "cell_type": "markdown",
   "id": "d584e5a5-b5e8-42b8-8ab4-0da72c9e6a66",
   "metadata": {},
   "source": [
    "# Dictionaries in Python\n",
    "\n",
    "### has two parts\n",
    "- Key\n",
    "- value\n",
    "\n",
    "### Python Dictionaries are collections of key-value pairs\n",
    "### {}\n"
   ]
  },
  {
   "cell_type": "markdown",
   "id": "9301b95d-3aac-4aea-8528-1daaa69d7e5d",
   "metadata": {},
   "source": [
    "## Difference between List and Dictionaries\n",
    "- A list is an ordered sequence of objects whereas dictionaries are unordered sets\n",
    "- the main difference is that items in dictionaries are accessed via keys and not via their position\n"
   ]
  },
  {
   "cell_type": "code",
   "execution_count": 38,
   "id": "931c8a44-e750-483d-8c67-08abf8a49aba",
   "metadata": {},
   "outputs": [],
   "source": [
    "superhero = {\n",
    "        'batman': 'Bruce Wayne',\n",
    "        'flash': 'Berry Allan',\n",
    "        'superman': 'Clark Kent',\n",
    "        'wonder women': 'Diana Prince',\n",
    "        'cyborg': 'Victor Stone'\n",
    "}\n"
   ]
  },
  {
   "cell_type": "code",
   "execution_count": 39,
   "id": "b10a35b6-62ff-4b45-b9c5-a2141f8dadbd",
   "metadata": {},
   "outputs": [
    {
     "data": {
      "text/plain": [
       "{'batman': 'Bruce Wayne',\n",
       " 'flash': 'Berry Allan',\n",
       " 'superman': 'Clark Kent',\n",
       " 'wonder women': 'Diana Prince',\n",
       " 'cyborg': 'Victor Stone'}"
      ]
     },
     "execution_count": 39,
     "metadata": {},
     "output_type": "execute_result"
    }
   ],
   "source": [
    "superhero"
   ]
  },
  {
   "cell_type": "code",
   "execution_count": 40,
   "id": "b545c41b-0ac2-434e-b4f8-946443d5377b",
   "metadata": {},
   "outputs": [],
   "source": [
    "post = [\n",
    "    {\n",
    "        'member_id':200,\n",
    "        'location':(23.34,34.54),\n",
    "        'comment': 'Okay I am happy'\n",
    "    },\n",
    "    {\n",
    "\n",
    "        'member_id':200,\n",
    "        'location':(43.34,44.54),\n",
    "        'comment': 'Okay I am 😞 ',\n",
    "        'pic': 'base6434324234234343243423343423324232432432434sdfsrt3r23423'\n",
    "    \n",
    "    } ]"
   ]
  },
  {
   "cell_type": "code",
   "execution_count": 41,
   "id": "62bf0497-44d5-488e-b30d-6ef6de31b6d9",
   "metadata": {},
   "outputs": [
    {
     "ename": "KeyError",
     "evalue": "'pic'",
     "output_type": "error",
     "traceback": [
      "\u001b[0;31m---------------------------------------------------------------------------\u001b[0m",
      "\u001b[0;31mKeyError\u001b[0m                                  Traceback (most recent call last)",
      "Cell \u001b[0;32mIn[41], line 1\u001b[0m\n\u001b[0;32m----> 1\u001b[0m \u001b[43mpost\u001b[49m\u001b[43m[\u001b[49m\u001b[38;5;241;43m0\u001b[39;49m\u001b[43m]\u001b[49m\u001b[43m[\u001b[49m\u001b[38;5;124;43m'\u001b[39;49m\u001b[38;5;124;43mpic\u001b[39;49m\u001b[38;5;124;43m'\u001b[39;49m\u001b[43m]\u001b[49m\n",
      "\u001b[0;31mKeyError\u001b[0m: 'pic'"
     ]
    }
   ],
   "source": [
    "post[0]['pic']"
   ]
  },
  {
   "cell_type": "code",
   "execution_count": 42,
   "id": "1fe59258-673e-468c-9ba2-e53397ff5219",
   "metadata": {},
   "outputs": [
    {
     "ename": "KeyError",
     "evalue": "'pic'",
     "output_type": "error",
     "traceback": [
      "\u001b[0;31m---------------------------------------------------------------------------\u001b[0m",
      "\u001b[0;31mKeyError\u001b[0m                                  Traceback (most recent call last)",
      "Cell \u001b[0;32mIn[42], line 1\u001b[0m\n\u001b[0;32m----> 1\u001b[0m \u001b[38;5;28;01mif\u001b[39;00m \u001b[43mpost\u001b[49m\u001b[43m[\u001b[49m\u001b[38;5;241;43m0\u001b[39;49m\u001b[43m]\u001b[49m\u001b[43m[\u001b[49m\u001b[38;5;124;43m'\u001b[39;49m\u001b[38;5;124;43mpic\u001b[39;49m\u001b[38;5;124;43m'\u001b[39;49m\u001b[43m]\u001b[49m:\n\u001b[1;32m      2\u001b[0m     \u001b[38;5;28mprint\u001b[39m(\u001b[38;5;124m'\u001b[39m\u001b[38;5;124mpic found\u001b[39m\u001b[38;5;124m'\u001b[39m)\n\u001b[1;32m      3\u001b[0m \u001b[38;5;28;01melse\u001b[39;00m:\n",
      "\u001b[0;31mKeyError\u001b[0m: 'pic'"
     ]
    }
   ],
   "source": [
    "if post[0]['pic']:\n",
    "    print('pic found')\n",
    "else:\n",
    "    print('pic not found')"
   ]
  },
  {
   "cell_type": "code",
   "execution_count": 43,
   "id": "7c05310a-02ca-4b3f-a6fe-9e0487e2e10f",
   "metadata": {},
   "outputs": [
    {
     "data": {
      "text/plain": [
       "'base6434324234234343243423343423324232432432434sdfsrt3r23423'"
      ]
     },
     "execution_count": 43,
     "metadata": {},
     "output_type": "execute_result"
    }
   ],
   "source": [
    "post[1].get('pic', 0)"
   ]
  },
  {
   "cell_type": "code",
   "execution_count": null,
   "id": "26d0ced8-6a14-4aff-9178-13be68666565",
   "metadata": {},
   "outputs": [],
   "source": []
  },
  {
   "cell_type": "markdown",
   "id": "6bd4263d-3b34-4693-9a42-0a636a923a94",
   "metadata": {},
   "source": [
    "Keys in Dictionary \n",
    "- Numbers \n",
    "- Strings\n",
    "- Tuples"
   ]
  },
  {
   "cell_type": "code",
   "execution_count": 44,
   "id": "e893ac66-5280-4771-a61b-1d487a0f483d",
   "metadata": {},
   "outputs": [
    {
     "data": {
      "text/plain": [
       "{1: 'one', 2: 'two'}"
      ]
     },
     "execution_count": 44,
     "metadata": {},
     "output_type": "execute_result"
    }
   ],
   "source": [
    "num_dict = {1:'one',2:'two'}\n",
    "num_dict"
   ]
  },
  {
   "cell_type": "code",
   "execution_count": 45,
   "id": "ce879542-73ea-482a-8c3f-6520ab21d725",
   "metadata": {},
   "outputs": [
    {
     "data": {
      "text/plain": [
       "{'one': 'one', 'two': 'two'}"
      ]
     },
     "execution_count": 45,
     "metadata": {},
     "output_type": "execute_result"
    }
   ],
   "source": [
    "string_dict = {'one':'one','two':'two'}\n",
    "string_dict"
   ]
  },
  {
   "cell_type": "code",
   "execution_count": 46,
   "id": "506caa63-ee04-4f99-bb7e-d4f454184262",
   "metadata": {},
   "outputs": [
    {
     "data": {
      "text/plain": [
       "{('one',): 'one', ('two',): 'two'}"
      ]
     },
     "execution_count": 46,
     "metadata": {},
     "output_type": "execute_result"
    }
   ],
   "source": [
    "tuple_dict = {('one',):'one',('two',):'two'}\n",
    "tuple_dict"
   ]
  },
  {
   "cell_type": "code",
   "execution_count": 47,
   "id": "854d5a64-6587-4d1e-a84e-3e780137a6af",
   "metadata": {},
   "outputs": [
    {
     "ename": "TypeError",
     "evalue": "unhashable type: 'list'",
     "output_type": "error",
     "traceback": [
      "\u001b[0;31m---------------------------------------------------------------------------\u001b[0m",
      "\u001b[0;31mTypeError\u001b[0m                                 Traceback (most recent call last)",
      "Cell \u001b[0;32mIn[47], line 1\u001b[0m\n\u001b[0;32m----> 1\u001b[0m list_dict \u001b[38;5;241m=\u001b[39m {[\u001b[38;5;124m'\u001b[39m\u001b[38;5;124mone\u001b[39m\u001b[38;5;124m'\u001b[39m]:\u001b[38;5;124m'\u001b[39m\u001b[38;5;124mone\u001b[39m\u001b[38;5;124m'\u001b[39m, [\u001b[38;5;124m'\u001b[39m\u001b[38;5;124mtwo\u001b[39m\u001b[38;5;124m'\u001b[39m]:\u001b[38;5;124m'\u001b[39m\u001b[38;5;124mtwo\u001b[39m\u001b[38;5;124m'\u001b[39m}\n\u001b[1;32m      2\u001b[0m list_dict\n",
      "\u001b[0;31mTypeError\u001b[0m: unhashable type: 'list'"
     ]
    }
   ],
   "source": [
    "list_dict = {['one']:'one', ['two']:'two'}\n",
    "list_dict"
   ]
  },
  {
   "cell_type": "code",
   "execution_count": 48,
   "id": "e2fb1dc9-693a-4488-a71f-bb280180d599",
   "metadata": {},
   "outputs": [],
   "source": [
    "a = [1, 2,3,4,5,6,7]"
   ]
  },
  {
   "cell_type": "markdown",
   "id": "b1cd67b2-a869-48cd-92ae-31f0c9878d97",
   "metadata": {},
   "source": [
    "### NOTE: \n",
    "#### So from above example we can conclude that immutable objects can be used as keys\n",
    "- number, strings, tuples are immutable objects "
   ]
  },
  {
   "cell_type": "code",
   "execution_count": 49,
   "id": "4c5c9f5d-661e-494a-8f25-d231f83e3945",
   "metadata": {},
   "outputs": [
    {
     "data": {
      "text/plain": [
       "{'one': 3}"
      ]
     },
     "execution_count": 49,
     "metadata": {},
     "output_type": "execute_result"
    }
   ],
   "source": [
    "### Same key can be assign to multiple values but it does not apper in result\n",
    "\n",
    "exmple_dict = {'one':1,'one':2,'one':3}\n",
    "exmple_dict"
   ]
  },
  {
   "cell_type": "code",
   "execution_count": null,
   "id": "36126540-6564-4e77-8b73-570c52254f27",
   "metadata": {},
   "outputs": [],
   "source": []
  },
  {
   "cell_type": "code",
   "execution_count": null,
   "id": "f1776b50-8c81-4ce3-84a8-818f01b0633c",
   "metadata": {},
   "outputs": [],
   "source": []
  },
  {
   "cell_type": "markdown",
   "id": "747b9c8c-3e0d-4ab5-addd-274886e2eeec",
   "metadata": {},
   "source": [
    "#### Python Dictionary Operators"
   ]
  },
  {
   "cell_type": "code",
   "execution_count": 50,
   "id": "158aaad2-bd5d-4cbc-a86a-ebe842f1eb89",
   "metadata": {},
   "outputs": [],
   "source": [
    "d1 = {'one': 1, 'two': 2, 'three': 3}\n",
    "d2 = {'four': 4, 'five': 5, 'six': 6, 'one':5}"
   ]
  },
  {
   "cell_type": "code",
   "execution_count": 51,
   "id": "66c27416-32c5-4087-b687-1757243c2d0b",
   "metadata": {},
   "outputs": [
    {
     "data": {
      "text/plain": [
       "{'four': 4, 'five': 5, 'six': 6, 'one': 5}"
      ]
     },
     "execution_count": 51,
     "metadata": {},
     "output_type": "execute_result"
    }
   ],
   "source": [
    "d2"
   ]
  },
  {
   "cell_type": "code",
   "execution_count": 52,
   "id": "f65b4b1c-0275-4b16-8d9b-dcb7c8fedd9a",
   "metadata": {},
   "outputs": [
    {
     "data": {
      "text/plain": [
       "{'one': 5, 'two': 2, 'three': 3, 'four': 4, 'five': 5, 'six': 6}"
      ]
     },
     "execution_count": 52,
     "metadata": {},
     "output_type": "execute_result"
    }
   ],
   "source": [
    "# Union of two dictionary \n",
    "d1 | d2"
   ]
  },
  {
   "cell_type": "code",
   "execution_count": 53,
   "id": "dc5f7156-3d7c-4acc-86b2-8b228db3a0b1",
   "metadata": {},
   "outputs": [
    {
     "data": {
      "text/plain": [
       "{'four': 4, 'five': 5, 'six': 6, 'one': 1, 'two': 2, 'three': 3}"
      ]
     },
     "execution_count": 53,
     "metadata": {},
     "output_type": "execute_result"
    }
   ],
   "source": [
    "# Union of two dictionary \n",
    "d2 | d1"
   ]
  },
  {
   "cell_type": "code",
   "execution_count": 54,
   "id": "d1f1b0f9-27e0-45d8-8cba-0c1c58f9be55",
   "metadata": {},
   "outputs": [
    {
     "ename": "NameError",
     "evalue": "name 'd3' is not defined",
     "output_type": "error",
     "traceback": [
      "\u001b[0;31m---------------------------------------------------------------------------\u001b[0m",
      "\u001b[0;31mNameError\u001b[0m                                 Traceback (most recent call last)",
      "Cell \u001b[0;32mIn[54], line 1\u001b[0m\n\u001b[0;32m----> 1\u001b[0m \u001b[38;5;28mid\u001b[39m(d1),\u001b[38;5;28mid\u001b[39m(d2),\u001b[38;5;28mid\u001b[39m(\u001b[43md3\u001b[49m)\n",
      "\u001b[0;31mNameError\u001b[0m: name 'd3' is not defined"
     ]
    }
   ],
   "source": [
    "id(d1),id(d2),id(d3)"
   ]
  },
  {
   "cell_type": "code",
   "execution_count": 55,
   "id": "af17ade7-f591-4271-b7df-83887b5eeb33",
   "metadata": {},
   "outputs": [
    {
     "data": {
      "text/plain": [
       "1"
      ]
     },
     "execution_count": 55,
     "metadata": {},
     "output_type": "execute_result"
    }
   ],
   "source": [
    "# Extract/assign the value \n",
    "d1['one']"
   ]
  },
  {
   "cell_type": "code",
   "execution_count": 56,
   "id": "6a3ccc77-e203-422b-a3a7-2ad5791f9929",
   "metadata": {},
   "outputs": [],
   "source": [
    "d = dict(one=1,two=2)"
   ]
  },
  {
   "cell_type": "code",
   "execution_count": 57,
   "id": "aa0244ce-d868-4005-99c6-cd37aa8532c0",
   "metadata": {},
   "outputs": [
    {
     "data": {
      "text/plain": [
       "{'one': 1, 'two': 2}"
      ]
     },
     "execution_count": 57,
     "metadata": {},
     "output_type": "execute_result"
    }
   ],
   "source": [
    "d"
   ]
  },
  {
   "cell_type": "code",
   "execution_count": 58,
   "id": "e2454317-b687-44a6-aaac-18c0c0c40577",
   "metadata": {},
   "outputs": [],
   "source": [
    "d5 = {}"
   ]
  },
  {
   "cell_type": "code",
   "execution_count": 59,
   "id": "b2ec98fd-d8f8-4e78-81c6-eb1c192f4ec1",
   "metadata": {},
   "outputs": [],
   "source": [
    "d5['one'] = 1\n",
    "d5['two'] = 2"
   ]
  },
  {
   "cell_type": "code",
   "execution_count": 60,
   "id": "7b9ae1f6-367b-4a9a-a7c3-bfee3fdfed46",
   "metadata": {},
   "outputs": [
    {
     "data": {
      "text/plain": [
       "{'one': 1, 'two': 2, 'three': 3}"
      ]
     },
     "execution_count": 60,
     "metadata": {},
     "output_type": "execute_result"
    }
   ],
   "source": [
    "d1"
   ]
  },
  {
   "cell_type": "code",
   "execution_count": 61,
   "id": "db86446b-2b3b-4ec2-8885-9a0a01e37cd9",
   "metadata": {},
   "outputs": [],
   "source": [
    "d1['three'] = 33333"
   ]
  },
  {
   "cell_type": "code",
   "execution_count": 62,
   "id": "58a3e4ef-6af5-48a3-a0ca-f63309453261",
   "metadata": {},
   "outputs": [
    {
     "data": {
      "text/plain": [
       "{'one': 1, 'two': 2, 'three': 33333}"
      ]
     },
     "execution_count": 62,
     "metadata": {},
     "output_type": "execute_result"
    }
   ],
   "source": [
    "d1"
   ]
  },
  {
   "cell_type": "code",
   "execution_count": 63,
   "id": "27506be4-27f8-411b-a8d3-f8f5fe360f1a",
   "metadata": {},
   "outputs": [
    {
     "data": {
      "text/plain": [
       "{'one': 5, 'two': 2, 'three': 33333, 'four': 4, 'five': 5, 'six': 6}"
      ]
     },
     "execution_count": 63,
     "metadata": {},
     "output_type": "execute_result"
    }
   ],
   "source": [
    "d1 | d2"
   ]
  },
  {
   "cell_type": "code",
   "execution_count": 64,
   "id": "bdecfd57-074b-4b88-b01a-6bb508444090",
   "metadata": {},
   "outputs": [],
   "source": [
    "# Augmented dictionary \n",
    "d1 |= d2"
   ]
  },
  {
   "cell_type": "code",
   "execution_count": 65,
   "id": "ed41713f-f13b-44ae-9b08-160a21786823",
   "metadata": {},
   "outputs": [
    {
     "data": {
      "text/plain": [
       "{'four': 4, 'five': 5, 'six': 6, 'one': 5}"
      ]
     },
     "execution_count": 65,
     "metadata": {},
     "output_type": "execute_result"
    }
   ],
   "source": [
    "d2"
   ]
  },
  {
   "cell_type": "code",
   "execution_count": 66,
   "id": "59d3b3da-67a3-4c06-b2ad-c70ac55a3848",
   "metadata": {},
   "outputs": [
    {
     "data": {
      "text/plain": [
       "{'one': 5, 'two': 2, 'three': 33333, 'four': 4, 'five': 5, 'six': 6}"
      ]
     },
     "execution_count": 66,
     "metadata": {},
     "output_type": "execute_result"
    }
   ],
   "source": [
    "d1"
   ]
  },
  {
   "cell_type": "code",
   "execution_count": 67,
   "id": "ba806120-cde0-4b4a-9554-372e89c5377b",
   "metadata": {},
   "outputs": [],
   "source": [
    "a = 1"
   ]
  },
  {
   "cell_type": "code",
   "execution_count": 68,
   "id": "9ca8406a-f728-4b19-b390-359c3117fea3",
   "metadata": {},
   "outputs": [],
   "source": [
    "a += 12"
   ]
  },
  {
   "cell_type": "code",
   "execution_count": 69,
   "id": "3956821e-482f-48ca-9c1d-4f3bd9a697dd",
   "metadata": {},
   "outputs": [
    {
     "data": {
      "text/plain": [
       "13"
      ]
     },
     "execution_count": 69,
     "metadata": {},
     "output_type": "execute_result"
    }
   ],
   "source": [
    "a"
   ]
  },
  {
   "cell_type": "code",
   "execution_count": 70,
   "id": "055b7906-b95a-4f52-a988-64d5be66b9c7",
   "metadata": {},
   "outputs": [
    {
     "data": {
      "text/plain": [
       "{'one': 5, 'two': 2, 'three': 33333, 'four': 4, 'five': 5, 'six': 6}"
      ]
     },
     "execution_count": 70,
     "metadata": {},
     "output_type": "execute_result"
    }
   ],
   "source": [
    "d1"
   ]
  },
  {
   "cell_type": "code",
   "execution_count": 71,
   "id": "f664684d-579c-4933-b791-9356dfa43bd6",
   "metadata": {},
   "outputs": [
    {
     "data": {
      "text/plain": [
       "4400973056"
      ]
     },
     "execution_count": 71,
     "metadata": {},
     "output_type": "execute_result"
    }
   ],
   "source": [
    "id(d1)  # 4370592256"
   ]
  },
  {
   "cell_type": "code",
   "execution_count": 72,
   "id": "83fe5126-2967-4c02-9c43-5463ee70afa7",
   "metadata": {},
   "outputs": [
    {
     "data": {
      "text/plain": [
       "{'one': 5, 'two': 2, 'three': 33333, 'four': 4, 'five': 5, 'six': 6}"
      ]
     },
     "execution_count": 72,
     "metadata": {},
     "output_type": "execute_result"
    }
   ],
   "source": [
    "d1"
   ]
  },
  {
   "cell_type": "code",
   "execution_count": 73,
   "id": "fb9e570e-b97a-4956-9083-7bc661ef0665",
   "metadata": {},
   "outputs": [],
   "source": [
    "a = 1"
   ]
  },
  {
   "cell_type": "code",
   "execution_count": 74,
   "id": "01e97ebc-1434-49b8-ab47-9aad53a94534",
   "metadata": {},
   "outputs": [],
   "source": [
    "b = 2"
   ]
  },
  {
   "cell_type": "code",
   "execution_count": 75,
   "id": "fc22246b-bddb-4d8e-ac7b-8be353fdc6da",
   "metadata": {},
   "outputs": [],
   "source": [
    "a += b"
   ]
  },
  {
   "cell_type": "code",
   "execution_count": 76,
   "id": "55833e6e-45f3-4afd-b06a-52d94ccf9a64",
   "metadata": {},
   "outputs": [
    {
     "data": {
      "text/plain": [
       "3"
      ]
     },
     "execution_count": 76,
     "metadata": {},
     "output_type": "execute_result"
    }
   ],
   "source": [
    "a"
   ]
  },
  {
   "cell_type": "markdown",
   "id": "8e5255cb-c5e4-4132-93b6-e97a38450b59",
   "metadata": {},
   "source": [
    "# Access Dictionary Items"
   ]
  },
  {
   "cell_type": "markdown",
   "id": "b77f4386-f0c1-4760-8e4f-e620fa93061f",
   "metadata": {},
   "source": [
    "### Using the \"[ ]\" Operator"
   ]
  },
  {
   "cell_type": "code",
   "execution_count": 77,
   "id": "4ac98bc0-2ce5-4b8f-b647-7e36d58c8ddb",
   "metadata": {},
   "outputs": [
    {
     "data": {
      "text/plain": [
       "{'batman': 'Bruce Wayne',\n",
       " 'flash': 'Berry Allan',\n",
       " 'superman': 'Clark Kent',\n",
       " 'wonder women': 'Diana Prince',\n",
       " 'cyborg': 'Victor Stone'}"
      ]
     },
     "execution_count": 77,
     "metadata": {},
     "output_type": "execute_result"
    }
   ],
   "source": [
    "superhero"
   ]
  },
  {
   "cell_type": "code",
   "execution_count": 78,
   "id": "163918c2-764d-4278-b701-5f60795607a7",
   "metadata": {},
   "outputs": [
    {
     "data": {
      "text/plain": [
       "'Bruce Wayne'"
      ]
     },
     "execution_count": 78,
     "metadata": {},
     "output_type": "execute_result"
    }
   ],
   "source": [
    "superhero['batman']"
   ]
  },
  {
   "cell_type": "code",
   "execution_count": 79,
   "id": "7e60cd11-6703-4ebc-843e-a744eb3187fb",
   "metadata": {},
   "outputs": [
    {
     "name": "stdout",
     "output_type": "stream",
     "text": [
      "Batman aka Bruce Wayne is from Gotham\n"
     ]
    }
   ],
   "source": [
    "print(f\"Batman aka {superhero['batman']} is from Gotham\") "
   ]
  },
  {
   "cell_type": "code",
   "execution_count": 80,
   "id": "c191512b-b526-4870-ba95-e681fce0aed9",
   "metadata": {},
   "outputs": [
    {
     "ename": "KeyError",
     "evalue": "'BATMAN'",
     "output_type": "error",
     "traceback": [
      "\u001b[0;31m---------------------------------------------------------------------------\u001b[0m",
      "\u001b[0;31mKeyError\u001b[0m                                  Traceback (most recent call last)",
      "Cell \u001b[0;32mIn[80], line 1\u001b[0m\n\u001b[0;32m----> 1\u001b[0m \u001b[43msuperhero\u001b[49m\u001b[43m[\u001b[49m\u001b[38;5;124;43m'\u001b[39;49m\u001b[38;5;124;43mBATMAN\u001b[39;49m\u001b[38;5;124;43m'\u001b[39;49m\u001b[43m]\u001b[49m\n",
      "\u001b[0;31mKeyError\u001b[0m: 'BATMAN'"
     ]
    }
   ],
   "source": [
    "superhero['BATMAN']"
   ]
  },
  {
   "cell_type": "markdown",
   "id": "1857effb-b13e-46ce-8556-7daabc6a5f5e",
   "metadata": {},
   "source": [
    "### Using the get() Method"
   ]
  },
  {
   "cell_type": "code",
   "execution_count": 81,
   "id": "8e57f29d-c8e0-49ed-8b5a-aca6567bd187",
   "metadata": {},
   "outputs": [
    {
     "data": {
      "text/plain": [
       "'Clark Kent'"
      ]
     },
     "execution_count": 81,
     "metadata": {},
     "output_type": "execute_result"
    }
   ],
   "source": [
    "superhero.get('superman')"
   ]
  },
  {
   "cell_type": "code",
   "execution_count": 82,
   "id": "b109c128-088c-4abb-80b2-5d934d036fae",
   "metadata": {},
   "outputs": [],
   "source": [
    "superhero.get('shazam')"
   ]
  },
  {
   "cell_type": "code",
   "execution_count": 83,
   "id": "eee8eab0-936c-4b10-87c8-90029dd7a351",
   "metadata": {},
   "outputs": [
    {
     "data": {
      "text/plain": [
       "0"
      ]
     },
     "execution_count": 83,
     "metadata": {},
     "output_type": "execute_result"
    }
   ],
   "source": [
    "superhero.get('shazam',0)"
   ]
  },
  {
   "cell_type": "code",
   "execution_count": 84,
   "id": "5067efdd-a79a-4c4b-80c1-f1cb41f292f2",
   "metadata": {},
   "outputs": [
    {
     "data": {
      "text/plain": [
       "'NOTFOUND'"
      ]
     },
     "execution_count": 84,
     "metadata": {},
     "output_type": "execute_result"
    }
   ],
   "source": [
    "superhero.get('shazam','NOTFOUND')"
   ]
  },
  {
   "cell_type": "code",
   "execution_count": 85,
   "id": "c3576030-59e0-42d7-bfad-33d2de082179",
   "metadata": {},
   "outputs": [
    {
     "data": {
      "text/plain": [
       "'Clark Kent'"
      ]
     },
     "execution_count": 85,
     "metadata": {},
     "output_type": "execute_result"
    }
   ],
   "source": [
    "superhero.get('superman','NOTFOUND')"
   ]
  },
  {
   "cell_type": "markdown",
   "id": "378c23a9-aa49-4746-94d0-c51d19f52323",
   "metadata": {},
   "source": [
    "### NOTE: \n",
    "#### Unlike the \"[]\" operator, the get() method doesn't raise error if the key is not found; it return None."
   ]
  },
  {
   "cell_type": "code",
   "execution_count": null,
   "id": "5a36f73e-08bb-4d0b-b8b4-261d7674de13",
   "metadata": {},
   "outputs": [],
   "source": []
  },
  {
   "cell_type": "markdown",
   "id": "0688029f-dc76-4697-b3c8-e594eb290d88",
   "metadata": {},
   "source": [
    "# Change Dictionary Items"
   ]
  },
  {
   "cell_type": "code",
   "execution_count": 86,
   "id": "65aae802-8aae-4612-988e-3e82e80a6818",
   "metadata": {},
   "outputs": [
    {
     "name": "stdout",
     "output_type": "stream",
     "text": [
      "d1:  {}\n",
      "d2:  {}\n"
     ]
    }
   ],
   "source": [
    "# Empty Dictionary \n",
    "d1 = dict()\n",
    "d2 = {}\n",
    "print ('d1: ', d1)\n",
    "print ('d2: ', d2)"
   ]
  },
  {
   "cell_type": "markdown",
   "id": "88e7414e-e232-4569-8557-a5e889a0aaae",
   "metadata": {},
   "source": [
    "### Dictionary from List of Tuples"
   ]
  },
  {
   "cell_type": "code",
   "execution_count": 87,
   "id": "843672c7-55a8-4d9c-8852-d709706146da",
   "metadata": {},
   "outputs": [],
   "source": [
    "tuple1 = (1,'one')\n",
    "tuple2 = (2,'two')\n",
    "\n",
    "d1 = dict([tuple1,tuple2])"
   ]
  },
  {
   "cell_type": "code",
   "execution_count": 88,
   "id": "21aa3efe-d889-4071-b160-8771e07b7eb7",
   "metadata": {},
   "outputs": [
    {
     "data": {
      "text/plain": [
       "{1: 'one', 2: 'two'}"
      ]
     },
     "execution_count": 88,
     "metadata": {},
     "output_type": "execute_result"
    }
   ],
   "source": [
    "d1"
   ]
  },
  {
   "cell_type": "code",
   "execution_count": 89,
   "id": "48970b20-f83b-497b-a32d-9f02a2816ef6",
   "metadata": {},
   "outputs": [
    {
     "data": {
      "text/plain": [
       "{'seven': 11, 1: 'one', 9: 'nine'}"
      ]
     },
     "execution_count": 89,
     "metadata": {},
     "output_type": "execute_result"
    }
   ],
   "source": [
    "dict(({'seven',11},{1,'one'},{9,'nine'}))"
   ]
  },
  {
   "cell_type": "markdown",
   "id": "708a34bc-9636-4e7d-ac95-73a0e9dbb598",
   "metadata": {},
   "source": [
    "### Dictionary from Keyword Arguments"
   ]
  },
  {
   "cell_type": "code",
   "execution_count": 90,
   "id": "dead9c08-28bd-4bed-bd99-8fe06677b963",
   "metadata": {},
   "outputs": [
    {
     "data": {
      "text/plain": [
       "{'a': 100, 'b': 200, 'c': 400, 'd': 'any of keyword args'}"
      ]
     },
     "execution_count": 90,
     "metadata": {},
     "output_type": "execute_result"
    }
   ],
   "source": [
    "d1 = dict(a=100,b=200,c=400,d='any of keyword args')\n",
    "d1"
   ]
  },
  {
   "cell_type": "code",
   "execution_count": 91,
   "id": "0c5b9894-e663-4bdd-bf9f-4223406fd0ac",
   "metadata": {},
   "outputs": [
    {
     "data": {
      "text/plain": [
       "{'a': 100, 'b': 200, 'c': 300}"
      ]
     },
     "execution_count": 91,
     "metadata": {},
     "output_type": "execute_result"
    }
   ],
   "source": [
    "dict(a=100,b=200,c=300)"
   ]
  },
  {
   "cell_type": "markdown",
   "id": "013ccda2-306b-4aa7-80b3-2fc7ee9525a5",
   "metadata": {},
   "source": [
    "# Add Dictionary Items"
   ]
  },
  {
   "cell_type": "markdown",
   "id": "b6862483-c7e8-4aed-b3ab-d0b9d12a0c54",
   "metadata": {},
   "source": [
    "### Using [] the Operator"
   ]
  },
  {
   "cell_type": "code",
   "execution_count": 92,
   "id": "8357c765-a3cb-4976-9572-6fc6191442c8",
   "metadata": {},
   "outputs": [
    {
     "data": {
      "text/plain": [
       "{'a': 100, 'b': 200, 'c': 400, 'd': 'any of keyword args'}"
      ]
     },
     "execution_count": 92,
     "metadata": {},
     "output_type": "execute_result"
    }
   ],
   "source": [
    "d1"
   ]
  },
  {
   "cell_type": "code",
   "execution_count": 93,
   "id": "bc9d2c87-15cb-4368-830e-0fdb3947f6ab",
   "metadata": {},
   "outputs": [],
   "source": [
    "d1['e'] = 700"
   ]
  },
  {
   "cell_type": "code",
   "execution_count": 94,
   "id": "448b827b-d27a-44a2-ac8c-8e16704186b1",
   "metadata": {},
   "outputs": [],
   "source": [
    "d1['f'] = 1000"
   ]
  },
  {
   "cell_type": "code",
   "execution_count": 95,
   "id": "f8f33de7-50c3-4ddd-9145-390ca0f79f95",
   "metadata": {},
   "outputs": [
    {
     "data": {
      "text/plain": [
       "{'a': 100, 'b': 200, 'c': 400, 'd': 'any of keyword args', 'e': 700, 'f': 1000}"
      ]
     },
     "execution_count": 95,
     "metadata": {},
     "output_type": "execute_result"
    }
   ],
   "source": [
    "d1"
   ]
  },
  {
   "cell_type": "markdown",
   "id": "eaa9b550-1afb-42f9-b59b-2fc87dec13b8",
   "metadata": {},
   "source": [
    "### Using the update() Method\n",
    "\n",
    "- update method argument is only dict"
   ]
  },
  {
   "cell_type": "code",
   "execution_count": 96,
   "id": "7c05f181-f327-44bd-980b-3e893cf425df",
   "metadata": {},
   "outputs": [],
   "source": [
    "d2 = {2:'d2'}\n",
    "d1 = {1: 'd1'}"
   ]
  },
  {
   "cell_type": "code",
   "execution_count": 97,
   "id": "699daf40-b1e8-441f-bc93-c4a560a5f724",
   "metadata": {},
   "outputs": [
    {
     "data": {
      "text/plain": [
       "{1: 'd1'}"
      ]
     },
     "execution_count": 97,
     "metadata": {},
     "output_type": "execute_result"
    }
   ],
   "source": [
    "d1"
   ]
  },
  {
   "cell_type": "code",
   "execution_count": 98,
   "id": "ec2f3d66-dac6-4c3c-89b8-4dd2ce8e2e68",
   "metadata": {},
   "outputs": [
    {
     "data": {
      "text/plain": [
       "{2: 'd2'}"
      ]
     },
     "execution_count": 98,
     "metadata": {},
     "output_type": "execute_result"
    }
   ],
   "source": [
    "d2"
   ]
  },
  {
   "cell_type": "code",
   "execution_count": 99,
   "id": "8a017a13-aea6-4946-842d-fedb2eea60a0",
   "metadata": {},
   "outputs": [],
   "source": [
    "d1.update(d2)"
   ]
  },
  {
   "cell_type": "code",
   "execution_count": 100,
   "id": "a81f274b-da14-4199-b02a-9a5073d6eb58",
   "metadata": {},
   "outputs": [
    {
     "data": {
      "text/plain": [
       "{1: 'd1', 2: 'd2'}"
      ]
     },
     "execution_count": 100,
     "metadata": {},
     "output_type": "execute_result"
    }
   ],
   "source": [
    "d1"
   ]
  },
  {
   "cell_type": "code",
   "execution_count": 101,
   "id": "45764f59-e798-4c2c-b422-c08ec5829675",
   "metadata": {},
   "outputs": [
    {
     "data": {
      "text/plain": [
       "{2: 'd2'}"
      ]
     },
     "execution_count": 101,
     "metadata": {},
     "output_type": "execute_result"
    }
   ],
   "source": [
    "d2"
   ]
  },
  {
   "cell_type": "markdown",
   "id": "e49da15c-7807-4c58-8bce-f66d9eec11ea",
   "metadata": {},
   "source": [
    "### Update with Iterable"
   ]
  },
  {
   "cell_type": "code",
   "execution_count": 102,
   "id": "69921d12-a986-48c0-a536-6f4e152ee841",
   "metadata": {},
   "outputs": [],
   "source": [
    "d1.update([[4,'four'],(5,'five')])"
   ]
  },
  {
   "cell_type": "code",
   "execution_count": 103,
   "id": "19ab87e6-b26e-42cf-9481-cb9a98e707b2",
   "metadata": {},
   "outputs": [],
   "source": [
    "d1[5] = 5"
   ]
  },
  {
   "cell_type": "code",
   "execution_count": 104,
   "id": "2fb6e4b8-6eaa-4e8c-a3f2-94f86350daa4",
   "metadata": {},
   "outputs": [
    {
     "data": {
      "text/plain": [
       "{1: 'd1', 2: 'd2', 4: 'four', 5: 5}"
      ]
     },
     "execution_count": 104,
     "metadata": {},
     "output_type": "execute_result"
    }
   ],
   "source": [
    "d1"
   ]
  },
  {
   "cell_type": "markdown",
   "id": "2826d17d-4b1a-4bb9-9fec-6825528b3a31",
   "metadata": {},
   "source": [
    "### Update with Keyword Arguments"
   ]
  },
  {
   "cell_type": "code",
   "execution_count": 105,
   "id": "5b194543-e71a-49b7-9fda-03dd8e1ac0d6",
   "metadata": {},
   "outputs": [],
   "source": [
    "six = 10\n",
    "seven= 200"
   ]
  },
  {
   "cell_type": "code",
   "execution_count": 106,
   "id": "7881d53c-378a-4728-b7a1-b4dbb80cf0a0",
   "metadata": {},
   "outputs": [],
   "source": [
    "d1.update([[6,six],[7,seven]])"
   ]
  },
  {
   "cell_type": "code",
   "execution_count": 107,
   "id": "5389bdea-5560-4f7a-bfd7-780c948e9d4b",
   "metadata": {},
   "outputs": [
    {
     "data": {
      "text/plain": [
       "{1: 'd1', 2: 'd2', 4: 'four', 5: 5, 6: 10, 7: 200}"
      ]
     },
     "execution_count": 107,
     "metadata": {},
     "output_type": "execute_result"
    }
   ],
   "source": [
    "d1"
   ]
  },
  {
   "cell_type": "code",
   "execution_count": 108,
   "id": "0a1f339a-00f6-4987-a716-f123690928cf",
   "metadata": {},
   "outputs": [],
   "source": [
    "d1.update(six=6,seven=7)"
   ]
  },
  {
   "cell_type": "code",
   "execution_count": 109,
   "id": "284d98fa-54a6-4189-ae81-2040e70dc770",
   "metadata": {},
   "outputs": [
    {
     "data": {
      "text/plain": [
       "{1: 'd1', 2: 'd2', 4: 'four', 5: 5, 6: 10, 7: 200, 'six': 6, 'seven': 7}"
      ]
     },
     "execution_count": 109,
     "metadata": {},
     "output_type": "execute_result"
    }
   ],
   "source": [
    "d1"
   ]
  },
  {
   "cell_type": "markdown",
   "id": "537edb5f-76ff-47e0-b58f-ac09eca2d17b",
   "metadata": {},
   "source": [
    "### Using the Unpack Operator"
   ]
  },
  {
   "cell_type": "code",
   "execution_count": 110,
   "id": "de63f526-ec9b-409e-853a-0b1ea8e3124e",
   "metadata": {},
   "outputs": [
    {
     "data": {
      "text/plain": [
       "{1: 'd1', 2: 'd2', 4: 'four', 5: 5, 6: 10, 7: 200, 'six': 6, 'seven': 7}"
      ]
     },
     "execution_count": 110,
     "metadata": {},
     "output_type": "execute_result"
    }
   ],
   "source": [
    "d1"
   ]
  },
  {
   "cell_type": "code",
   "execution_count": 111,
   "id": "bc358f23-2bfb-461f-a5e7-042376519254",
   "metadata": {},
   "outputs": [
    {
     "data": {
      "text/plain": [
       "{'batman': 'Bruce Wayne',\n",
       " 'flash': 'Berry Allan',\n",
       " 'superman': 'Clark Kent',\n",
       " 'wonder women': 'Diana Prince',\n",
       " 'cyborg': 'Victor Stone'}"
      ]
     },
     "execution_count": 111,
     "metadata": {},
     "output_type": "execute_result"
    }
   ],
   "source": [
    "superhero"
   ]
  },
  {
   "cell_type": "code",
   "execution_count": 112,
   "id": "93facf7e-8e2b-4150-811a-c962896ecd71",
   "metadata": {},
   "outputs": [
    {
     "data": {
      "text/plain": [
       "{1: 'd1',\n",
       " 2: 'd2',\n",
       " 4: 'four',\n",
       " 5: 5,\n",
       " 6: 10,\n",
       " 7: 200,\n",
       " 'six': 6,\n",
       " 'seven': 7,\n",
       " 'batman': 'Bruce Wayne',\n",
       " 'flash': 'Berry Allan',\n",
       " 'superman': 'Clark Kent',\n",
       " 'wonder women': 'Diana Prince',\n",
       " 'cyborg': 'Victor Stone'}"
      ]
     },
     "execution_count": 112,
     "metadata": {},
     "output_type": "execute_result"
    }
   ],
   "source": [
    "d1 | superhero"
   ]
  },
  {
   "cell_type": "code",
   "execution_count": 113,
   "id": "95f5012e-329a-475f-8c49-96daf25b9866",
   "metadata": {},
   "outputs": [
    {
     "data": {
      "text/plain": [
       "{1: 'd1',\n",
       " 2: 'd2',\n",
       " 4: 'four',\n",
       " 5: 5,\n",
       " 6: 10,\n",
       " 7: 200,\n",
       " 'six': 6,\n",
       " 'seven': 7,\n",
       " 'batman': 'Bruce Wayne',\n",
       " 'flash': 'Berry Allan',\n",
       " 'superman': 'Clark Kent',\n",
       " 'wonder women': 'Diana Prince',\n",
       " 'cyborg': 'Victor Stone'}"
      ]
     },
     "execution_count": 113,
     "metadata": {},
     "output_type": "execute_result"
    }
   ],
   "source": [
    "{**d1, **superhero}"
   ]
  },
  {
   "cell_type": "code",
   "execution_count": 114,
   "id": "b2761798-09de-4b4a-9f54-afc34e4df8da",
   "metadata": {},
   "outputs": [
    {
     "ename": "TypeError",
     "evalue": "unhashable type: 'dict'",
     "output_type": "error",
     "traceback": [
      "\u001b[0;31m---------------------------------------------------------------------------\u001b[0m",
      "\u001b[0;31mTypeError\u001b[0m                                 Traceback (most recent call last)",
      "Cell \u001b[0;32mIn[114], line 1\u001b[0m\n\u001b[0;32m----> 1\u001b[0m {superhero, d1}\n",
      "\u001b[0;31mTypeError\u001b[0m: unhashable type: 'dict'"
     ]
    }
   ],
   "source": [
    "{superhero, d1}"
   ]
  },
  {
   "cell_type": "markdown",
   "id": "f2bf7a11-e179-48a3-8173-ff7ad2c02760",
   "metadata": {},
   "source": [
    "### Using the Union Operator (|)"
   ]
  },
  {
   "cell_type": "code",
   "execution_count": 115,
   "id": "0ee1e491-7ebb-4d3a-be3e-390515aded0a",
   "metadata": {},
   "outputs": [
    {
     "data": {
      "text/plain": [
       "{1: 'd1',\n",
       " 2: 'd2',\n",
       " 4: 'four',\n",
       " 5: 5,\n",
       " 6: 10,\n",
       " 7: 200,\n",
       " 'six': 6,\n",
       " 'seven': 7,\n",
       " 'batman': 'Bruce Wayne',\n",
       " 'flash': 'Berry Allan',\n",
       " 'superman': 'Clark Kent',\n",
       " 'wonder women': 'Diana Prince',\n",
       " 'cyborg': 'Victor Stone'}"
      ]
     },
     "execution_count": 115,
     "metadata": {},
     "output_type": "execute_result"
    }
   ],
   "source": [
    "d1 | superhero"
   ]
  },
  {
   "cell_type": "code",
   "execution_count": null,
   "id": "ed2cd3e7-0f5a-4bd3-beb9-21df0fae0af3",
   "metadata": {},
   "outputs": [],
   "source": []
  },
  {
   "cell_type": "markdown",
   "id": "84ac1e9b-563a-4d96-b87e-57f4d514e582",
   "metadata": {},
   "source": [
    "#  Nested Dictionaries"
   ]
  },
  {
   "cell_type": "code",
   "execution_count": 121,
   "id": "f80f009f-9474-4962-b6e0-ca51eea9bee4",
   "metadata": {},
   "outputs": [
    {
     "data": {
      "text/plain": [
       "{'laal': {'physics': 56, 'chemistry': 92, 'mathematics': 98},\n",
       " 'baal': {'physics': 78, 'chemistry': 45, 'mathematics': 78},\n",
       " 'paal': {'physics': 100, 'chemistry': 100, 'biology': 100}}"
      ]
     },
     "execution_count": 121,
     "metadata": {},
     "output_type": "execute_result"
    }
   ],
   "source": [
    "marks = {\n",
    "    'laal': {'physics':56,'chemistry':92,'mathematics':98},\n",
    "    'baal': {\n",
    "        'physics':78,\n",
    "        'chemistry':45,\n",
    "        'mathematics':78\n",
    "    },\n",
    "    'paal': {'physics':100,'chemistry':100,'biology':100}\n",
    "}\n",
    "marks"
   ]
  },
  {
   "cell_type": "code",
   "execution_count": 122,
   "id": "833edd31-dbc8-4e63-917a-82d9e475a394",
   "metadata": {},
   "outputs": [
    {
     "name": "stdout",
     "output_type": "stream",
     "text": [
      "laal  mark summary :  {'physics': 56, 'chemistry': 92, 'mathematics': 98}\n",
      "baal  mark summary :  {'physics': 78, 'chemistry': 45, 'mathematics': 78}\n",
      "paal  mark summary :  {'physics': 100, 'chemistry': 100, 'biology': 100}\n"
     ]
    }
   ],
   "source": [
    "for key,values in marks.items():\n",
    "    print(key, ' mark summary : ', values)"
   ]
  },
  {
   "cell_type": "code",
   "execution_count": null,
   "id": "43164660-06e6-4a76-a32b-a6aa50c38bf1",
   "metadata": {},
   "outputs": [],
   "source": []
  },
  {
   "cell_type": "code",
   "execution_count": 124,
   "id": "364a7a12-11a5-4a99-a331-79f833f72e16",
   "metadata": {},
   "outputs": [
    {
     "name": "stdout",
     "output_type": "stream",
     "text": [
      "laal  mark summary :  98\n",
      "baal  mark summary :  78\n",
      "paal  mark summary :  NA\n"
     ]
    }
   ],
   "source": [
    "# What if we are intrested in math subject only\n",
    "for key,values in marks.items():\n",
    "    print(key, ' mark summary : ', values.get('mathematics','NA'))"
   ]
  },
  {
   "cell_type": "code",
   "execution_count": 125,
   "id": "7c4558a1-46a9-4958-9b22-210967ab41ea",
   "metadata": {},
   "outputs": [
    {
     "name": "stdout",
     "output_type": "stream",
     "text": [
      "laal  mark summary :  98\n",
      "baal  mark summary :  78\n"
     ]
    },
    {
     "ename": "KeyError",
     "evalue": "'mathematics'",
     "output_type": "error",
     "traceback": [
      "\u001b[0;31m---------------------------------------------------------------------------\u001b[0m",
      "\u001b[0;31mKeyError\u001b[0m                                  Traceback (most recent call last)",
      "Cell \u001b[0;32mIn[125], line 3\u001b[0m\n\u001b[1;32m      1\u001b[0m \u001b[38;5;66;03m# What if we are intrested in math subject only\u001b[39;00m\n\u001b[1;32m      2\u001b[0m \u001b[38;5;28;01mfor\u001b[39;00m key,values \u001b[38;5;129;01min\u001b[39;00m marks\u001b[38;5;241m.\u001b[39mitems():\n\u001b[0;32m----> 3\u001b[0m     \u001b[38;5;28mprint\u001b[39m(key, \u001b[38;5;124m'\u001b[39m\u001b[38;5;124m mark summary : \u001b[39m\u001b[38;5;124m'\u001b[39m, \u001b[43mvalues\u001b[49m\u001b[43m[\u001b[49m\u001b[38;5;124;43m'\u001b[39;49m\u001b[38;5;124;43mmathematics\u001b[39;49m\u001b[38;5;124;43m'\u001b[39;49m\u001b[43m]\u001b[49m)\n",
      "\u001b[0;31mKeyError\u001b[0m: 'mathematics'"
     ]
    }
   ],
   "source": [
    "# What if we are intrested in math subject only\n",
    "for key,values in marks.items():\n",
    "    print(key, ' mark summary : ', values['mathematics'])"
   ]
  },
  {
   "cell_type": "code",
   "execution_count": 127,
   "id": "0cae8db8-aec5-446e-8e7e-a1efa1c07f80",
   "metadata": {},
   "outputs": [
    {
     "name": "stdout",
     "output_type": "stream",
     "text": [
      "laal  mark summary :  246\n",
      "baal  mark summary :  201\n",
      "paal  mark summary :  200\n"
     ]
    }
   ],
   "source": [
    "# If you intersted in PCM group \n",
    "for key,values in marks.items():\n",
    "    print(key, ' mark summary : ', \n",
    "        values.get('physics') + values.get('chemistry') + values.get('mathematics',0))"
   ]
  },
  {
   "cell_type": "code",
   "execution_count": null,
   "id": "e2a5bb62-d8eb-41cd-a7bd-7f259bf57fde",
   "metadata": {},
   "outputs": [],
   "source": []
  },
  {
   "cell_type": "code",
   "execution_count": 128,
   "id": "8f6dcd51-6387-4321-8c5c-11e714eb4a58",
   "metadata": {},
   "outputs": [],
   "source": [
    "d = {'name': 'codelocked', 'age':1}"
   ]
  },
  {
   "cell_type": "code",
   "execution_count": 130,
   "id": "6f39c3b5-2f73-45f5-bf5f-4aef2f237c81",
   "metadata": {},
   "outputs": [
    {
     "name": "stdout",
     "output_type": "stream",
     "text": [
      "End Len : 2\n"
     ]
    }
   ],
   "source": [
    "print(\"End Len : %d\" % len(d))"
   ]
  },
  {
   "cell_type": "code",
   "execution_count": 131,
   "id": "46a3e406-7d63-4806-9777-98b39461f033",
   "metadata": {},
   "outputs": [
    {
     "name": "stdout",
     "output_type": "stream",
     "text": [
      "End Len : 0\n"
     ]
    }
   ],
   "source": [
    "d.clear()\n",
    "print(\"End Len : %d\" % len(d))"
   ]
  },
  {
   "cell_type": "code",
   "execution_count": 132,
   "id": "3a53ef9e-9000-4179-b759-b038a35b9165",
   "metadata": {},
   "outputs": [
    {
     "data": {
      "text/plain": [
       "{}"
      ]
     },
     "execution_count": 132,
     "metadata": {},
     "output_type": "execute_result"
    }
   ],
   "source": [
    "d"
   ]
  },
  {
   "cell_type": "code",
   "execution_count": 133,
   "id": "4f2baf66-4289-4344-9047-177011647eea",
   "metadata": {},
   "outputs": [
    {
     "data": {
      "text/plain": [
       "{'name': ['codelocked', 1, 'pune'],\n",
       " 'age': ['codelocked', 1, 'pune'],\n",
       " 'city': ['codelocked', 1, 'pune']}"
      ]
     },
     "execution_count": 133,
     "metadata": {},
     "output_type": "execute_result"
    }
   ],
   "source": [
    "d.fromkeys(['name','age','city'],['codelocked',1,'pune'])"
   ]
  },
  {
   "cell_type": "code",
   "execution_count": 134,
   "id": "8494f5d4-6091-4c79-9999-d0eca537c9d7",
   "metadata": {},
   "outputs": [
    {
     "data": {
      "text/plain": [
       "{'name': None, 'age': None, 'city': None}"
      ]
     },
     "execution_count": 134,
     "metadata": {},
     "output_type": "execute_result"
    }
   ],
   "source": [
    "d.fromkeys(['name','age','city'])"
   ]
  },
  {
   "cell_type": "code",
   "execution_count": 135,
   "id": "143546f2-d80b-4208-94ee-158f93c69875",
   "metadata": {},
   "outputs": [
    {
     "data": {
      "text/plain": [
       "{'name': 10000, 'age': 10000, 'city': 10000}"
      ]
     },
     "execution_count": 135,
     "metadata": {},
     "output_type": "execute_result"
    }
   ],
   "source": [
    "d.fromkeys(['name','age','city'],10000)"
   ]
  },
  {
   "cell_type": "markdown",
   "id": "bfccd41c-abcc-44b1-b681-11980317fd43",
   "metadata": {},
   "source": [
    "### Important Methods\n",
    "\n",
    "`copy()`"
   ]
  },
  {
   "cell_type": "code",
   "execution_count": null,
   "id": "ef8f9d2e-de53-4764-b29f-d73ae9a7e375",
   "metadata": {},
   "outputs": [],
   "source": [
    "superhero = {'dc': {\n",
    "        'Batman': 'Bruce Wayne',\n",
    "        'flash': 'Berry Allan',\n",
    "        'superman': 'Clark Kent',\n",
    "        'Wonder Women': 'Diana Prince',\n",
    "        'cyborg': 'Victor Stone'\n",
    "},\n",
    "             'Marvel': { \n",
    "                 'ironman':'Tonny Stark',\n",
    "                 'hulk':'Bruce Banner',\n",
    "                 'spiderman':'Peter Parker'\n",
    "             }}\n",
    "\n",
    "new_superheros = superhero.copy()\n"
   ]
  },
  {
   "cell_type": "code",
   "execution_count": null,
   "id": "283b6b56-0316-41ae-ad7c-025e1759869a",
   "metadata": {},
   "outputs": [],
   "source": [
    "superhero"
   ]
  },
  {
   "cell_type": "code",
   "execution_count": null,
   "id": "3b0a9cab-9df1-4ba2-8433-f7ba7d974002",
   "metadata": {},
   "outputs": [],
   "source": [
    "superhero['dc']['Batman'] = 'Master Bruce'"
   ]
  },
  {
   "cell_type": "code",
   "execution_count": null,
   "id": "3fae9387-e114-4895-a7bb-220de125176b",
   "metadata": {},
   "outputs": [],
   "source": [
    "superhero"
   ]
  },
  {
   "cell_type": "code",
   "execution_count": null,
   "id": "3088fa3a-1372-458b-af55-f8fdb495bee4",
   "metadata": {},
   "outputs": [],
   "source": [
    "new_superheros"
   ]
  },
  {
   "cell_type": "markdown",
   "id": "06a58e00-9bd6-40e0-b5cc-a135444b31f8",
   "metadata": {},
   "source": [
    "### Iterating over a Dictionary"
   ]
  },
  {
   "cell_type": "code",
   "execution_count": null,
   "id": "30aed633-37a0-4ea2-b230-5e21ce3d71ed",
   "metadata": {},
   "outputs": [],
   "source": [
    "%%timeit superhero = {'Batman': 'Bruce Wayne','Flash': 'Berry Allan','Superman': 'Clark Kent',' Wonder Women': 'Diana Prince','Cyborg': 'Victor Stone','ironman':'Tonny Stark','hulk':'Bruce Banner','spiderman':'Peter Parker'}\n",
    "for key in superhero.keys():\n",
    "    x = superhero[key]"
   ]
  },
  {
   "cell_type": "code",
   "execution_count": null,
   "id": "58c91a8e-af8c-441d-ba3b-2defb83043f3",
   "metadata": {},
   "outputs": [],
   "source": [
    "%%timeit superhero = {'Batman': 'Bruce Wayne','Flash': 'Berry Allan','Superman': 'Clark Kent',' Wonder Women': 'Diana Prince','Cyborg': 'Victor Stone','ironman':'Tonny Stark','hulk':'Bruce Banner','spiderman':'Peter Parker'}\n",
    "for value in superhero.values():\n",
    "    x = value"
   ]
  },
  {
   "cell_type": "code",
   "execution_count": null,
   "id": "c7327d87-4df6-4dec-b03c-2d2f39283aa0",
   "metadata": {},
   "outputs": [],
   "source": [
    "# so convenient way for iterating directly over the values"
   ]
  },
  {
   "cell_type": "code",
   "execution_count": null,
   "id": "d69a65ab-d7c1-4c34-84aa-05fb7b11403d",
   "metadata": {},
   "outputs": [],
   "source": [
    " "
   ]
  }
 ],
 "metadata": {
  "kernelspec": {
   "display_name": "Python 3 (ipykernel)",
   "language": "python",
   "name": "python3"
  },
  "language_info": {
   "codemirror_mode": {
    "name": "ipython",
    "version": 3
   },
   "file_extension": ".py",
   "mimetype": "text/x-python",
   "name": "python",
   "nbconvert_exporter": "python",
   "pygments_lexer": "ipython3",
   "version": "3.9.13"
  }
 },
 "nbformat": 4,
 "nbformat_minor": 5
}

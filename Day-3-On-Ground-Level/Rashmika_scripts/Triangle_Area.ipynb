{
 "cells": [
  {
   "cell_type": "code",
   "execution_count": 3,
   "id": "2b0f0a2b-7034-49b6-8bfd-503c0f4c0cd8",
   "metadata": {},
   "outputs": [
    {
     "name": "stdin",
     "output_type": "stream",
     "text": [
      "Enter base of the triangle: 2\n",
      "Enter height of the triangle: 4\n"
     ]
    },
    {
     "name": "stdout",
     "output_type": "stream",
     "text": [
      "Area of the triangle =  4.0\n"
     ]
    }
   ],
   "source": [
    "import math\n",
    "b = float(input(\"Enter base of the triangle:\"))\n",
    "h = float(input(\"Enter height of the triangle:\"))\n",
    "Area = 0.5 * b * h\n",
    "print(\"Area of the triangle = \",Area)"
   ]
  },
  {
   "cell_type": "code",
   "execution_count": null,
   "id": "f9022d22-00c4-4369-bd47-d15a46183ec4",
   "metadata": {},
   "outputs": [],
   "source": []
  }
 ],
 "metadata": {
  "kernelspec": {
   "display_name": "Python 3 (ipykernel)",
   "language": "python",
   "name": "python3"
  },
  "language_info": {
   "codemirror_mode": {
    "name": "ipython",
    "version": 3
   },
   "file_extension": ".py",
   "mimetype": "text/x-python",
   "name": "python",
   "nbconvert_exporter": "python",
   "pygments_lexer": "ipython3",
   "version": "3.11.4"
  }
 },
 "nbformat": 4,
 "nbformat_minor": 5
}

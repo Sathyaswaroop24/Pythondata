{
 "cells": [
  {
   "cell_type": "markdown",
   "id": "6f5043ea-590c-4487-b494-6f81164799c7",
   "metadata": {},
   "source": [
    "# Python Functions"
   ]
  },
  {
   "cell_type": "markdown",
   "id": "26d3cdc5-758f-4927-9b52-4cf78fe9b774",
   "metadata": {},
   "source": [
    "- Resuable block of programming statments design to perform certain task\n",
    "- in Python `def` keyword is used to define functions\n",
    "- there are many builtin function in python\n"
   ]
  },
  {
   "cell_type": "markdown",
   "id": "71be47c4-3c91-4c41-9212-4f2bf8241065",
   "metadata": {},
   "source": [
    "#### Simple working Python function\n",
    "```\n",
    "def function():\n",
    "    pass\n",
    "```\n"
   ]
  },
  {
   "cell_type": "code",
   "execution_count": null,
   "id": "1749f4fd-792b-4b0e-a1bf-58899b782cf7",
   "metadata": {},
   "outputs": [],
   "source": []
  },
  {
   "cell_type": "markdown",
   "id": "46ff6e52-2861-431f-b70b-859679cde7f0",
   "metadata": {},
   "source": [
    "## Syntax of Function "
   ]
  },
  {
   "cell_type": "markdown",
   "id": "81147dc1-a7b3-4b41-b68c-a77715963e36",
   "metadata": {},
   "source": [
    "```\n",
    "def function_name(parameters):\n",
    "    \"\"\"docstring\"\"\"\n",
    "    statment1\n",
    "    statment2\n",
    "    ...\n",
    "    ...\n",
    "    return [expr]\n",
    "```\n"
   ]
  },
  {
   "cell_type": "markdown",
   "id": "6e7cf9cd-70c5-4f14-a4d8-f77e8bb138f2",
   "metadata": {},
   "source": [
    "### Defining a Function\n",
    "\n",
    "- The Keyword `def` is followed by a suitable identifier as the name of function and Parantheses\n",
    "- One or more parameters may be optionally mentioned inside parentheses\n",
    "- The `:` symbol after parentheses starts an indented block.\n",
    "  "
   ]
  },
  {
   "cell_type": "markdown",
   "id": "d3e267a9-4c97-4fea-b328-730eca8d6fbf",
   "metadata": {},
   "source": [
    "#### Some Benefits of Using Functions\n",
    "\n",
    "- Increase Code Readability \n",
    "- Increase Code Reusability"
   ]
  },
  {
   "cell_type": "markdown",
   "id": "d36c096c-843e-4570-8927-453e0a9c285f",
   "metadata": {},
   "source": [
    "### Types of Functions\n",
    "- Built-in library function\n",
    "- User-defined function"
   ]
  },
  {
   "cell_type": "markdown",
   "id": "f7da2275-997b-4468-8999-a4236a368771",
   "metadata": {},
   "source": [
    "## User-defined function"
   ]
  },
  {
   "cell_type": "markdown",
   "id": "e5ea071f-2e83-4800-8bc6-1aa8bc21e727",
   "metadata": {},
   "source": [
    "##### Creating a Function in Python"
   ]
  },
  {
   "cell_type": "code",
   "execution_count": null,
   "id": "b0a92884-7766-493c-b5e1-4a114843a650",
   "metadata": {},
   "outputs": [],
   "source": [
    "# A simple Python function\n",
    "def function():\n",
    "    \"\"\"\n",
    "    simple function with docstring\n",
    "    \"\"\"\n",
    "    print(\"Hello Codelocked!!\")"
   ]
  },
  {
   "cell_type": "markdown",
   "id": "ec3f26e8-9b3b-417d-9730-097548a39260",
   "metadata": {},
   "source": [
    "##### Calling a Python Function"
   ]
  },
  {
   "cell_type": "code",
   "execution_count": null,
   "id": "469e7bc9-95cb-4bcc-80d9-886beb948b85",
   "metadata": {},
   "outputs": [],
   "source": [
    "# Driver code to call a function\n",
    "function"
   ]
  },
  {
   "cell_type": "code",
   "execution_count": null,
   "id": "e1642da6-859f-4dd5-be66-3e28524dafb7",
   "metadata": {},
   "outputs": [],
   "source": []
  },
  {
   "cell_type": "code",
   "execution_count": null,
   "id": "5e52cba4-6743-4e2e-acba-1ec914f26ff9",
   "metadata": {},
   "outputs": [],
   "source": [
    "def function_with_return_keyword():\n",
    "    \"\"\" return keyword \"\"\"\n",
    "    return \"Hello Codelocked with Return Keyword!!\""
   ]
  },
  {
   "cell_type": "code",
   "execution_count": null,
   "id": "f70fa65b-5808-458b-95c3-063d04867105",
   "metadata": {},
   "outputs": [],
   "source": [
    "function_with_return_keyword"
   ]
  },
  {
   "cell_type": "code",
   "execution_count": null,
   "id": "9a87c68a-4ccf-439c-a81e-964d3d278b51",
   "metadata": {},
   "outputs": [],
   "source": []
  },
  {
   "cell_type": "markdown",
   "id": "c7b27acc-55c4-4f9e-9d9c-488f314ed3d3",
   "metadata": {},
   "source": [
    "### Python Function with Parameters"
   ]
  },
  {
   "cell_type": "markdown",
   "id": "2ec2489e-cdab-4232-bcd5-e61599929b55",
   "metadata": {},
   "source": [
    "#### Syntax \n",
    "```\n",
    "def function_name(parameter: data_type) -> return_type:\n",
    "    \"\"\"Docstring\"\"\"\n",
    "    # body of the function\n",
    "    return expression\n",
    "```"
   ]
  },
  {
   "cell_type": "code",
   "execution_count": null,
   "id": "6c95993a-a17b-4736-9cb2-744f17f4b39e",
   "metadata": {},
   "outputs": [],
   "source": [
    "def prime_number(number):\n",
    "    \"\"\" Check Prime Number \"\"\"\n",
    "    return \"Prime Number\" if number % 2 == 0 else \"Not a Prime Number\""
   ]
  },
  {
   "cell_type": "code",
   "execution_count": null,
   "id": "fd3d5439-abe4-410b-aee3-1d3e242479ee",
   "metadata": {},
   "outputs": [],
   "source": []
  },
  {
   "cell_type": "code",
   "execution_count": null,
   "id": "e0b28ac4-895e-4071-9b08-2594cc406d9e",
   "metadata": {},
   "outputs": [],
   "source": [
    "def prime_number_with_annotations(number: int) -> str:\n",
    "    \"\"\" Check Prime Number \"\"\"\n",
    "    return \"Prime Number\" if number % 2 == 0 else \"Not a Prime Number\""
   ]
  },
  {
   "cell_type": "code",
   "execution_count": null,
   "id": "d6fd354a-322c-4535-9800-a6d698d088c1",
   "metadata": {},
   "outputs": [],
   "source": [
    "prime_number_with_annotations(3)"
   ]
  },
  {
   "cell_type": "code",
   "execution_count": null,
   "id": "0c157883-1add-4678-882b-c1ad8cd87ed5",
   "metadata": {},
   "outputs": [],
   "source": []
  },
  {
   "cell_type": "markdown",
   "id": "75e6c32d-bffb-406c-9aae-24ec2880f619",
   "metadata": {},
   "source": [
    "## Python Function Arguments\n",
    "\n",
    "- Arguments are the values passed inside the parenthesis of the function.\n",
    "- A function can have any number of arguments separated by a comma.\n",
    "  "
   ]
  },
  {
   "cell_type": "code",
   "execution_count": null,
   "id": "e03040bc-0037-470e-9974-8de4846c8495",
   "metadata": {},
   "outputs": [],
   "source": [
    " A simple Python function to check\n",
    "def evenOdd(x):\n",
    "    if (x % 2 == 0):\n",
    "        print(\"even\")\n",
    "    else:\n",
    "        print(\"odd\")"
   ]
  },
  {
   "cell_type": "code",
   "execution_count": null,
   "id": "a0ffe6c2-6e04-4f5a-a6a3-a84599c5ce9e",
   "metadata": {},
   "outputs": [],
   "source": [
    "evenOdd(2)\n",
    "evenOdd(3)"
   ]
  },
  {
   "cell_type": "code",
   "execution_count": null,
   "id": "3886bd98-c1bf-46a2-84eb-8f2731e317e8",
   "metadata": {},
   "outputs": [],
   "source": []
  },
  {
   "cell_type": "markdown",
   "id": "0035e978-c74b-4b7b-8eaa-782cb999a2ef",
   "metadata": {},
   "source": [
    "### Types of Python Function Arguments\n",
    "\n",
    "- Default argument\n",
    "- Keyword arguments (named arguments)\n",
    "- Positional arguments\n",
    "- Arbitrary arguments (variable-length arguments *args and **kwargs)"
   ]
  },
  {
   "cell_type": "code",
   "execution_count": null,
   "id": "d3ac2477-2cdf-4990-b406-34b77a797136",
   "metadata": {},
   "outputs": [],
   "source": []
  },
  {
   "cell_type": "markdown",
   "id": "fa5f53f4-04d7-4b14-9237-3397cd965676",
   "metadata": {},
   "source": [
    "### Default Arguments\n",
    "\n",
    "- A default argument is a parameter that assumes a default value if a value is not provided in the function call for that argument."
   ]
  },
  {
   "cell_type": "code",
   "execution_count": null,
   "id": "28b62797-c077-4a0e-ba19-c089580ad92e",
   "metadata": {},
   "outputs": [],
   "source": [
    "def my_function(x, y = 100):\n",
    "    \"\"\" addition \"\"\"\n",
    "    return x + y"
   ]
  },
  {
   "cell_type": "code",
   "execution_count": null,
   "id": "eb3fcdde-b0e4-4b7e-8ffe-d306beea953d",
   "metadata": {},
   "outputs": [],
   "source": [
    "my_function(10)"
   ]
  },
  {
   "cell_type": "code",
   "execution_count": null,
   "id": "5d441262-5cae-4d2b-83cd-cf346e53cbd2",
   "metadata": {},
   "outputs": [],
   "source": [
    "my_function(10,10)"
   ]
  },
  {
   "cell_type": "code",
   "execution_count": null,
   "id": "7dd54a36-9753-4bb9-89dc-c2ba1d758ff8",
   "metadata": {},
   "outputs": [],
   "source": []
  },
  {
   "cell_type": "markdown",
   "id": "b8a58d98-1ff2-44cd-b3c8-971f9b84ad7f",
   "metadata": {},
   "source": [
    "### Keyword Arguments\n",
    "\n",
    "- The idea is to allow the caller to specify the argument name with values so that the caller does not need to remember the order of parameters."
   ]
  },
  {
   "cell_type": "code",
   "execution_count": null,
   "id": "69fc71ae-33c8-4b75-86f0-c1b8385ae34f",
   "metadata": {},
   "outputs": [],
   "source": [
    "def my_name_function(first_name, last_name):\n",
    "    \"\"\" return Full name \"\"\"\n",
    "    return f\"{first_name} { last_name }\""
   ]
  },
  {
   "cell_type": "code",
   "execution_count": null,
   "id": "40d6f38a-96fb-4ed1-9c67-fa0ff9dcd6b4",
   "metadata": {},
   "outputs": [],
   "source": [
    "my_name_function(first_name=\"code\", last_name=\"locked\")"
   ]
  },
  {
   "cell_type": "code",
   "execution_count": null,
   "id": "db0e5578-9fd4-4031-ae43-f595511b3f07",
   "metadata": {},
   "outputs": [],
   "source": []
  },
  {
   "cell_type": "markdown",
   "id": "c8a65773-d80e-4852-af7d-a1b226c8c091",
   "metadata": {},
   "source": [
    "### Positional arguments\n",
    "\n",
    "- We used the Position argument during the function call so that the first argument (or value) is assigned to name and the second argument (or value) is assigned to age."
   ]
  },
  {
   "cell_type": "code",
   "execution_count": null,
   "id": "eeeffe58-3988-4688-a7c8-3cce4fe9d0bf",
   "metadata": {},
   "outputs": [],
   "source": [
    "def my_name_age_func(name, age):\n",
    "    print(\"Hi, I am\", name)\n",
    "    print(\"My age is \", age)"
   ]
  },
  {
   "cell_type": "code",
   "execution_count": null,
   "id": "7154bb85-2f10-4719-ad04-059d0f70c471",
   "metadata": {},
   "outputs": [],
   "source": [
    "my_name_age_func(\"Codelocked\", 2023)"
   ]
  },
  {
   "cell_type": "code",
   "execution_count": null,
   "id": "45b8c900-41c0-47a5-9182-73126b42ee86",
   "metadata": {},
   "outputs": [],
   "source": [
    "my_name_age_func(2023, \"Codelocked\")"
   ]
  },
  {
   "cell_type": "code",
   "execution_count": null,
   "id": "760881c0-bb1d-4ddc-a738-1cbc71eaae25",
   "metadata": {},
   "outputs": [],
   "source": []
  },
  {
   "cell_type": "markdown",
   "id": "4486b71f-fced-4fac-a928-3d8b814212a9",
   "metadata": {},
   "source": [
    "### Arbitrary Keyword  Arguments\n",
    "\n",
    "In Python Arbitrary Keyword Arguments, `*args`, and `**kwargs` can pass a variable number of arguments to a function using special symbols. There are two special symbols:\n",
    "\n",
    "- *args in Python (Non-Keyword Arguments)\n",
    "- **kwargs in Python (Keyword Arguments)"
   ]
  },
  {
   "cell_type": "code",
   "execution_count": null,
   "id": "48cd48ed-aa2f-4042-b156-b01e93219571",
   "metadata": {},
   "outputs": [],
   "source": [
    "def variable_length_non_keywords_args(*args):\n",
    "    for arg in args:\n",
    "        print(arg)"
   ]
  },
  {
   "cell_type": "code",
   "execution_count": null,
   "id": "0e337932-2f02-4bff-a127-1aa9e1a737fa",
   "metadata": {},
   "outputs": [],
   "source": [
    "variabel_length_non_keywords_args('Hello', 'Welcome', 'to', 'Codelocked')"
   ]
  },
  {
   "cell_type": "code",
   "execution_count": null,
   "id": "16ca9c0b-c1b1-40dc-8727-b91b3e9c8e94",
   "metadata": {},
   "outputs": [],
   "source": []
  },
  {
   "cell_type": "code",
   "execution_count": null,
   "id": "b326f428-196b-43bc-b503-752999088882",
   "metadata": {},
   "outputs": [],
   "source": [
    "def variable_length_keywords_args(**kwargs):\n",
    "    for key,value in kwargs.items():\n",
    "        print(f\"{key}  ---> {value}\")"
   ]
  },
  {
   "cell_type": "code",
   "execution_count": null,
   "id": "c1656f94-be10-4522-ac0d-e6299d5723a2",
   "metadata": {},
   "outputs": [],
   "source": [
    "variable_length_keywords_args(first=\"CODE\",last=\"LOCKED\")"
   ]
  },
  {
   "cell_type": "code",
   "execution_count": null,
   "id": "e8f55213-ca69-41c2-92e7-47703a5cea3f",
   "metadata": {},
   "outputs": [],
   "source": []
  },
  {
   "cell_type": "markdown",
   "id": "cdfac3ac-8f79-4bab-b1e6-feeeb0e5013c",
   "metadata": {},
   "source": [
    "### `docstring` or `Document String`\n",
    "\n",
    "- docstring used to describe the functionality of the function\n",
    "- it is optional, but consider a good practice. "
   ]
  },
  {
   "cell_type": "code",
   "execution_count": null,
   "id": "acba489b-29aa-47ea-8882-09d495ff0b2a",
   "metadata": {},
   "outputs": [],
   "source": [
    "def even_or_odd(number):\n",
    "    \"\"\" Program that tells number is Even or Odd \"\"\"\n",
    "    return \"Even\" if number % 2 == 0 else \"Odd\""
   ]
  },
  {
   "cell_type": "code",
   "execution_count": null,
   "id": "68c18361-08c0-465b-8739-44f8c06079df",
   "metadata": {},
   "outputs": [],
   "source": [
    "print(even_or_odd.__doc__)"
   ]
  },
  {
   "cell_type": "code",
   "execution_count": null,
   "id": "cd3ba78e-4d0e-4cdb-a01b-6a7218904481",
   "metadata": {},
   "outputs": [],
   "source": []
  },
  {
   "cell_type": "markdown",
   "id": "34e2d1f0-21fa-4020-88d5-ea81f61e9df6",
   "metadata": {},
   "source": [
    "# Nested Functions"
   ]
  },
  {
   "cell_type": "code",
   "execution_count": null,
   "id": "ef21eba6-8160-46f2-97ca-c0e2636fd4a3",
   "metadata": {},
   "outputs": [],
   "source": [
    "def f1():\n",
    "    string = \"Welcome to Codelocked\"\n",
    "    def f2():\n",
    "        print(string)\n",
    "    f2()\n",
    "\n",
    "f1()"
   ]
  },
  {
   "cell_type": "code",
   "execution_count": null,
   "id": "af528adc-f4a1-4455-87bb-658b4884f497",
   "metadata": {},
   "outputs": [],
   "source": []
  },
  {
   "cell_type": "markdown",
   "id": "596b9515-d192-44cf-b7f1-d9626106a2c2",
   "metadata": {},
   "source": [
    "# Anonymous Functions or `lambda` functions\n",
    "\n",
    "- an anonymous function means that a function is without a name.\n",
    "- `lambda` keyword is used to create anonymous functions.\n",
    "- The lambda function can have only one expression.\n",
    "- it cannot substitute a function whose body may have conditionals, loops, etc."
   ]
  },
  {
   "cell_type": "code",
   "execution_count": null,
   "id": "3ef0ecac-304d-466f-9ee2-d3142ca8c24d",
   "metadata": {},
   "outputs": [],
   "source": [
    "def cube(x): return x*x*x"
   ]
  },
  {
   "cell_type": "code",
   "execution_count": null,
   "id": "ccb3d85f-fe83-4211-aafe-a713b71aa5e5",
   "metadata": {},
   "outputs": [],
   "source": [
    "cube_v2 = lambda x: x*x*x"
   ]
  },
  {
   "cell_type": "code",
   "execution_count": null,
   "id": "d48eecb3-9978-46b4-9847-28d062975827",
   "metadata": {},
   "outputs": [],
   "source": [
    "print(\"Cube Function  : \", cube(100))\n",
    "print(\"Lambda Function: \", cube_v2(100))"
   ]
  },
  {
   "cell_type": "code",
   "execution_count": null,
   "id": "8f785c59-80b4-4693-89f2-5ad7fcdcfd55",
   "metadata": {},
   "outputs": [],
   "source": []
  },
  {
   "cell_type": "code",
   "execution_count": null,
   "id": "8643e45c-af35-459c-adf4-80ba9303bde1",
   "metadata": {},
   "outputs": [],
   "source": [
    "# lambda function contains three parameters\n",
    "sum = lambda x, y, z : x + y + z \n",
    "n = sum(5, 10, 15)"
   ]
  },
  {
   "cell_type": "markdown",
   "id": "0d82e6d6-5a0b-4939-9a58-d8406b67a1ab",
   "metadata": {},
   "source": [
    "#### A lambda function can take any number of parameters by prefixing * before a parameter"
   ]
  },
  {
   "cell_type": "code",
   "execution_count": null,
   "id": "a82779fd-a2fc-4dae-a897-b64e1ef731df",
   "metadata": {},
   "outputs": [],
   "source": [
    "sum = lambda *x: x[0]+x[1]+x[2]+x[3]  \n",
    "n = sum(5, 10, 15, 20)"
   ]
  },
  {
   "cell_type": "code",
   "execution_count": null,
   "id": "23549d5e-457b-469b-aff1-b932fff993a8",
   "metadata": {},
   "outputs": [],
   "source": []
  },
  {
   "cell_type": "markdown",
   "id": "fe6d9437-2414-40f5-a669-0e9384094690",
   "metadata": {},
   "source": [
    "#### Parameterless Lambda Function"
   ]
  },
  {
   "cell_type": "code",
   "execution_count": null,
   "id": "ef4a608e-8257-451e-ae2d-94b8328129da",
   "metadata": {},
   "outputs": [],
   "source": [
    "greet = lambda : print('Hello Codelocked!')\n",
    "greet()"
   ]
  },
  {
   "cell_type": "code",
   "execution_count": null,
   "id": "4da09b60-b0ed-4069-a0dd-02d3228f2b45",
   "metadata": {},
   "outputs": [],
   "source": []
  },
  {
   "cell_type": "markdown",
   "id": "b87de188-3e3c-410f-879d-e6c96f1864e5",
   "metadata": {},
   "source": [
    "#### Anonymous Function\n",
    "- We can declare a lambda function and call it as an anonymous function, without assigning it to a variable."
   ]
  },
  {
   "cell_type": "code",
   "execution_count": null,
   "id": "b9e98a8c-cc0e-4c43-aef9-e9eb94bc686a",
   "metadata": {},
   "outputs": [],
   "source": [
    "(lambda x: print(x*x))(5)"
   ]
  },
  {
   "cell_type": "markdown",
   "id": "7b07187d-abdd-4e03-a5f5-b5e660595384",
   "metadata": {},
   "source": [
    "- The lambda functions are useful when we want to give the function as one of the arguments to another function.\n",
    "- We can pass the lambda function without assigning it to a variable, as an anonymous function as an argument to another function.\n",
    "- it is very useful in `map()`, `filter()` and `reduce()` functions"
   ]
  },
  {
   "cell_type": "code",
   "execution_count": null,
   "id": "53b85390-13d0-408f-bfe2-32ea9e5306bc",
   "metadata": {},
   "outputs": [],
   "source": [
    "def dosomething(fn):\n",
    "\tprint('Calling function argument:')\n",
    "\tfn()"
   ]
  },
  {
   "cell_type": "code",
   "execution_count": null,
   "id": "f276a687-7035-4959-b645-345d0746ae14",
   "metadata": {},
   "outputs": [],
   "source": [
    "# passing anonymous function\n",
    "dosomething(lambda : print('Hello World'))"
   ]
  },
  {
   "cell_type": "code",
   "execution_count": null,
   "id": "cbda2a3e-ce70-4c95-b0d2-600540810558",
   "metadata": {},
   "outputs": [],
   "source": [
    "myfn = lambda : print('Hello World') \n",
    "dosomething(myfn) # passing lambda function"
   ]
  },
  {
   "cell_type": "code",
   "execution_count": null,
   "id": "b4341962-a7b7-4dfd-8c40-06115803c861",
   "metadata": {},
   "outputs": [],
   "source": []
  },
  {
   "cell_type": "code",
   "execution_count": null,
   "id": "6136cdf9-b206-4916-9881-fb5730a7089e",
   "metadata": {},
   "outputs": [],
   "source": []
  },
  {
   "cell_type": "markdown",
   "id": "fe1f72eb-2a8f-44f1-a21c-ec0343b6792a",
   "metadata": {},
   "source": [
    "# `return` Statement in Python Function\n",
    "\n",
    "- `return` is used to exit from a function and go back to the function caller and return the specified value or data item to the caller"
   ]
  },
  {
   "cell_type": "code",
   "execution_count": null,
   "id": "cc34ce52-36af-4a68-ad6a-b8bfc84c689c",
   "metadata": {},
   "outputs": [],
   "source": [
    "def square_value(num):\n",
    "    \"\"\"\n",
    "    This function returns the square\n",
    "    value of the entered number\n",
    "    \"\"\"\n",
    "    return num**2"
   ]
  },
  {
   "cell_type": "code",
   "execution_count": null,
   "id": "0638fcf0-1176-44c3-b05c-197f665f2f5b",
   "metadata": {},
   "outputs": [],
   "source": [
    "print(square_value(2))\n",
    "print(square_value(-4))"
   ]
  },
  {
   "cell_type": "code",
   "execution_count": null,
   "id": "21826378-7158-49a1-91a5-8b7d3eae4300",
   "metadata": {},
   "outputs": [],
   "source": []
  },
  {
   "cell_type": "markdown",
   "id": "570053c5-9948-4811-80f9-73f11589b345",
   "metadata": {},
   "source": [
    "# Pass by Reference and Pass by Value\n",
    "\n",
    "- *** In Python every variable name is a reference.\n",
    "- When we pass a variable to a function, a new reference to the object is created."
   ]
  },
  {
   "cell_type": "code",
   "execution_count": null,
   "id": "6113f3c5-4961-4dbd-a3c6-af210b403c10",
   "metadata": {},
   "outputs": [],
   "source": [
    "def my_function(x):\n",
    "    x[0] = 20"
   ]
  },
  {
   "cell_type": "code",
   "execution_count": null,
   "id": "1748fde4-53d2-4aef-9f1b-1c62179ff66b",
   "metadata": {},
   "outputs": [],
   "source": [
    "lst = [10, 11, 12, 13, 14, 15]\n",
    "print(lst)"
   ]
  },
  {
   "cell_type": "code",
   "execution_count": null,
   "id": "656ba889-b0ce-4970-b833-8046b1270eb6",
   "metadata": {},
   "outputs": [],
   "source": [
    "my_function(lst)\n",
    "print(lst)"
   ]
  },
  {
   "cell_type": "code",
   "execution_count": null,
   "id": "3ef79260-8861-44f1-83f2-d8b1213194d0",
   "metadata": {},
   "outputs": [],
   "source": []
  }
 ],
 "metadata": {
  "kernelspec": {
   "display_name": "Python 3 (ipykernel)",
   "language": "python",
   "name": "python3"
  },
  "language_info": {
   "codemirror_mode": {
    "name": "ipython",
    "version": 3
   },
   "file_extension": ".py",
   "mimetype": "text/x-python",
   "name": "python",
   "nbconvert_exporter": "python",
   "pygments_lexer": "ipython3",
   "version": "3.9.13"
  }
 },
 "nbformat": 4,
 "nbformat_minor": 5
}

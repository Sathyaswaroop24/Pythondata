{
 "cells": [
  {
   "cell_type": "markdown",
   "id": "b7ec0814-4bdc-4f0e-9410-794e2cedb841",
   "metadata": {},
   "source": [
    "# Numbers"
   ]
  },
  {
   "cell_type": "code",
   "execution_count": null,
   "id": "7af10ec1-2186-43ca-a213-c247c27ac52f",
   "metadata": {},
   "outputs": [],
   "source": [
    "# py 2 ---> int, float, long , complex\n",
    "# a = 234234324L \n",
    "# type(a) --> long"
   ]
  },
  {
   "cell_type": "code",
   "execution_count": null,
   "id": "21c97c95-c541-43dd-8c08-87f73ba3375e",
   "metadata": {},
   "outputs": [],
   "source": [
    "# py 3 -> int, float, complex\n",
    "a = 342343243242342342324324324"
   ]
  },
  {
   "cell_type": "code",
   "execution_count": null,
   "id": "14e31768-0805-40a1-9d29-1f1bfa06c519",
   "metadata": {},
   "outputs": [],
   "source": [
    "a, type(a)"
   ]
  },
  {
   "cell_type": "code",
   "execution_count": null,
   "id": "1727d432-ab3a-4acf-9888-c349fbaf3ec6",
   "metadata": {},
   "outputs": [],
   "source": [
    "# int float and complex"
   ]
  },
  {
   "cell_type": "markdown",
   "id": "d4b8b4e4-09ce-4675-8fb2-c4a7e91b9d54",
   "metadata": {},
   "source": [
    "### It is possible to represent an integer in hexa-decimal or octal form"
   ]
  },
  {
   "cell_type": "code",
   "execution_count": null,
   "id": "bd894404-4166-4737-b521-c905f784c8eb",
   "metadata": {},
   "outputs": [],
   "source": [
    "number = 0xA0F #Hexa-decimal\n",
    "number"
   ]
  },
  {
   "cell_type": "code",
   "execution_count": null,
   "id": "57839276-5052-4dde-b492-6c62abac6c19",
   "metadata": {},
   "outputs": [],
   "source": [
    "number = 0o37 #Octal\n",
    "number"
   ]
  },
  {
   "cell_type": "code",
   "execution_count": null,
   "id": "3f598cbb-5fb6-4b30-8461-51eeaa8a16e2",
   "metadata": {},
   "outputs": [],
   "source": []
  },
  {
   "cell_type": "code",
   "execution_count": null,
   "id": "f5f53b7e-fe66-480a-9e29-951bf0ed4ba5",
   "metadata": {},
   "outputs": [],
   "source": [
    "#343 + 4j\n",
    "a = input(\"Enter float numner \" )"
   ]
  },
  {
   "cell_type": "code",
   "execution_count": null,
   "id": "111ece12-3285-4090-b338-e9d581e980e8",
   "metadata": {},
   "outputs": [],
   "source": [
    "float(a)"
   ]
  },
  {
   "cell_type": "code",
   "execution_count": null,
   "id": "233d5180-34b0-4ec5-babd-681ed7c5d891",
   "metadata": {},
   "outputs": [],
   "source": [
    "int(float(a))"
   ]
  },
  {
   "cell_type": "markdown",
   "id": "b6153db8-7483-48a1-bfeb-f5dc331a0ebc",
   "metadata": {},
   "source": [
    "### Number Type Conversion"
   ]
  },
  {
   "cell_type": "code",
   "execution_count": null,
   "id": "d8b15f43-0155-4feb-b98c-dfb0510add99",
   "metadata": {},
   "outputs": [],
   "source": [
    "# convert x to a plain integer.\n",
    "int(1.232)"
   ]
  },
  {
   "cell_type": "code",
   "execution_count": null,
   "id": "78a86088-e3f8-474e-a63c-f7347d2c676e",
   "metadata": {},
   "outputs": [],
   "source": [
    "# convert x to a floating-point number\n",
    "float(1)"
   ]
  },
  {
   "cell_type": "code",
   "execution_count": null,
   "id": "6ad6ba6c-28ad-43a4-96cc-7d4068004c8e",
   "metadata": {},
   "outputs": [],
   "source": [
    "# convert x to a complex number with real part x and imaginary part zero.\n",
    "complex(1)"
   ]
  },
  {
   "cell_type": "code",
   "execution_count": null,
   "id": "0679ec73-7644-4737-96a8-421df3d6ba66",
   "metadata": {},
   "outputs": [],
   "source": [
    "# convert x and y to a complex number with real part x and imaginary part y. x and y are numeric expressions\n",
    "complex(1,4)"
   ]
  },
  {
   "cell_type": "code",
   "execution_count": null,
   "id": "8cba15d2-c16e-4e0a-b992-18751c70ed35",
   "metadata": {},
   "outputs": [],
   "source": []
  },
  {
   "cell_type": "code",
   "execution_count": null,
   "id": "813e3173-e9ac-4dcb-899c-dd991b72c86a",
   "metadata": {},
   "outputs": [],
   "source": []
  },
  {
   "cell_type": "markdown",
   "id": "a622d246-95ec-41fd-8305-4d2a2e1f48f1",
   "metadata": {},
   "source": [
    "# Mathematical Functions"
   ]
  },
  {
   "cell_type": "code",
   "execution_count": null,
   "id": "a9cc6d5d-d3af-4a33-b7df-1306a627c430",
   "metadata": {},
   "outputs": [],
   "source": [
    "num = -123456.123344"
   ]
  },
  {
   "cell_type": "code",
   "execution_count": null,
   "id": "163a5d83-143b-4915-b612-e92fa4bc2937",
   "metadata": {},
   "outputs": [],
   "source": [
    "num"
   ]
  },
  {
   "cell_type": "code",
   "execution_count": null,
   "id": "a44c5db4-6caa-4a00-82fc-1b2c820aebb7",
   "metadata": {},
   "outputs": [],
   "source": [
    "import math"
   ]
  },
  {
   "cell_type": "code",
   "execution_count": null,
   "id": "e4108117-6762-4428-bebc-e1158d156494",
   "metadata": {},
   "outputs": [],
   "source": [
    "num = 123456.123344\n",
    "print(\n",
    "    f'''\n",
    "     ----------------------------------------------------------\n",
    "     abs(x)                   ---> { abs(num) }\n",
    "     ----------------------------------------------------------\n",
    "     ceil(x)                  --->   {math.ceil(int(num)) }\n",
    "      ----------------------------------------------------------\n",
    "        cmp(x, y)\n",
    "    -1 if x < y, 0 if x == y, or 1 if x > y. Deprecated in Python 3. Instead use return (x>y)-(x<y).\n",
    "        ----------------------------------------------------------\n",
    "        exp(x)                  ---> { math.exp(2) }\n",
    "      ----------------------------------------------------------\n",
    "        fabs(x)                  ---> { math.fabs(num) }\n",
    "      ----------------------------------------------------------\n",
    "        floor(x)                  ---> { math.floor(num) }\n",
    "      ----------------------------------------------------------\n",
    "        log(x)                  ---> { math.log(8) }\n",
    "      ----------------------------------------------------------\n",
    "        log10(x)                  ---> { math.log10(8) }\n",
    "      ----------------------------------------------------------\n",
    "        max(x1, x2,...)                  ---> { max(10,12,30,40) }\n",
    "      ----------------------------------------------------------\n",
    "        min(x1, x2,...)                  ---> { min(10,12,30,40) }\n",
    "      ----------------------------------------------------------\n",
    "        modf(x)                  ---> { math.modf(num) }\n",
    "      ----------------------------------------------------------\n",
    "        pow(x, y)                  ---> { pow(num,2) }\n",
    "      ----------------------------------------------------------\n",
    "        round(x [,n])                  ---> { round(num) }\n",
    "      ----------------------------------------------------------\n",
    "        sqrt(x)                  ---> { math.sqrt(144) }\n",
    "    \n",
    "    '''\n",
    ")"
   ]
  },
  {
   "cell_type": "code",
   "execution_count": null,
   "id": "866d20a5-7d41-469e-ba4f-f405855d3f4f",
   "metadata": {},
   "outputs": [],
   "source": []
  },
  {
   "cell_type": "code",
   "execution_count": null,
   "id": "1245c14f-e5a4-4fa9-bffd-3a2e580573bc",
   "metadata": {},
   "outputs": [],
   "source": [
    "from math import *"
   ]
  },
  {
   "cell_type": "markdown",
   "id": "6e206c64-c5c8-4655-a815-46f3efb1c8ad",
   "metadata": {},
   "source": [
    "### Random Number Functions"
   ]
  },
  {
   "cell_type": "markdown",
   "id": "dcf0464f-0198-441f-87fa-ebe8daca8900",
   "metadata": {},
   "source": [
    "```\n",
    "Mostly used in \n",
    "- games\n",
    "- simulations\n",
    "- testing\n",
    "- security \n",
    "- privacy applications\n",
    "```"
   ]
  },
  {
   "cell_type": "code",
   "execution_count": null,
   "id": "8865b85c-5ede-495f-bd68-a9b2634b27ce",
   "metadata": {},
   "outputs": [],
   "source": [
    "import random"
   ]
  },
  {
   "cell_type": "code",
   "execution_count": null,
   "id": "3c6df61f-e572-4b90-831c-526f43d070e4",
   "metadata": {},
   "outputs": [],
   "source": [
    "random.choice(['HEAD','TAIL'])"
   ]
  },
  {
   "cell_type": "code",
   "execution_count": null,
   "id": "1936a91f-6cf9-40bc-a5ea-a71c019ef9ef",
   "metadata": {},
   "outputs": [],
   "source": [
    "random.randrange(1,7)"
   ]
  },
  {
   "cell_type": "code",
   "execution_count": null,
   "id": "17ea364b-3760-437b-b63c-95c953ec4d6d",
   "metadata": {},
   "outputs": [],
   "source": [
    "random.random()"
   ]
  },
  {
   "cell_type": "code",
   "execution_count": null,
   "id": "8174953f-987e-4486-b1a4-96a92b094ab9",
   "metadata": {},
   "outputs": [],
   "source": [
    "# The seed() method initializes the basic random number generator.\n",
    "# The seed() method is used to initialize the random number generator.\n",
    "# By default the random number generator uses the current system time.\n",
    "\n",
    "random.seed(1)"
   ]
  },
  {
   "cell_type": "code",
   "execution_count": null,
   "id": "06a67275-1fa2-4ee5-b70c-d995f383c55f",
   "metadata": {},
   "outputs": [],
   "source": [
    "random.random()"
   ]
  },
  {
   "cell_type": "code",
   "execution_count": null,
   "id": "cc900642-076a-4363-8af0-79fa91c11024",
   "metadata": {},
   "outputs": [],
   "source": [
    "random.seed()\n",
    "print (\"random number with default seed\", random.random())\n",
    "\n",
    "random.seed(10)\n",
    "print (\"random number with int seed\", random.random())\n",
    "\n",
    "random.seed(10)\n",
    "print (\"random number with int seed\", random.random())\n",
    "print (\"random number with int seed\", random.random())\n",
    "\n",
    "random.seed(\"hello\",2)\n",
    "print (\"random number with string seed\", random.random())"
   ]
  },
  {
   "cell_type": "code",
   "execution_count": null,
   "id": "97b09185-4820-4a1d-9c0c-a4b302a30dd5",
   "metadata": {},
   "outputs": [],
   "source": [
    "# Card gmaes\n",
    "card_cat = ['A',2,3,4,5,6,7,8,9,10,'J','Q','K']\n",
    "card_category = ['♡', '♤', '♢', '♧'] \n",
    "card_deck = list()"
   ]
  },
  {
   "cell_type": "code",
   "execution_count": null,
   "id": "4e4105bd-da90-44ed-82fd-88ae56d4da0a",
   "metadata": {},
   "outputs": [],
   "source": [
    "for i in card_category:\n",
    "    for j in card_cat:\n",
    "        card_deck.append(f'{i}{j}')"
   ]
  },
  {
   "cell_type": "code",
   "execution_count": null,
   "id": "94fb5d10-c91d-4fbd-bb7b-72dc6d47d264",
   "metadata": {},
   "outputs": [],
   "source": [
    "print(card_deck)"
   ]
  },
  {
   "cell_type": "code",
   "execution_count": null,
   "id": "ce6e5484-d524-4d14-8fc2-0e24740f38e0",
   "metadata": {},
   "outputs": [],
   "source": [
    "random.shuffle(card_deck)"
   ]
  },
  {
   "cell_type": "code",
   "execution_count": null,
   "id": "854876e8-6d11-4870-8b26-cf05d8520ddb",
   "metadata": {},
   "outputs": [],
   "source": [
    "len(card_deck)"
   ]
  },
  {
   "cell_type": "code",
   "execution_count": null,
   "id": "f2d9c0c4-0a0e-4206-b3a2-2f5a77b169be",
   "metadata": {},
   "outputs": [],
   "source": [
    "print(card_deck)"
   ]
  },
  {
   "cell_type": "code",
   "execution_count": null,
   "id": "5b7aa927-12a0-4bde-8f75-0ad4d3ea8ca3",
   "metadata": {},
   "outputs": [],
   "source": []
  },
  {
   "cell_type": "code",
   "execution_count": null,
   "id": "df7fa669-a529-467f-8665-6aa2e80dafe8",
   "metadata": {},
   "outputs": [],
   "source": [
    "# The uniform() method returns a random float r, \n",
    "# such that x is less than or equal to r and r is less than y.\n",
    "random.uniform(5,2)"
   ]
  },
  {
   "cell_type": "code",
   "execution_count": null,
   "id": "49334079-f616-4046-bcd0-2297fdafe4c1",
   "metadata": {},
   "outputs": [],
   "source": []
  },
  {
   "cell_type": "markdown",
   "id": "4c9e36ff-c243-4657-a3f2-bef551ca5a12",
   "metadata": {},
   "source": [
    "# Trigonometric Functions"
   ]
  },
  {
   "cell_type": "code",
   "execution_count": null,
   "id": "ca694dfc-a4ff-4384-87cd-4687b6e4555c",
   "metadata": {},
   "outputs": [],
   "source": [
    "print(\n",
    "    f'''\n",
    "    acos(x)           --> { math.acos(math.radians(0))}\n",
    "    asin(x)           --> { math.asin(math.radians(0))}\n",
    "    atan(x)           --> { math.atan(1)}\n",
    "    atan2(y, x)       --> { math.atan2(0,0)}\n",
    "    cos(x)            --> { math.cos(0)}\n",
    "    hypot(x, y)       --> { math.hypot(0,0)}   # return the Euclidean norm, sqrt(x*x + y*y)\n",
    "    sin(x)            --> { math.sin(0)}\n",
    "    tan(x)            --> { math.tan(0)}\n",
    "    degrees(x)        --> { math.degrees(0)}\n",
    "    radians(x)        --> { math.radians(0)}\n",
    "    \n",
    "    '''\n",
    ")"
   ]
  },
  {
   "cell_type": "code",
   "execution_count": null,
   "id": "fec616b6-e800-45e5-abe3-32c9281c6838",
   "metadata": {},
   "outputs": [],
   "source": []
  },
  {
   "cell_type": "markdown",
   "id": "2f5f3aa0-315a-44ab-bd95-c177d43d5f86",
   "metadata": {},
   "source": [
    "# Mathematical Constants"
   ]
  },
  {
   "cell_type": "code",
   "execution_count": null,
   "id": "a41fdc53-d168-4ab7-9c02-88b17f435e2d",
   "metadata": {},
   "outputs": [],
   "source": [
    "import math\n",
    "print(math.pi)"
   ]
  },
  {
   "cell_type": "code",
   "execution_count": null,
   "id": "cdf415a5-0320-4195-a78a-6883f25ee960",
   "metadata": {},
   "outputs": [],
   "source": [
    "math.e"
   ]
  },
  {
   "cell_type": "code",
   "execution_count": null,
   "id": "5c3fed1d-b95e-4c4b-82ac-c6419a783258",
   "metadata": {},
   "outputs": [],
   "source": []
  },
  {
   "cell_type": "code",
   "execution_count": null,
   "id": "00428c74-f85a-4676-ba17-4e259ff8d687",
   "metadata": {},
   "outputs": [],
   "source": []
  },
  {
   "cell_type": "code",
   "execution_count": null,
   "id": "605a05a7-3bcd-4d3d-9c18-643f074989dc",
   "metadata": {},
   "outputs": [],
   "source": []
  },
  {
   "cell_type": "code",
   "execution_count": null,
   "id": "243c01e9-13da-458a-be42-c018d0efe566",
   "metadata": {},
   "outputs": [],
   "source": [
    "# Infinity in python \n",
    "print(float('inf'))\n",
    "print(float('infinity') - 23423432432432 )\n",
    "print(float('INF')+ 12432423432423423342343)\n",
    "print(float('INFinity')+ 1.0)\n",
    "print(float('INFinity')*0)"
   ]
  },
  {
   "cell_type": "code",
   "execution_count": null,
   "id": "e543bc61-ff58-429d-a9d0-1e2106844606",
   "metadata": {},
   "outputs": [],
   "source": [
    "# Write Area of Circle program "
   ]
  },
  {
   "cell_type": "code",
   "execution_count": null,
   "id": "355206d3-4e05-47af-953f-57013b380f9f",
   "metadata": {},
   "outputs": [],
   "source": [
    "math.pi * 5 * 5"
   ]
  },
  {
   "cell_type": "code",
   "execution_count": null,
   "id": "440cbbdd-4c17-4804-be0c-24b897857699",
   "metadata": {},
   "outputs": [],
   "source": []
  },
  {
   "cell_type": "code",
   "execution_count": null,
   "id": "9509c501-f2dd-48dc-9645-9b53336903bc",
   "metadata": {},
   "outputs": [],
   "source": []
  },
  {
   "cell_type": "markdown",
   "id": "dc0eeb7b-2623-435d-a88e-a43b303368b0",
   "metadata": {},
   "source": [
    "### NOTE:\n",
    "    \n",
    "- `math` module provide general math function and constansts\n",
    "    \n",
    "- `cmath` provides utilities to work with complex numbers\n",
    "\n",
    "- `decimal` pacakge utilities to work decimal and floating numbers\n",
    "\n",
    "- `fractions` pacakge utilities to work rational numbers"
   ]
  },
  {
   "cell_type": "markdown",
   "id": "4d998ecc-0de3-40da-a8ee-d61e4ff5423b",
   "metadata": {},
   "source": [
    "# Constants "
   ]
  },
  {
   "cell_type": "code",
   "execution_count": null,
   "id": "452864ff-cc2b-4117-af38-17bd5aa1150e",
   "metadata": {},
   "outputs": [],
   "source": [
    "HEIGHT = 100"
   ]
  },
  {
   "cell_type": "code",
   "execution_count": null,
   "id": "aa8629aa-39d5-4ef1-b4e7-1b648ce9f4b2",
   "metadata": {},
   "outputs": [],
   "source": [
    "print(HEIGHT)"
   ]
  },
  {
   "cell_type": "code",
   "execution_count": null,
   "id": "946da8b4-c193-4fee-9eaa-13d97c07afc6",
   "metadata": {},
   "outputs": [],
   "source": [
    "# you have to power to override this constant anytime in program"
   ]
  },
  {
   "cell_type": "markdown",
   "id": "9476a395-cd20-4dee-9964-7bc95354148f",
   "metadata": {},
   "source": [
    "```\n",
    "class Constant(Enum):\n",
    "    WIDTH = 100\n",
    "    HEIGHT = 100\n",
    "```"
   ]
  },
  {
   "cell_type": "markdown",
   "id": "7a2e415a-d9a3-4837-aedb-1b452eb3f038",
   "metadata": {},
   "source": [
    "# Enum"
   ]
  },
  {
   "cell_type": "code",
   "execution_count": null,
   "id": "eae69943-34b3-4639-9061-6717e6658354",
   "metadata": {},
   "outputs": [],
   "source": [
    "# Enums are readable names that are bound to contant values in python"
   ]
  },
  {
   "cell_type": "code",
   "execution_count": null,
   "id": "4f96b915-d57b-4de8-b005-af8512cd9285",
   "metadata": {},
   "outputs": [],
   "source": [
    "from enum import Enum"
   ]
  },
  {
   "cell_type": "code",
   "execution_count": null,
   "id": "2f86d8cd-f407-4a0b-8bac-304e9d51450a",
   "metadata": {},
   "outputs": [],
   "source": [
    "class State(Enum):\n",
    "    ACTIVE = 1\n",
    "    INACTIVE = 0"
   ]
  },
  {
   "cell_type": "code",
   "execution_count": null,
   "id": "5b174890-b405-4b37-af3f-243e620e83db",
   "metadata": {},
   "outputs": [],
   "source": [
    "print(State.ACTIVE)"
   ]
  },
  {
   "cell_type": "code",
   "execution_count": null,
   "id": "66fe5341-1e72-4f6c-8bc5-e57b5313795d",
   "metadata": {},
   "outputs": [],
   "source": [
    "print(State(1))"
   ]
  },
  {
   "cell_type": "code",
   "execution_count": null,
   "id": "21a64055-7aba-4c18-9980-d996977ab076",
   "metadata": {},
   "outputs": [],
   "source": [
    "# List of all possible values of ENum\n",
    "list(State)"
   ]
  },
  {
   "cell_type": "code",
   "execution_count": null,
   "id": "8a5df5b4-a3e8-4f9e-a0a2-062d34ea0557",
   "metadata": {},
   "outputs": [],
   "source": [
    "print(State.ACTIVE.value)"
   ]
  },
  {
   "cell_type": "code",
   "execution_count": null,
   "id": "652c16e0-f884-4004-b463-2fefcf6e7c9c",
   "metadata": {},
   "outputs": [],
   "source": [
    "# count them\n",
    "len(State)"
   ]
  },
  {
   "cell_type": "code",
   "execution_count": null,
   "id": "bcd8d6d3-754d-4e05-ab5e-7bf11d20140b",
   "metadata": {},
   "outputs": [],
   "source": []
  }
 ],
 "metadata": {
  "kernelspec": {
   "display_name": "Python 3 (ipykernel)",
   "language": "python",
   "name": "python3"
  },
  "language_info": {
   "codemirror_mode": {
    "name": "ipython",
    "version": 3
   },
   "file_extension": ".py",
   "mimetype": "text/x-python",
   "name": "python",
   "nbconvert_exporter": "python",
   "pygments_lexer": "ipython3",
   "version": "3.9.18"
  }
 },
 "nbformat": 4,
 "nbformat_minor": 5
}

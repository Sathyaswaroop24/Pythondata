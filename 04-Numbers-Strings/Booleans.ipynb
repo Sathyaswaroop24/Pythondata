{
 "cells": [
  {
   "cell_type": "markdown",
   "id": "206a0a70-a756-4f5a-9fec-7ad4de139ef9",
   "metadata": {},
   "source": [
    "# Booleans"
   ]
  },
  {
   "cell_type": "markdown",
   "id": "eae824f9-4733-49df-9772-e3ffcef7315d",
   "metadata": {},
   "source": [
    "- Computer understand 1's and 0's (or True or False )\n",
    "\n",
    "- Python has several numeric type and only one logical type: boolean\n"
   ]
  },
  {
   "cell_type": "markdown",
   "id": "772f8855-79f4-4eb6-b51f-b1ecdaf499e4",
   "metadata": {},
   "source": [
    "# Boolean in Python\n",
    "\n",
    "### - Boolean takes two values: True or False\n",
    "\n",
    "### - Booleans are builtin datatypes in Python\n",
    "\n",
    "### - True or False ( not true or false )"
   ]
  },
  {
   "cell_type": "code",
   "execution_count": null,
   "id": "22da06df-1502-404c-935e-c75241c49010",
   "metadata": {},
   "outputs": [],
   "source": [
    "True "
   ]
  },
  {
   "cell_type": "code",
   "execution_count": null,
   "id": "656a8297-e24f-4389-b17f-b1554a14454e",
   "metadata": {},
   "outputs": [],
   "source": [
    "False"
   ]
  },
  {
   "cell_type": "code",
   "execution_count": null,
   "id": "c6d5d397-a54a-4cbe-b085-0d5b90db255f",
   "metadata": {},
   "outputs": [],
   "source": [
    "true"
   ]
  },
  {
   "cell_type": "code",
   "execution_count": null,
   "id": "b09cf98f-6963-4260-9788-318b6e461158",
   "metadata": {},
   "outputs": [],
   "source": [
    "false"
   ]
  },
  {
   "cell_type": "code",
   "execution_count": null,
   "id": "5220a592-6e5c-442b-860f-f78c896bae09",
   "metadata": {},
   "outputs": [],
   "source": []
  },
  {
   "cell_type": "code",
   "execution_count": null,
   "id": "60969b3b-7513-4ed8-b5fc-d2fd0d048c01",
   "metadata": {},
   "outputs": [],
   "source": []
  },
  {
   "cell_type": "code",
   "execution_count": null,
   "id": "1dd5df3d-0157-44fc-ad4e-c0029faf3f83",
   "metadata": {},
   "outputs": [],
   "source": [
    "# Boolean are commonly encounter with comparisions\n",
    "a = 3\n",
    "b = 4\n",
    "\n",
    "a == 4"
   ]
  },
  {
   "cell_type": "code",
   "execution_count": null,
   "id": "2d29c125-ba03-4bd6-af48-47248c825005",
   "metadata": {},
   "outputs": [],
   "source": [
    "# Not equal operator\n",
    "a != b"
   ]
  },
  {
   "cell_type": "code",
   "execution_count": null,
   "id": "95282a6f-d451-42d5-bf3d-3576495c65c1",
   "metadata": {},
   "outputs": [],
   "source": [
    "# equallity test\n",
    "a > b"
   ]
  },
  {
   "cell_type": "code",
   "execution_count": null,
   "id": "fd4cbed3-1903-4acf-82b3-d0279883a6a9",
   "metadata": {},
   "outputs": [],
   "source": [
    "b >= a"
   ]
  },
  {
   "cell_type": "code",
   "execution_count": null,
   "id": "cdfd68ed-3cd4-483d-9f7b-37fc81160962",
   "metadata": {},
   "outputs": [],
   "source": []
  },
  {
   "cell_type": "code",
   "execution_count": null,
   "id": "6285531c-50bb-4882-96fe-e6de49c788d4",
   "metadata": {},
   "outputs": [],
   "source": []
  },
  {
   "cell_type": "code",
   "execution_count": null,
   "id": "599ad6bc-532e-47ca-86d1-a43b61f8cce0",
   "metadata": {},
   "outputs": [],
   "source": [
    "type(True)"
   ]
  },
  {
   "cell_type": "code",
   "execution_count": null,
   "id": "61ff9ceb-f26d-43c1-8a33-9b34eaf0ab6a",
   "metadata": {},
   "outputs": [],
   "source": [
    "type(False)"
   ]
  },
  {
   "cell_type": "code",
   "execution_count": null,
   "id": "0b47eee6-f95c-4e9c-946b-e96b984d77ce",
   "metadata": {},
   "outputs": [],
   "source": [
    "# This suggest another way to create booleans: by passing values to boolean constructor \n",
    "bool(28)"
   ]
  },
  {
   "cell_type": "code",
   "execution_count": null,
   "id": "1d167cec-53f5-49a4-a242-2f11b6f651d7",
   "metadata": {},
   "outputs": [],
   "source": [
    "bool(-3.142)"
   ]
  },
  {
   "cell_type": "code",
   "execution_count": null,
   "id": "b481c006-5949-49e2-8d3d-5430be61beb7",
   "metadata": {},
   "outputs": [],
   "source": [
    "bool(0)"
   ]
  },
  {
   "cell_type": "code",
   "execution_count": null,
   "id": "357df271-ecb5-4ea6-bea5-ca124368b25d",
   "metadata": {},
   "outputs": [],
   "source": [
    "bool('codelocked')"
   ]
  },
  {
   "cell_type": "code",
   "execution_count": null,
   "id": "37de4260-87e3-4c28-bada-57e88800c45a",
   "metadata": {},
   "outputs": [],
   "source": [
    "bool(\" \")"
   ]
  },
  {
   "cell_type": "code",
   "execution_count": null,
   "id": "1f2b4891-9abb-4379-85e1-a1ac4f63272d",
   "metadata": {},
   "outputs": [],
   "source": [
    "bool(\"\")"
   ]
  },
  {
   "cell_type": "markdown",
   "id": "cf0f1190-77bb-4b44-a23d-7e4127bfa0d9",
   "metadata": {},
   "source": [
    "# Boolean Conversions\n",
    "\n",
    "### Trivial ----> False\n",
    "\n",
    "### Non-trival ---> True"
   ]
  },
  {
   "cell_type": "markdown",
   "id": "81ca1337-8f35-4a4c-ae3b-38dfcb61fbe1",
   "metadata": {},
   "source": [
    "#### Converting boolean values to otehr types\n"
   ]
  },
  {
   "cell_type": "code",
   "execution_count": null,
   "id": "b807f08f-3c9a-4097-bea4-37117388aa8a",
   "metadata": {},
   "outputs": [],
   "source": [
    "str(True)"
   ]
  },
  {
   "cell_type": "code",
   "execution_count": null,
   "id": "e7714f7c-3cce-42b0-971d-bf99def0febe",
   "metadata": {},
   "outputs": [],
   "source": [
    "int(True)"
   ]
  },
  {
   "cell_type": "code",
   "execution_count": null,
   "id": "a1435c24-12cb-45d7-ab19-f9ebfd7ae4d7",
   "metadata": {},
   "outputs": [],
   "source": [
    "int(False)"
   ]
  },
  {
   "cell_type": "code",
   "execution_count": null,
   "id": "d66771c2-971e-42d3-a4f1-48e21f868051",
   "metadata": {},
   "outputs": [],
   "source": [
    "# Add a number and boolean\n",
    "5 + True"
   ]
  },
  {
   "cell_type": "code",
   "execution_count": null,
   "id": "f6bff430-8fa8-43f7-9ed8-94ef2ca2dac2",
   "metadata": {},
   "outputs": [],
   "source": [
    "10 * False"
   ]
  },
  {
   "cell_type": "markdown",
   "id": "1d5f5b48-00a7-4302-8ea0-118099418a21",
   "metadata": {},
   "source": [
    "#  1   <----->  True\n",
    "#  0   <-----> False"
   ]
  },
  {
   "cell_type": "code",
   "execution_count": null,
   "id": "21a7e211-b671-4438-ba10-698750683993",
   "metadata": {},
   "outputs": [],
   "source": []
  },
  {
   "cell_type": "code",
   "execution_count": null,
   "id": "4bef4444-98a7-47f2-b76f-82cfca075425",
   "metadata": {},
   "outputs": [],
   "source": []
  },
  {
   "cell_type": "code",
   "execution_count": null,
   "id": "ab7403b7-114c-4be0-b0d2-e83985b19a21",
   "metadata": {},
   "outputs": [],
   "source": []
  },
  {
   "cell_type": "code",
   "execution_count": null,
   "id": "eae9668c-393a-4ecb-b722-177be9a314aa",
   "metadata": {},
   "outputs": [],
   "source": [
    "not True"
   ]
  },
  {
   "cell_type": "code",
   "execution_count": null,
   "id": "79b83519-453c-49c6-95d0-4654d9754dc3",
   "metadata": {},
   "outputs": [],
   "source": [
    "not False"
   ]
  },
  {
   "cell_type": "markdown",
   "id": "c31405e5-9840-4a4e-9720-0baeb2a8c9ec",
   "metadata": {},
   "source": [
    "# The and Boolean Operator\n",
    "\n",
    "|A | B | A and B |\n",
    "|-----|------|-----|\n",
    "|True| True |True|\n",
    "|False| True |False|\n",
    "|True| False |False|\n",
    "|False| False |False|"
   ]
  },
  {
   "cell_type": "markdown",
   "id": "6bb80e7f-6c56-4c54-8674-75090701fe96",
   "metadata": {},
   "source": [
    "# The or boolean Operator \n",
    "\n",
    "|A | B | A or B |\n",
    "|-----|------|-----|\n",
    "|True| True |True|\n",
    "|False| True |True|\n",
    "|True| False |True|\n",
    "|False| False |False|"
   ]
  },
  {
   "cell_type": "code",
   "execution_count": null,
   "id": "99ab8e4a-7d06-40e9-b149-14584f0a05fd",
   "metadata": {},
   "outputs": [],
   "source": []
  }
 ],
 "metadata": {
  "kernelspec": {
   "display_name": "Python 3 (ipykernel)",
   "language": "python",
   "name": "python3"
  },
  "language_info": {
   "codemirror_mode": {
    "name": "ipython",
    "version": 3
   },
   "file_extension": ".py",
   "mimetype": "text/x-python",
   "name": "python",
   "nbconvert_exporter": "python",
   "pygments_lexer": "ipython3",
   "version": "3.9.13"
  }
 },
 "nbformat": 4,
 "nbformat_minor": 5
}

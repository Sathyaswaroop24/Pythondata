{
 "cells": [
  {
   "cell_type": "markdown",
   "id": "a5a734dd-8754-4012-adaf-579e63405b39",
   "metadata": {},
   "source": [
    "# Python Modules\n",
    "\n",
    "- Any text file with the `.py` extension containing Python code is basically a module\n",
    "\n",
    "- Different Python objects such as functions, classes, variables, constants, etc., defined in one module can be made available to an interpreter session or another Python script by using the `import` statement.\n",
    "\n",
    "- If the programming algorithm requires defining a lot of functions and classes, they are logically organized in modules.\n",
    "\n",
    "- One module stores classes, functions, and other resources of similar relevance.\n",
    "\n",
    "- The modular structure of the code makes it easy to understand, use, and maintain."
   ]
  },
  {
   "cell_type": "markdown",
   "id": "8db897ee-e515-42d4-8dae-8f98ae061f63",
   "metadata": {},
   "source": [
    "### Creating module "
   ]
  },
  {
   "cell_type": "code",
   "execution_count": 1,
   "id": "a522e092-a66f-4eb2-bf26-939b5a999622",
   "metadata": {},
   "outputs": [],
   "source": [
    "# calculator.py"
   ]
  },
  {
   "cell_type": "markdown",
   "id": "e42c4557-950b-433a-ab7f-ab1ba3b3cfe6",
   "metadata": {},
   "source": [
    "### Importing a Module"
   ]
  },
  {
   "cell_type": "code",
   "execution_count": 2,
   "id": "90c4b136-3b63-4e9c-81aa-cb141fc842f3",
   "metadata": {},
   "outputs": [],
   "source": [
    "import calculator"
   ]
  },
  {
   "cell_type": "code",
   "execution_count": 3,
   "id": "22047e0e-49de-49cc-ad7b-5e1237d53871",
   "metadata": {},
   "outputs": [
    {
     "ename": "NameError",
     "evalue": "name 'calc' is not defined",
     "output_type": "error",
     "traceback": [
      "\u001b[0;31m---------------------------------------------------------------------------\u001b[0m",
      "\u001b[0;31mNameError\u001b[0m                                 Traceback (most recent call last)",
      "Cell \u001b[0;32mIn[3], line 1\u001b[0m\n\u001b[0;32m----> 1\u001b[0m \u001b[38;5;28mprint\u001b[39m(\u001b[38;5;28mtype\u001b[39m(\u001b[43mcalc\u001b[49m))\n",
      "\u001b[0;31mNameError\u001b[0m: name 'calc' is not defined"
     ]
    }
   ],
   "source": [
    "print(type(calc))"
   ]
  },
  {
   "cell_type": "code",
   "execution_count": 4,
   "id": "d68edd2c-ddcd-48ad-8787-dd339d17a2b7",
   "metadata": {},
   "outputs": [],
   "source": [
    "from calculator import *"
   ]
  },
  {
   "cell_type": "code",
   "execution_count": 5,
   "id": "de6ea982-7312-43e7-8ac8-d995f667027a",
   "metadata": {},
   "outputs": [
    {
     "name": "stdout",
     "output_type": "stream",
     "text": [
      "<class 'function'>\n"
     ]
    }
   ],
   "source": [
    "print(type(calc))"
   ]
  },
  {
   "cell_type": "code",
   "execution_count": 6,
   "id": "5679e81c-4807-4ae7-9af3-c252446fc2b1",
   "metadata": {},
   "outputs": [],
   "source": [
    "from calculator import calc"
   ]
  },
  {
   "cell_type": "code",
   "execution_count": 7,
   "id": "0366c519-9a96-4dad-ae1a-8d547fd3f919",
   "metadata": {},
   "outputs": [
    {
     "name": "stdout",
     "output_type": "stream",
     "text": [
      "<class 'function'>\n"
     ]
    }
   ],
   "source": [
    "print(type(calc))"
   ]
  },
  {
   "cell_type": "code",
   "execution_count": null,
   "id": "6b1f2ab6-b501-4be7-bc59-c7e75f71c8a9",
   "metadata": {},
   "outputs": [],
   "source": []
  },
  {
   "cell_type": "code",
   "execution_count": null,
   "id": "b626f7eb-918a-490a-b49e-8cd0e4667464",
   "metadata": {},
   "outputs": [],
   "source": []
  },
  {
   "cell_type": "code",
   "execution_count": null,
   "id": "e9fdd00d-3c85-4aee-9a76-58322972326c",
   "metadata": {},
   "outputs": [],
   "source": []
  }
 ],
 "metadata": {
  "kernelspec": {
   "display_name": "Python 3 (ipykernel)",
   "language": "python",
   "name": "python3"
  },
  "language_info": {
   "codemirror_mode": {
    "name": "ipython",
    "version": 3
   },
   "file_extension": ".py",
   "mimetype": "text/x-python",
   "name": "python",
   "nbconvert_exporter": "python",
   "pygments_lexer": "ipython3",
   "version": "3.9.13"
  }
 },
 "nbformat": 4,
 "nbformat_minor": 5
}

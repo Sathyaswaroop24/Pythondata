{
 "cells": [
  {
   "cell_type": "markdown",
   "id": "b3b7bc83-ea59-4ed9-b528-6415a4d54634",
   "metadata": {},
   "source": [
    "## Python has six built-in types of sequences"
   ]
  },
  {
   "cell_type": "code",
   "execution_count": 1,
   "id": "af38160a-af7e-4cd0-898b-6c727ea005b2",
   "metadata": {},
   "outputs": [],
   "source": [
    "# strings, lists, tuples, byte sequences, byte arrays, and range objects"
   ]
  },
  {
   "cell_type": "markdown",
   "id": "658effe3-6213-4580-be51-fb247af60104",
   "metadata": {},
   "source": [
    "# Tuples\n",
    "\n",
    "-  sequence of immutable Python objects\n",
    "\n",
    "-  tuples cannot be changed unlike lists\n",
    "\n",
    "-  Tuples use parentheses, whereas lists use square brackets."
   ]
  },
  {
   "cell_type": "code",
   "execution_count": 1,
   "id": "7263ceef-e949-499c-b87b-e964b550a756",
   "metadata": {},
   "outputs": [],
   "source": [
    "# Create empty tuples \n",
    "\n",
    "a = ()\n",
    "b = tuple()"
   ]
  },
  {
   "cell_type": "code",
   "execution_count": 2,
   "id": "1d87d8ae-19a3-482f-a015-bb9fc36df471",
   "metadata": {},
   "outputs": [
    {
     "data": {
      "text/plain": [
       "()"
      ]
     },
     "execution_count": 2,
     "metadata": {},
     "output_type": "execute_result"
    }
   ],
   "source": [
    "a"
   ]
  },
  {
   "cell_type": "code",
   "execution_count": 3,
   "id": "a8e8707b-37a8-4a7e-81b9-0366ca044de8",
   "metadata": {},
   "outputs": [
    {
     "data": {
      "text/plain": [
       "()"
      ]
     },
     "execution_count": 3,
     "metadata": {},
     "output_type": "execute_result"
    }
   ],
   "source": [
    "b"
   ]
  },
  {
   "cell_type": "code",
   "execution_count": 4,
   "id": "e4737ada-ec6f-4cd0-a10f-77fe3a31e6d8",
   "metadata": {},
   "outputs": [
    {
     "data": {
      "text/plain": [
       "tuple"
      ]
     },
     "execution_count": 4,
     "metadata": {},
     "output_type": "execute_result"
    }
   ],
   "source": [
    "type(a)"
   ]
  },
  {
   "cell_type": "code",
   "execution_count": 11,
   "id": "0a376e87-8a4d-4361-a16b-66ee5735353b",
   "metadata": {},
   "outputs": [
    {
     "data": {
      "text/plain": [
       "tuple"
      ]
     },
     "execution_count": 11,
     "metadata": {},
     "output_type": "execute_result"
    }
   ],
   "source": [
    "type(b)"
   ]
  },
  {
   "cell_type": "code",
   "execution_count": 6,
   "id": "37f5a549-325d-4c3e-b3ea-3b9d0329033b",
   "metadata": {},
   "outputs": [],
   "source": [
    "tuple1 = ('python', 'java', 1989, 2023)\n",
    "tuple2 = (1, 2, 3, 4, 5 )\n",
    "tuple3 = (\"a\", \"b\", \"c\", \"d\")"
   ]
  },
  {
   "cell_type": "code",
   "execution_count": 9,
   "id": "9643bef9-4c27-4943-b267-b23932f6109b",
   "metadata": {},
   "outputs": [
    {
     "data": {
      "text/plain": [
       "50"
      ]
     },
     "execution_count": 9,
     "metadata": {},
     "output_type": "execute_result"
    }
   ],
   "source": [
    "tuple_test = (50)\n",
    "tuple_test"
   ]
  },
  {
   "cell_type": "code",
   "execution_count": 10,
   "id": "7feebd42-f0f2-4c71-980d-e4da14997d42",
   "metadata": {},
   "outputs": [
    {
     "data": {
      "text/plain": [
       "(50,)"
      ]
     },
     "execution_count": 10,
     "metadata": {},
     "output_type": "execute_result"
    }
   ],
   "source": [
    "tuple_test = (50,)\n",
    "tuple_test"
   ]
  },
  {
   "cell_type": "markdown",
   "id": "df5eb96a-522f-4010-89d3-a8cb4cdf06b5",
   "metadata": {},
   "source": [
    "## Accessing Values in Lists"
   ]
  },
  {
   "cell_type": "code",
   "execution_count": 14,
   "id": "1d3f3a6c-f72f-48a0-a741-a98d49eeb068",
   "metadata": {},
   "outputs": [
    {
     "data": {
      "text/plain": [
       "('python', 'java', 1989, 2023)"
      ]
     },
     "execution_count": 14,
     "metadata": {},
     "output_type": "execute_result"
    }
   ],
   "source": [
    "tuple1[:]"
   ]
  },
  {
   "cell_type": "code",
   "execution_count": 15,
   "id": "17589b97-7cf4-4899-90c4-af46512c1997",
   "metadata": {},
   "outputs": [
    {
     "data": {
      "text/plain": [
       "('python',)"
      ]
     },
     "execution_count": 15,
     "metadata": {},
     "output_type": "execute_result"
    }
   ],
   "source": [
    "tuple1[:1]"
   ]
  },
  {
   "cell_type": "code",
   "execution_count": 16,
   "id": "6ae5b0db-97f9-4e69-9c51-eb99b1d9def8",
   "metadata": {},
   "outputs": [
    {
     "data": {
      "text/plain": [
       "1989"
      ]
     },
     "execution_count": 16,
     "metadata": {},
     "output_type": "execute_result"
    }
   ],
   "source": [
    "tuple1[2]"
   ]
  },
  {
   "cell_type": "code",
   "execution_count": null,
   "id": "dc81ed47-3103-4c49-bb03-a0dce6f7fadd",
   "metadata": {},
   "outputs": [],
   "source": []
  },
  {
   "cell_type": "markdown",
   "id": "fdd8dce0-ceee-437f-a1b3-448820a576cb",
   "metadata": {},
   "source": [
    "## Updating Lists"
   ]
  },
  {
   "cell_type": "code",
   "execution_count": 18,
   "id": "8dae92ed-7dda-4e27-9459-70586e2f596b",
   "metadata": {},
   "outputs": [
    {
     "ename": "TypeError",
     "evalue": "'tuple' object does not support item assignment",
     "output_type": "error",
     "traceback": [
      "\u001b[0;31m---------------------------------------------------------------------------\u001b[0m",
      "\u001b[0;31mTypeError\u001b[0m                                 Traceback (most recent call last)",
      "Input \u001b[0;32mIn [18]\u001b[0m, in \u001b[0;36m<cell line: 1>\u001b[0;34m()\u001b[0m\n\u001b[0;32m----> 1\u001b[0m tuple1[\u001b[38;5;241m2\u001b[39m] \u001b[38;5;241m=\u001b[39m \u001b[38;5;124m\"\u001b[39m\u001b[38;5;124mRust\u001b[39m\u001b[38;5;124m\"\u001b[39m\n",
      "\u001b[0;31mTypeError\u001b[0m: 'tuple' object does not support item assignment"
     ]
    }
   ],
   "source": [
    "tuple1[2] = \"Rust\""
   ]
  },
  {
   "cell_type": "markdown",
   "id": "3ad17325-c875-4b8c-bc85-938361dc4726",
   "metadata": {},
   "source": [
    "## Delete List Elements"
   ]
  },
  {
   "cell_type": "markdown",
   "id": "dfd9664c-2813-4e06-b22d-0e62dd553c0c",
   "metadata": {},
   "source": [
    "## Basic List Operations"
   ]
  },
  {
   "cell_type": "code",
   "execution_count": 20,
   "id": "e38b045e-0a0e-44fd-b146-54f2e24275f8",
   "metadata": {},
   "outputs": [
    {
     "data": {
      "text/plain": [
       "4"
      ]
     },
     "execution_count": 20,
     "metadata": {},
     "output_type": "execute_result"
    }
   ],
   "source": [
    "# Length\n",
    "len(tuple1)"
   ]
  },
  {
   "cell_type": "code",
   "execution_count": 21,
   "id": "88dc7784-035a-4bcf-91cd-87c1e42e66dc",
   "metadata": {},
   "outputs": [
    {
     "data": {
      "text/plain": [
       "('python', 'java', 1989, 2023, 1, 2, 3, 4, 5)"
      ]
     },
     "execution_count": 21,
     "metadata": {},
     "output_type": "execute_result"
    }
   ],
   "source": [
    "# Concatenation\n",
    "tuple1 + tuple2"
   ]
  },
  {
   "cell_type": "code",
   "execution_count": 22,
   "id": "df5fe319-7f1d-4c02-9a71-113e1c0e5e5f",
   "metadata": {},
   "outputs": [
    {
     "data": {
      "text/plain": [
       "('python',\n",
       " 'java',\n",
       " 1989,\n",
       " 2023,\n",
       " 'python',\n",
       " 'java',\n",
       " 1989,\n",
       " 2023,\n",
       " 'python',\n",
       " 'java',\n",
       " 1989,\n",
       " 2023,\n",
       " 'python',\n",
       " 'java',\n",
       " 1989,\n",
       " 2023)"
      ]
     },
     "execution_count": 22,
     "metadata": {},
     "output_type": "execute_result"
    }
   ],
   "source": [
    "# Repetition\n",
    "tuple1 * 4"
   ]
  },
  {
   "cell_type": "code",
   "execution_count": 23,
   "id": "46c25b62-eddb-4655-a25e-960f880e0d4a",
   "metadata": {},
   "outputs": [
    {
     "data": {
      "text/plain": [
       "False"
      ]
     },
     "execution_count": 23,
     "metadata": {},
     "output_type": "execute_result"
    }
   ],
   "source": [
    "# Membership\n",
    "3 in tuple1"
   ]
  },
  {
   "cell_type": "code",
   "execution_count": 24,
   "id": "21192a04-50c5-43ae-8d2d-153b3e80900d",
   "metadata": {},
   "outputs": [
    {
     "name": "stdout",
     "output_type": "stream",
     "text": [
      "python java 1989 2023 "
     ]
    }
   ],
   "source": [
    "# Iteration\n",
    "for x in tuple1 : print (x,end = ' ')"
   ]
  },
  {
   "cell_type": "code",
   "execution_count": null,
   "id": "71d4a1b2-b997-468d-8357-591c8fdef3d6",
   "metadata": {},
   "outputs": [],
   "source": []
  },
  {
   "cell_type": "markdown",
   "id": "b6a3e969-c8d5-46c6-aace-71103b026d3d",
   "metadata": {},
   "source": [
    "## Indexing, Slicing and Matrixes"
   ]
  },
  {
   "cell_type": "code",
   "execution_count": 25,
   "id": "0e324e55-4af3-4519-acf1-ae58f5c31ee8",
   "metadata": {},
   "outputs": [],
   "source": [
    "lang = ('C++', 'Java', 'Python')"
   ]
  },
  {
   "cell_type": "code",
   "execution_count": 26,
   "id": "31c2b030-d242-4c8a-abe6-31d8ec056f6a",
   "metadata": {},
   "outputs": [
    {
     "data": {
      "text/plain": [
       "'C++'"
      ]
     },
     "execution_count": 26,
     "metadata": {},
     "output_type": "execute_result"
    }
   ],
   "source": [
    "lang[0]"
   ]
  },
  {
   "cell_type": "code",
   "execution_count": 27,
   "id": "8f332bf3-2622-473b-baf4-fb6335f18eef",
   "metadata": {},
   "outputs": [
    {
     "data": {
      "text/plain": [
       "'Python'"
      ]
     },
     "execution_count": 27,
     "metadata": {},
     "output_type": "execute_result"
    }
   ],
   "source": [
    "lang[2]"
   ]
  },
  {
   "cell_type": "code",
   "execution_count": 28,
   "id": "364bb553-a0c3-4a39-ac79-933b3e59adcb",
   "metadata": {},
   "outputs": [
    {
     "data": {
      "text/plain": [
       "'Java'"
      ]
     },
     "execution_count": 28,
     "metadata": {},
     "output_type": "execute_result"
    }
   ],
   "source": [
    "lang[-2]"
   ]
  },
  {
   "cell_type": "code",
   "execution_count": 29,
   "id": "7466e000-1fab-4ecb-a396-bb8835700422",
   "metadata": {},
   "outputs": [
    {
     "data": {
      "text/plain": [
       "('C++',)"
      ]
     },
     "execution_count": 29,
     "metadata": {},
     "output_type": "execute_result"
    }
   ],
   "source": [
    "lang[:1]"
   ]
  },
  {
   "cell_type": "code",
   "execution_count": 30,
   "id": "e7ce4add-5e33-44d7-8fe8-ccba2037714f",
   "metadata": {},
   "outputs": [
    {
     "data": {
      "text/plain": [
       "('Java', 'Python')"
      ]
     },
     "execution_count": 30,
     "metadata": {},
     "output_type": "execute_result"
    }
   ],
   "source": [
    "lang[1:]"
   ]
  },
  {
   "cell_type": "code",
   "execution_count": null,
   "id": "6274acd4-2bd2-4070-b551-2fa4fe957a27",
   "metadata": {},
   "outputs": [],
   "source": []
  },
  {
   "cell_type": "markdown",
   "id": "1dda12bc-9f3f-4ff8-ab5d-00891baf7663",
   "metadata": {},
   "source": [
    "## Built-in Tuple Functions and Methods"
   ]
  },
  {
   "cell_type": "code",
   "execution_count": 33,
   "id": "3f13c3b0-ba74-4c2e-ade4-4aa9c5c890e1",
   "metadata": {},
   "outputs": [],
   "source": [
    "#### Tuple Functions "
   ]
  },
  {
   "cell_type": "code",
   "execution_count": 34,
   "id": "d7fdbd53-1882-4682-8fd8-2fa5cfd001b0",
   "metadata": {},
   "outputs": [],
   "source": [
    "l = (12,234,3434,3,3,343,343,34,23,2343)"
   ]
  },
  {
   "cell_type": "code",
   "execution_count": 35,
   "id": "d1f6b792-288e-4af3-a190-4362d7e92147",
   "metadata": {},
   "outputs": [
    {
     "data": {
      "text/plain": [
       "10"
      ]
     },
     "execution_count": 35,
     "metadata": {},
     "output_type": "execute_result"
    }
   ],
   "source": [
    "len(l)"
   ]
  },
  {
   "cell_type": "code",
   "execution_count": 36,
   "id": "ee0527ee-5435-41ed-a73e-fa50dd983cb2",
   "metadata": {},
   "outputs": [
    {
     "data": {
      "text/plain": [
       "3434"
      ]
     },
     "execution_count": 36,
     "metadata": {},
     "output_type": "execute_result"
    }
   ],
   "source": [
    "max(l)"
   ]
  },
  {
   "cell_type": "code",
   "execution_count": 37,
   "id": "775c9957-7357-4629-b26a-152fc0aafb7c",
   "metadata": {},
   "outputs": [
    {
     "data": {
      "text/plain": [
       "3"
      ]
     },
     "execution_count": 37,
     "metadata": {},
     "output_type": "execute_result"
    }
   ],
   "source": [
    "min(l)"
   ]
  },
  {
   "cell_type": "code",
   "execution_count": 38,
   "id": "172b3864-f48b-46a6-b520-61cc3c476489",
   "metadata": {},
   "outputs": [
    {
     "data": {
      "text/plain": [
       "[12, 234, 3434, 3, 3, 343, 343, 34, 23, 2343]"
      ]
     },
     "execution_count": 38,
     "metadata": {},
     "output_type": "execute_result"
    }
   ],
   "source": [
    "list(tuple(l))"
   ]
  },
  {
   "cell_type": "code",
   "execution_count": null,
   "id": "42e1c07e-7dda-46df-8149-c92096d5e23e",
   "metadata": {},
   "outputs": [],
   "source": []
  },
  {
   "cell_type": "markdown",
   "id": "eb2bd485-169c-4032-925c-1456e1758c78",
   "metadata": {},
   "source": [
    "####  Tuple Methods "
   ]
  },
  {
   "cell_type": "code",
   "execution_count": 39,
   "id": "d3ab9555-e8bd-4ef4-b851-6033ad49a360",
   "metadata": {},
   "outputs": [],
   "source": [
    "marks = (70,78,56,79)"
   ]
  },
  {
   "cell_type": "code",
   "execution_count": 40,
   "id": "224f72b9-0ab8-47a6-9d8a-c1346a799fed",
   "metadata": {},
   "outputs": [
    {
     "ename": "AttributeError",
     "evalue": "'tuple' object has no attribute 'append'",
     "output_type": "error",
     "traceback": [
      "\u001b[0;31m---------------------------------------------------------------------------\u001b[0m",
      "\u001b[0;31mAttributeError\u001b[0m                            Traceback (most recent call last)",
      "Input \u001b[0;32mIn [40]\u001b[0m, in \u001b[0;36m<cell line: 1>\u001b[0;34m()\u001b[0m\n\u001b[0;32m----> 1\u001b[0m \u001b[43mmarks\u001b[49m\u001b[38;5;241;43m.\u001b[39;49m\u001b[43mappend\u001b[49m(\u001b[38;5;241m70\u001b[39m)\n\u001b[1;32m      2\u001b[0m marks\n",
      "\u001b[0;31mAttributeError\u001b[0m: 'tuple' object has no attribute 'append'"
     ]
    }
   ],
   "source": [
    "marks.append(70)\n",
    "marks"
   ]
  },
  {
   "cell_type": "code",
   "execution_count": 41,
   "id": "cc0eac53-5109-4a29-99c1-106030eef610",
   "metadata": {},
   "outputs": [
    {
     "data": {
      "text/plain": [
       "1"
      ]
     },
     "execution_count": 41,
     "metadata": {},
     "output_type": "execute_result"
    }
   ],
   "source": [
    "marks.count(70)"
   ]
  },
  {
   "cell_type": "code",
   "execution_count": 42,
   "id": "c711f46a-0afc-4f36-934d-8ff2d7510977",
   "metadata": {},
   "outputs": [
    {
     "ename": "AttributeError",
     "evalue": "'tuple' object has no attribute 'extend'",
     "output_type": "error",
     "traceback": [
      "\u001b[0;31m---------------------------------------------------------------------------\u001b[0m",
      "\u001b[0;31mAttributeError\u001b[0m                            Traceback (most recent call last)",
      "Input \u001b[0;32mIn [42]\u001b[0m, in \u001b[0;36m<cell line: 1>\u001b[0;34m()\u001b[0m\n\u001b[0;32m----> 1\u001b[0m \u001b[43mmarks\u001b[49m\u001b[38;5;241;43m.\u001b[39;49m\u001b[43mextend\u001b[49m([\u001b[38;5;241m80\u001b[39m,\u001b[38;5;241m98\u001b[39m])\n\u001b[1;32m      2\u001b[0m marks\n",
      "\u001b[0;31mAttributeError\u001b[0m: 'tuple' object has no attribute 'extend'"
     ]
    }
   ],
   "source": [
    "marks.extend([80,98])\n",
    "marks"
   ]
  },
  {
   "cell_type": "code",
   "execution_count": 43,
   "id": "cd361076-4e51-43a3-a1f0-4501e323b105",
   "metadata": {},
   "outputs": [
    {
     "data": {
      "text/plain": [
       "0"
      ]
     },
     "execution_count": 43,
     "metadata": {},
     "output_type": "execute_result"
    }
   ],
   "source": [
    "marks.index(70)"
   ]
  },
  {
   "cell_type": "code",
   "execution_count": 44,
   "id": "efa1d681-676f-4bbd-9068-8a3ca437c6e2",
   "metadata": {},
   "outputs": [
    {
     "ename": "AttributeError",
     "evalue": "'tuple' object has no attribute 'insert'",
     "output_type": "error",
     "traceback": [
      "\u001b[0;31m---------------------------------------------------------------------------\u001b[0m",
      "\u001b[0;31mAttributeError\u001b[0m                            Traceback (most recent call last)",
      "Input \u001b[0;32mIn [44]\u001b[0m, in \u001b[0;36m<cell line: 1>\u001b[0;34m()\u001b[0m\n\u001b[0;32m----> 1\u001b[0m \u001b[43mmarks\u001b[49m\u001b[38;5;241;43m.\u001b[39;49m\u001b[43minsert\u001b[49m(\u001b[38;5;241m2\u001b[39m, \u001b[38;5;241m100\u001b[39m)\n\u001b[1;32m      2\u001b[0m marks\n",
      "\u001b[0;31mAttributeError\u001b[0m: 'tuple' object has no attribute 'insert'"
     ]
    }
   ],
   "source": [
    "marks.insert(2, 100)\n",
    "marks"
   ]
  },
  {
   "cell_type": "code",
   "execution_count": 45,
   "id": "75326871-ea8c-4793-a4b4-f83d1e9d35c5",
   "metadata": {},
   "outputs": [
    {
     "ename": "AttributeError",
     "evalue": "'tuple' object has no attribute 'pop'",
     "output_type": "error",
     "traceback": [
      "\u001b[0;31m---------------------------------------------------------------------------\u001b[0m",
      "\u001b[0;31mAttributeError\u001b[0m                            Traceback (most recent call last)",
      "Input \u001b[0;32mIn [45]\u001b[0m, in \u001b[0;36m<cell line: 1>\u001b[0;34m()\u001b[0m\n\u001b[0;32m----> 1\u001b[0m \u001b[43mmarks\u001b[49m\u001b[38;5;241;43m.\u001b[39;49m\u001b[43mpop\u001b[49m()\n",
      "\u001b[0;31mAttributeError\u001b[0m: 'tuple' object has no attribute 'pop'"
     ]
    }
   ],
   "source": [
    "marks.pop()"
   ]
  },
  {
   "cell_type": "code",
   "execution_count": 46,
   "id": "25a47a94-0bdb-45ae-9060-82408abe15d9",
   "metadata": {},
   "outputs": [
    {
     "ename": "AttributeError",
     "evalue": "'tuple' object has no attribute 'remove'",
     "output_type": "error",
     "traceback": [
      "\u001b[0;31m---------------------------------------------------------------------------\u001b[0m",
      "\u001b[0;31mAttributeError\u001b[0m                            Traceback (most recent call last)",
      "Input \u001b[0;32mIn [46]\u001b[0m, in \u001b[0;36m<cell line: 1>\u001b[0;34m()\u001b[0m\n\u001b[0;32m----> 1\u001b[0m \u001b[43mmarks\u001b[49m\u001b[38;5;241;43m.\u001b[39;49m\u001b[43mremove\u001b[49m(\u001b[38;5;241m80\u001b[39m)\n\u001b[1;32m      2\u001b[0m marks\n",
      "\u001b[0;31mAttributeError\u001b[0m: 'tuple' object has no attribute 'remove'"
     ]
    }
   ],
   "source": [
    "marks.remove(80)\n",
    "marks"
   ]
  },
  {
   "cell_type": "code",
   "execution_count": 47,
   "id": "58b5ad85-8d49-4315-a546-6e255235c636",
   "metadata": {},
   "outputs": [
    {
     "ename": "AttributeError",
     "evalue": "'tuple' object has no attribute 'reverse'",
     "output_type": "error",
     "traceback": [
      "\u001b[0;31m---------------------------------------------------------------------------\u001b[0m",
      "\u001b[0;31mAttributeError\u001b[0m                            Traceback (most recent call last)",
      "Input \u001b[0;32mIn [47]\u001b[0m, in \u001b[0;36m<cell line: 1>\u001b[0;34m()\u001b[0m\n\u001b[0;32m----> 1\u001b[0m \u001b[43mmarks\u001b[49m\u001b[38;5;241;43m.\u001b[39;49m\u001b[43mreverse\u001b[49m()\n\u001b[1;32m      2\u001b[0m marks\n",
      "\u001b[0;31mAttributeError\u001b[0m: 'tuple' object has no attribute 'reverse'"
     ]
    }
   ],
   "source": [
    "marks.reverse()\n",
    "marks"
   ]
  },
  {
   "cell_type": "code",
   "execution_count": 48,
   "id": "70899475-9b5a-42fe-9f76-b2c4fda0c98f",
   "metadata": {},
   "outputs": [
    {
     "ename": "AttributeError",
     "evalue": "'tuple' object has no attribute 'sort'",
     "output_type": "error",
     "traceback": [
      "\u001b[0;31m---------------------------------------------------------------------------\u001b[0m",
      "\u001b[0;31mAttributeError\u001b[0m                            Traceback (most recent call last)",
      "Input \u001b[0;32mIn [48]\u001b[0m, in \u001b[0;36m<cell line: 1>\u001b[0;34m()\u001b[0m\n\u001b[0;32m----> 1\u001b[0m \u001b[43mmarks\u001b[49m\u001b[38;5;241;43m.\u001b[39;49m\u001b[43msort\u001b[49m()\n\u001b[1;32m      2\u001b[0m marks\n",
      "\u001b[0;31mAttributeError\u001b[0m: 'tuple' object has no attribute 'sort'"
     ]
    }
   ],
   "source": [
    "marks.sort()\n",
    "marks"
   ]
  },
  {
   "cell_type": "code",
   "execution_count": null,
   "id": "e60b2034-830f-444b-9c33-43b0a08bddad",
   "metadata": {},
   "outputs": [],
   "source": []
  }
 ],
 "metadata": {
  "kernelspec": {
   "display_name": "Python 3 (ipykernel)",
   "language": "python",
   "name": "python3"
  },
  "language_info": {
   "codemirror_mode": {
    "name": "ipython",
    "version": 3
   },
   "file_extension": ".py",
   "mimetype": "text/x-python",
   "name": "python",
   "nbconvert_exporter": "python",
   "pygments_lexer": "ipython3",
   "version": "3.9.13"
  }
 },
 "nbformat": 4,
 "nbformat_minor": 5
}
